{
 "cells": [
  {
   "cell_type": "markdown",
   "id": "7580457d",
   "metadata": {},
   "source": [
    "# 自动微分(automatic differentiation)\n",
    "根据设计好的模型，系统会构建一个计算图（computational graph）， 来跟踪计算是哪些数据通过哪些操作组合起来产生输出。 自动微分使系统能够随后反向传播梯度。 这里，反向传播（backpropagate）意味着跟踪整个计算图，填充关于每个参数的偏导数。"
   ]
  },
  {
   "cell_type": "code",
   "execution_count": 1,
   "id": "4c295085",
   "metadata": {},
   "outputs": [],
   "source": [
    "import torch"
   ]
  },
  {
   "cell_type": "code",
   "execution_count": 2,
   "id": "bce4435e",
   "metadata": {},
   "outputs": [],
   "source": [
    "x = torch.arange(4.0, requires_grad=True)\n",
    "\"\"\"\n",
    "x = torch.arange(4.0)\n",
    "x.requires_grad_(True)\n",
    "\"\"\"\n",
    "x.grad"
   ]
  },
  {
   "cell_type": "code",
   "execution_count": 3,
   "id": "0520d296",
   "metadata": {},
   "outputs": [
    {
     "data": {
      "text/plain": [
       "tensor([ 0.,  4.,  8., 12.])"
      ]
     },
     "execution_count": 3,
     "metadata": {},
     "output_type": "execute_result"
    }
   ],
   "source": [
    "y = 2 * torch.dot(x, x)\n",
    "y.backward()\n",
    "x.grad"
   ]
  },
  {
   "cell_type": "markdown",
   "id": "293ad930",
   "metadata": {},
   "source": [
    ">**Note**: 在默认情况下，PyTorch会累积梯度，需要清除之前的值"
   ]
  },
  {
   "cell_type": "code",
   "execution_count": 4,
   "id": "2dc80ebd",
   "metadata": {},
   "outputs": [
    {
     "data": {
      "text/plain": [
       "tensor([1., 1., 1., 1.])"
      ]
     },
     "execution_count": 4,
     "metadata": {},
     "output_type": "execute_result"
    }
   ],
   "source": [
    "x.grad.zero_()\n",
    "y = x.sum()\n",
    "y.backward()\n",
    "x.grad"
   ]
  },
  {
   "cell_type": "markdown",
   "id": "502fee22",
   "metadata": {},
   "source": [
    "## 分离计算\n",
    "有时，我们希望将某些计算移动到记录的计算图之外。例如，假设$y$是作为$x$的函数计算的，而$z$则是作为$y$和$x$的函数计算的。想象一下，我们想计算$z$关于$x$的梯度，但由于某种原因，希望将$y$视为一个常数，并且只考虑到$x$在$y$被计算后发挥的作用。  \n",
    "这里可以分离$y$来返回一个新变量$u$，该变量与$y$具有相同的值，但丢弃计算图中如何计算$y$的任何信息。换句话说，梯度不会向后流经$u$到$x$。因此，下面的反向传播函数计算$z=u\\cdot x$关于$x$的偏导数，同时将$u$作为常数处理，而不是$z=x^3$关于$x$的偏导数。"
   ]
  },
  {
   "cell_type": "code",
   "execution_count": 5,
   "id": "621d5ec4",
   "metadata": {},
   "outputs": [
    {
     "name": "stdout",
     "output_type": "stream",
     "text": [
      "u = tensor([0., 1., 4., 9.], grad_fn=<MulBackward0>)\n",
      "x.grad = tensor([ 0.,  3., 12., 27.])\n"
     ]
    },
    {
     "data": {
      "text/plain": [
       "True"
      ]
     },
     "execution_count": 5,
     "metadata": {},
     "output_type": "execute_result"
    }
   ],
   "source": [
    "x.grad.zero_()\n",
    "y = x * x\n",
    "u = y\n",
    "print(\"u =\", u)\n",
    "z = u * x\n",
    "z.sum().backward()\n",
    "print(\"x.grad =\", x.grad)\n",
    "torch.equal(x.grad, 3 * x**2)"
   ]
  },
  {
   "cell_type": "code",
   "execution_count": 6,
   "id": "10a97312",
   "metadata": {},
   "outputs": [
    {
     "name": "stdout",
     "output_type": "stream",
     "text": [
      "x = tensor([0., 1., 2., 3.], requires_grad=True)\n",
      "y = tensor([0., 1., 4., 9.], grad_fn=<MulBackward0>)\n",
      "u = tensor([0., 1., 4., 9.])\n",
      "z = tensor([ 0.,  1.,  8., 27.], grad_fn=<MulBackward0>)\n",
      "x.grad = tensor([0., 1., 4., 9.])\n",
      "u.grad = None\n"
     ]
    },
    {
     "data": {
      "text/plain": [
       "True"
      ]
     },
     "execution_count": 6,
     "metadata": {},
     "output_type": "execute_result"
    }
   ],
   "source": [
    "x.grad.zero_()\n",
    "y = x * x\n",
    "u = y.detach()\n",
    "z = u * x\n",
    "z.sum().backward()\n",
    "print(\"x =\", x)\n",
    "print(\"y =\", y)\n",
    "print(\"u =\", u)\n",
    "print(\"z =\", z)\n",
    "print(\"x.grad =\", x.grad)\n",
    "print(\"u.grad =\", u.grad)\n",
    "torch.equal(x.grad, u)"
   ]
  },
  {
   "cell_type": "markdown",
   "id": "3746d693",
   "metadata": {},
   "source": [
    "由于记录了$y$的计算结果，我们可以随后在$y$上调用反向传播，得到$y=x\\cdot x$关于的$x$的导数，即$2\\cdot x$。"
   ]
  },
  {
   "cell_type": "code",
   "execution_count": 7,
   "id": "5f6a20cb",
   "metadata": {},
   "outputs": [
    {
     "name": "stdout",
     "output_type": "stream",
     "text": [
      "x.grad = tensor([0., 2., 4., 6.])\n"
     ]
    },
    {
     "data": {
      "text/plain": [
       "True"
      ]
     },
     "execution_count": 7,
     "metadata": {},
     "output_type": "execute_result"
    }
   ],
   "source": [
    "x.grad.zero_()\n",
    "y.sum().backward()\n",
    "print(\"x.grad =\", x.grad)\n",
    "torch.equal(x.grad, 2 * x)"
   ]
  },
  {
   "cell_type": "markdown",
   "id": "32c54936",
   "metadata": {},
   "source": [
    "## 控制流的梯度计算¶\n",
    "使用自动微分的一个好处是： 即使构建函数的计算图需要通过Python控制流（例如，条件、循环或任意函数调用），我们仍然可以计算得到的变量的梯度。 在下面的代码中，while循环的迭代次数和if语句的结果都取决于输入a的值。"
   ]
  },
  {
   "cell_type": "code",
   "execution_count": 8,
   "id": "78ac0bf3",
   "metadata": {},
   "outputs": [
    {
     "name": "stdout",
     "output_type": "stream",
     "text": [
      "x = tensor(-0.5619, requires_grad=True)\n",
      "y = tensor(-115075.4375, grad_fn=<MulBackward0>)\n",
      "x.grad = tensor(204800.)\n"
     ]
    },
    {
     "data": {
      "text/plain": [
       "True"
      ]
     },
     "execution_count": 8,
     "metadata": {},
     "output_type": "execute_result"
    }
   ],
   "source": [
    "def f(a):\n",
    "    b = a * 2\n",
    "    while b.norm() < 1000:\n",
    "        b = b * 2\n",
    "    if b.sum() > 0:\n",
    "        c = b\n",
    "    else:\n",
    "        c = 100 * b\n",
    "    return c\n",
    "x = torch.randn(size=(), requires_grad=True)\n",
    "y = f(x)\n",
    "y.backward()\n",
    "print(\"x =\", x)\n",
    "print(\"y =\", y)\n",
    "print(\"x.grad =\", x.grad)\n",
    "torch.equal(x.grad, y / x)"
   ]
  },
  {
   "cell_type": "markdown",
   "id": "75c786dc",
   "metadata": {},
   "source": [
    "# 线性回归"
   ]
  },
  {
   "cell_type": "code",
   "execution_count": null,
   "id": "92fd8ad7",
   "metadata": {},
   "outputs": [],
   "source": [
    "import torch, random\n",
    "from torch import nn\n",
    "from torch.utils import data\n",
    "from matplotlib import pyplot as plt"
   ]
  },
  {
   "cell_type": "markdown",
   "id": "be60b62d",
   "metadata": {},
   "source": [
    "## 生成数据集"
   ]
  },
  {
   "cell_type": "code",
   "execution_count": null,
   "id": "db7a0699",
   "metadata": {},
   "outputs": [],
   "source": [
    "def synthetic_data(w, b, num_examples):\n",
    "    \"\"\"生成y=Xw+b+噪声\"\"\"\n",
    "    X = torch.normal(0, 1, (num_examples, len(w)))\n",
    "    y = torch.matmul(X, w) + b\n",
    "    y += torch.normal(0, 0.01, y.shape)\n",
    "    return X, y.reshape((-1, 1))\n",
    "\n",
    "true_w = torch.tensor([2, -3.4])\n",
    "true_b = 4.2\n",
    "features, labels = synthetic_data(true_w, true_b, 1000)"
   ]
  },
  {
   "cell_type": "code",
   "execution_count": null,
   "id": "580dadd4",
   "metadata": {},
   "outputs": [],
   "source": [
    "features.size()"
   ]
  },
  {
   "cell_type": "code",
   "execution_count": null,
   "id": "bd6fb232",
   "metadata": {},
   "outputs": [],
   "source": [
    "labels.size()"
   ]
  },
  {
   "cell_type": "code",
   "execution_count": null,
   "id": "f8d1d7ca",
   "metadata": {},
   "outputs": [],
   "source": [
    "plt.scatter(features[:, (1)].detach().numpy(), labels.detach().numpy(), 1)"
   ]
  },
  {
   "cell_type": "markdown",
   "id": "f7465c4e",
   "metadata": {},
   "source": [
    "## 读取数据集"
   ]
  },
  {
   "cell_type": "code",
   "execution_count": null,
   "id": "89b3c8e7",
   "metadata": {},
   "outputs": [],
   "source": [
    "batch_size = 10\n",
    "data_iter = data.DataLoader(data.TensorDataset(features, labels), batch_size=batch_size, shuffle=True)\n",
    "X, y = next(iter(data_iter))\n",
    "X, y"
   ]
  },
  {
   "attachments": {
    "image.png": {
     "image/png": "[encoded data removed]"
    }
   },
   "cell_type": "markdown",
   "id": "e84fc505",
   "metadata": {},
   "source": [
    "## 定义模型\n",
    "![image.png](attachment:image.png)\n",
    "$$\\hat{y} = w_1  x_1 + ... + w_d  x_d + b = \\mathbf{w}^\\top \\mathbf{x} + b,\\ where\\ \\mathbf{x} \\in \\mathbb{R}^d, \\mathbf{w} \\in \\mathbb{R}^d$$\n",
    "$${\\hat{\\mathbf{y}}} = \\mathbf{X} \\mathbf{w} + b,\\ where\\ \\mathbf{X} \\in \\mathbb{R}^{n \\times d}$$\n",
    "$\\mathbf{X}$的每一行是一个样本.\n",
    "Sequential类将多个层串联在一起"
   ]
  },
  {
   "cell_type": "code",
   "execution_count": null,
   "id": "673a1921",
   "metadata": {},
   "outputs": [],
   "source": [
    "net = nn.Sequential(nn.Linear(2, 1))\n",
    "net"
   ]
  },
  {
   "cell_type": "markdown",
   "id": "bdd7db03",
   "metadata": {},
   "source": [
    "## 参数初始化\n",
    "1. 通过`net[0]`选择网络中的第一个图层\n",
    "2. 使用`weight.data`和`bias.data`方法访问参数\n",
    "3. 使用替换方法`normal_`和`fill_`来重写参数值"
   ]
  },
  {
   "cell_type": "code",
   "execution_count": null,
   "id": "be7236a2",
   "metadata": {},
   "outputs": [],
   "source": [
    "net[0].weight.data"
   ]
  },
  {
   "cell_type": "code",
   "execution_count": null,
   "id": "e6d82030",
   "metadata": {},
   "outputs": [],
   "source": [
    "net[0].bias.data"
   ]
  },
  {
   "cell_type": "code",
   "execution_count": null,
   "id": "bda06ec2",
   "metadata": {},
   "outputs": [],
   "source": [
    "net[0].weight.data.normal_(0, 0.01)"
   ]
  },
  {
   "cell_type": "code",
   "execution_count": null,
   "id": "e486dbc6",
   "metadata": {},
   "outputs": [],
   "source": [
    "net[0].bias.data.fill_(1)"
   ]
  },
  {
   "cell_type": "markdown",
   "id": "bcdef7ba",
   "metadata": {},
   "source": [
    "* 验证模型和初始化参数"
   ]
  },
  {
   "cell_type": "code",
   "execution_count": null,
   "id": "b55d3d09",
   "metadata": {},
   "outputs": [],
   "source": [
    "y_hat = torch.matmul(X, net[0].weight.data.T) + net[0].bias.data\n",
    "torch.equal(y_hat, net(X))"
   ]
  },
  {
   "cell_type": "markdown",
   "id": "9812aaee",
   "metadata": {},
   "source": [
    "## 损失函数"
   ]
  },
  {
   "cell_type": "code",
   "execution_count": null,
   "id": "f43ad296",
   "metadata": {},
   "outputs": [],
   "source": [
    "loss = nn.MSELoss()"
   ]
  },
  {
   "cell_type": "markdown",
   "id": "52b71692",
   "metadata": {},
   "source": [
    "* 验证损失函数值"
   ]
  },
  {
   "cell_type": "code",
   "execution_count": null,
   "id": "659c9f3f",
   "metadata": {},
   "outputs": [],
   "source": [
    "torch.sum((y_hat - y) ** 2)/y.numel()"
   ]
  },
  {
   "cell_type": "code",
   "execution_count": null,
   "id": "0c57d82f",
   "metadata": {},
   "outputs": [],
   "source": [
    "loss(net(X) ,y)"
   ]
  },
  {
   "cell_type": "markdown",
   "id": "5e316927",
   "metadata": {},
   "source": [
    "## 优化算法\n",
    "待优化的参数可通过net.parameters()获得"
   ]
  },
  {
   "cell_type": "code",
   "execution_count": null,
   "id": "44c9944f",
   "metadata": {},
   "outputs": [],
   "source": [
    "trainer = torch.optim.SGD(net.parameters(), lr=0.03)"
   ]
  },
  {
   "cell_type": "markdown",
   "id": "7fb5cb88",
   "metadata": {},
   "source": [
    "## 训练"
   ]
  },
  {
   "cell_type": "code",
   "execution_count": null,
   "id": "49387c4d",
   "metadata": {},
   "outputs": [],
   "source": [
    "num_epochs = 3\n",
    "for epoch in range(num_epochs):\n",
    "    if isinstance(net, torch.nn.Module):\n",
    "        net.train()         # 将模型设置为训练模式\n",
    "    for X, y in data_iter:\n",
    "        l = loss(net(X) ,y) # 计算损失函数loss（前向传播）\n",
    "        trainer.zero_grad()\n",
    "        l.backward()        # 进行反向传播来计算梯度\n",
    "        trainer.step()      # 用优化器来更新模型参数\n",
    "    \n",
    "    if isinstance(net, torch.nn.Module):\n",
    "        net.eval()          # 将模型设置为评估模式\n",
    "    with torch.no_grad():\n",
    "        l = loss(net(features), labels)\n",
    "        print(f'epoch {epoch + 1}, loss {l:f}')"
   ]
  },
  {
   "cell_type": "code",
   "execution_count": null,
   "id": "971012d8",
   "metadata": {},
   "outputs": [],
   "source": [
    "w = net[0].weight.data\n",
    "print('w的估计误差：', true_w - w.reshape(true_w.shape))\n",
    "b = net[0].bias.data\n",
    "print('b的估计误差：', true_b - b)"
   ]
  },
  {
   "cell_type": "markdown",
   "id": "204e7aac",
   "metadata": {},
   "source": [
    "# softmax回归"
   ]
  },
  {
   "cell_type": "code",
   "execution_count": null,
   "id": "693d687c",
   "metadata": {},
   "outputs": [],
   "source": [
    "import torch, torchvision, time\n",
    "from torch import nn\n",
    "from torchvision import transforms\n",
    "from torch.utils import data\n",
    "from matplotlib import pyplot as plt\n",
    "from IPython import display"
   ]
  },
  {
   "cell_type": "markdown",
   "id": "9b7ce13a",
   "metadata": {},
   "source": [
    "## 下载数据集"
   ]
  },
  {
   "cell_type": "code",
   "execution_count": null,
   "id": "fd3c7463",
   "metadata": {},
   "outputs": [],
   "source": [
    "trans = transforms.ToTensor()\n",
    "mnist_train = torchvision.datasets.FashionMNIST(root=\"../../temp\", train=True, transform=trans, download=True)\n",
    "mnist_test = torchvision.datasets.FashionMNIST( root=\"../../temp\", train=False, transform=trans, download=True)"
   ]
  },
  {
   "cell_type": "code",
   "execution_count": null,
   "id": "a9c498fc",
   "metadata": {},
   "outputs": [],
   "source": [
    "print(\"训练集中的样本数量 =\", len(mnist_train), \", 测试集中的样本数量\", len(mnist_test))"
   ]
  },
  {
   "cell_type": "code",
   "execution_count": null,
   "id": "3ad6d1a4",
   "metadata": {},
   "outputs": [],
   "source": [
    "print(\"size of input of first sample =\", mnist_train[0][0].shape)"
   ]
  },
  {
   "cell_type": "code",
   "execution_count": null,
   "id": "58e52385",
   "metadata": {},
   "outputs": [],
   "source": [
    "print(\"label of first sample =\", mnist_train[0][1])"
   ]
  },
  {
   "cell_type": "markdown",
   "id": "b5040e63",
   "metadata": {},
   "source": [
    "## 读取数据集"
   ]
  },
  {
   "cell_type": "markdown",
   "id": "a3f7740e",
   "metadata": {},
   "source": [
    "### 部分数据可视化"
   ]
  },
  {
   "cell_type": "code",
   "execution_count": null,
   "id": "59308652",
   "metadata": {},
   "outputs": [],
   "source": [
    "def get_fashion_mnist_labels(labels):\n",
    "    \"\"\"返回Fashion-MNIST数据集的文本标签\"\"\"\n",
    "    text_labels = ['t-shirt', 'trouser', 'pullover', 'dress', 'coat',\n",
    "                   'sandal', 'shirt', 'sneaker', 'bag', 'ankle boot']\n",
    "    return [text_labels[int(i)] for i in labels]"
   ]
  },
  {
   "cell_type": "code",
   "execution_count": null,
   "id": "013f03fb",
   "metadata": {},
   "outputs": [],
   "source": [
    "def show_images(imgs, num_rows, num_cols, titles=None, scale=1.5):\n",
    "    \"\"\"绘制图像列表\"\"\"\n",
    "    figsize = (num_cols * scale, num_rows * scale)\n",
    "    _, axes = plt.subplots(num_rows, num_cols, figsize=figsize)\n",
    "    axes = axes.flatten()\n",
    "    for i, (ax, img) in enumerate(zip(axes, imgs)):\n",
    "        if torch.is_tensor(img):\n",
    "            # 图片张量\n",
    "            ax.imshow(img.numpy())\n",
    "        else:\n",
    "            # PIL图片\n",
    "            ax.imshow(img)\n",
    "        ax.axes.get_xaxis().set_visible(False)\n",
    "        ax.axes.get_yaxis().set_visible(False)\n",
    "        if titles:\n",
    "            ax.set_title(titles[i])\n",
    "    return axes"
   ]
  },
  {
   "cell_type": "code",
   "execution_count": null,
   "id": "543f5c1b",
   "metadata": {},
   "outputs": [],
   "source": [
    "batch_size = 10\n",
    "data_iter = data.DataLoader(mnist_train,\n",
    "                            batch_size=batch_size,\n",
    "                            shuffle=True,  # 随机打乱所有样本\n",
    "                            num_workers=4) # 使用4个进程来读取数据                                                              \n",
    "\n",
    "X, y = next(iter(data_iter))\n",
    "show_images(X.reshape(batch_size, 28, 28), 2, int(batch_size/2), titles=get_fashion_mnist_labels(y));"
   ]
  },
  {
   "cell_type": "markdown",
   "id": "cdebfec0",
   "metadata": {},
   "source": [
    "### 多进程来读取数据对比"
   ]
  },
  {
   "cell_type": "code",
   "execution_count": null,
   "id": "2aa8832e",
   "metadata": {},
   "outputs": [],
   "source": [
    "start = time.time()\n",
    "for X, y in data.DataLoader(mnist_train, batch_size=256):\n",
    "    continue\n",
    "end = time.time()\n",
    "print(end - start, \"sec\")"
   ]
  },
  {
   "cell_type": "code",
   "execution_count": null,
   "id": "c3fab3a0",
   "metadata": {},
   "outputs": [],
   "source": [
    "start = time.time()\n",
    "for X, y in data.DataLoader(mnist_train, batch_size=256, num_workers=4):\n",
    "    continue\n",
    "end = time.time()\n",
    "print(end - start, \"sec\")"
   ]
  },
  {
   "cell_type": "markdown",
   "id": "aad5e438",
   "metadata": {},
   "source": [
    "### 训练和测试数据"
   ]
  },
  {
   "cell_type": "code",
   "execution_count": null,
   "id": "b08a60d9",
   "metadata": {},
   "outputs": [],
   "source": [
    "batch_size = 256\n",
    "train_iter = data.DataLoader(mnist_train, batch_size, shuffle=True, num_workers=4)\n",
    "test_iter = data.DataLoader(mnist_test, batch_size, shuffle=True, num_workers=4)"
   ]
  },
  {
   "attachments": {
    "image.png": {
     "image/png": "[encoded data removed]"
    }
   },
   "cell_type": "markdown",
   "id": "bd780125",
   "metadata": {},
   "source": [
    "## 定义模型\n",
    "![image.png](attachment:image.png)"
   ]
  },
  {
   "cell_type": "code",
   "execution_count": null,
   "id": "c15e9b70",
   "metadata": {},
   "outputs": [],
   "source": [
    "net = nn.Sequential(nn.Flatten(), nn.Linear(784, 10))"
   ]
  },
  {
   "cell_type": "code",
   "execution_count": null,
   "id": "64119bd5",
   "metadata": {},
   "outputs": [],
   "source": [
    "net"
   ]
  },
  {
   "cell_type": "markdown",
   "id": "1c362669",
   "metadata": {},
   "source": [
    "## 参数初始化"
   ]
  },
  {
   "cell_type": "code",
   "execution_count": null,
   "id": "492b1d5f",
   "metadata": {},
   "outputs": [],
   "source": [
    "for ii in range(len(net)):\n",
    "    print(ii, type(net[ii]) == nn.Linear)"
   ]
  },
  {
   "cell_type": "markdown",
   "id": "bf2f81f8",
   "metadata": {},
   "source": [
    "### [torch.nn.init.normal_(tensor, mean=0.0, std=1.0)](https://pytorch.org/docs/stable/nn.init.html#torch.nn.init.normal_)"
   ]
  },
  {
   "cell_type": "code",
   "execution_count": null,
   "id": "263109b4",
   "metadata": {},
   "outputs": [],
   "source": [
    "nn.init.normal_(net[1].weight, mean=0.0, std=0.01)"
   ]
  },
  {
   "cell_type": "markdown",
   "id": "ca457e45",
   "metadata": {},
   "source": [
    "### 方法2"
   ]
  },
  {
   "cell_type": "code",
   "execution_count": null,
   "id": "9e6edda7",
   "metadata": {},
   "outputs": [],
   "source": [
    "net[1].weight.data.normal_(0.0, 0.01)"
   ]
  },
  {
   "cell_type": "markdown",
   "id": "b0028788",
   "metadata": {},
   "source": [
    "### 打印参数"
   ]
  },
  {
   "cell_type": "code",
   "execution_count": null,
   "id": "725ef4fd",
   "metadata": {},
   "outputs": [],
   "source": [
    "net[1].weight.data"
   ]
  },
  {
   "cell_type": "markdown",
   "id": "fb484626",
   "metadata": {},
   "source": [
    "## 损失函数"
   ]
  },
  {
   "cell_type": "markdown",
   "id": "68c0558e",
   "metadata": {},
   "source": [
    "$n$样本数量, $d$单个样本的输入维度, $q$单个样本的输出维度, 即种类总数  \n",
    "单个样本的loss:\n",
    "$$\\begin{split}\\begin{aligned}\n",
    "l(\\mathbf{y}, \\hat{\\mathbf{y}}) &= - \\sum_{j=1}^q y_j \\log \\hat{y}_j \\ (\\because \\hat{y}_j = \\mathrm{softmax}(o_j) = \\frac{\\exp(o_j)}{\\sum_{k=1}^q \\exp(o_k)})\\\\\n",
    "&=  - \\sum_{j=1}^q y_j \\log \\frac{\\exp(o_j)}{\\sum_{k=1}^q \\exp(o_k)} \\\\\n",
    "&= \\sum_{j=1}^q y_j \\log \\sum_{k=1}^q \\exp(o_k) - \\sum_{j=1}^q y_j o_j \\ (\\because \\sum_{j=1}^q y_j = 1)\\\\\n",
    "&= \\log \\sum_{k=1}^q \\exp(o_k) - \\sum_{j=1}^q y_j o_j\n",
    "\\end{aligned}\\end{split}$$\n",
    "其导数:\n",
    "$$ \\frac{\\partial  l(\\mathbf{y}, \\hat{\\mathbf{y}})}{\\partial {o_j}} = \\frac{\\exp(o_j)}{\\sum_{k=1}^q \\exp(o_k)} - y_j = \\mathrm{softmax}(o_j) - y_j $$\n",
    "\n",
    "$n$个样本的loss:\n",
    "$$ \\sum_{i=1}^n l(\\mathbf{y}^{(i)}, \\hat{\\mathbf{y}}^{(i)})$$"
   ]
  },
  {
   "cell_type": "code",
   "execution_count": null,
   "id": "97a659a9",
   "metadata": {},
   "outputs": [],
   "source": [
    "loss = nn.CrossEntropyLoss(reduction='none')"
   ]
  },
  {
   "cell_type": "markdown",
   "id": "ff951042",
   "metadata": {},
   "source": [
    "### 验证"
   ]
  },
  {
   "cell_type": "markdown",
   "id": "5a989559",
   "metadata": {},
   "source": [
    "1. softmax 函数"
   ]
  },
  {
   "cell_type": "code",
   "execution_count": null,
   "id": "3a3c3c78",
   "metadata": {},
   "outputs": [],
   "source": [
    "X2 = torch.normal(0, 1, (2, 5))\n",
    "X2"
   ]
  },
  {
   "cell_type": "code",
   "execution_count": null,
   "id": "9af41aeb",
   "metadata": {
    "scrolled": true
   },
   "outputs": [],
   "source": [
    "def softmax(X):\n",
    "    X_exp = torch.exp(X)\n",
    "    partition = X_exp.sum(1, keepdim=True)\n",
    "    return X_exp / partition\n",
    "\n",
    "X_prob = softmax(X2)\n",
    "X_prob"
   ]
  },
  {
   "cell_type": "markdown",
   "id": "7d19b2a4",
   "metadata": {},
   "source": [
    "* 分步验证"
   ]
  },
  {
   "cell_type": "code",
   "execution_count": null,
   "id": "0fcabc42",
   "metadata": {},
   "outputs": [],
   "source": [
    "X_exp = torch.exp(X2)\n",
    "X_exp"
   ]
  },
  {
   "cell_type": "code",
   "execution_count": null,
   "id": "853cabd8",
   "metadata": {},
   "outputs": [],
   "source": [
    "partition = X_exp.sum(1, keepdim=True)\n",
    "partition"
   ]
  },
  {
   "cell_type": "code",
   "execution_count": null,
   "id": "8b8a4bd2",
   "metadata": {},
   "outputs": [],
   "source": [
    "X_prob = X_exp / partition\n",
    "X_prob"
   ]
  },
  {
   "cell_type": "code",
   "execution_count": null,
   "id": "d7f9ad39",
   "metadata": {},
   "outputs": [],
   "source": [
    "X_prob.sum(1)"
   ]
  },
  {
   "cell_type": "markdown",
   "id": "b501776a",
   "metadata": {},
   "source": [
    "2. 验证模型和初始参数"
   ]
  },
  {
   "cell_type": "code",
   "execution_count": null,
   "id": "fe7e6a23",
   "metadata": {},
   "outputs": [],
   "source": [
    "X, y = next(iter(data_iter))\n",
    "Output = torch.matmul(X.reshape((-1, net[1].weight.data.T.shape[0])), net[1].weight.data.T) + net[1].bias.data\n",
    "torch.equal(Output, net(X))"
   ]
  },
  {
   "cell_type": "markdown",
   "id": "39afb7e0",
   "metadata": {},
   "source": [
    "3. 验证loss<span id='id_loss'></span>"
   ]
  },
  {
   "cell_type": "code",
   "execution_count": null,
   "id": "03ab184f",
   "metadata": {},
   "outputs": [],
   "source": [
    "def cross_entropy(y_hat, y):\n",
    "    return - torch.log(y_hat[range(len(y_hat)), y])"
   ]
  },
  {
   "cell_type": "code",
   "execution_count": null,
   "id": "d258af06",
   "metadata": {},
   "outputs": [],
   "source": [
    "y_hat = softmax(Output)\n",
    "print(\"y =\", y)"
   ]
  },
  {
   "cell_type": "code",
   "execution_count": null,
   "id": "4d50c7c8",
   "metadata": {},
   "outputs": [],
   "source": [
    "cross_entropy(y_hat, y)"
   ]
  },
  {
   "cell_type": "code",
   "execution_count": null,
   "id": "5e5d4e3c",
   "metadata": {},
   "outputs": [],
   "source": [
    "loss(net(X) ,y)"
   ]
  },
  {
   "cell_type": "markdown",
   "id": "0fcfc515",
   "metadata": {},
   "source": [
    "## 优化算法"
   ]
  },
  {
   "cell_type": "code",
   "execution_count": null,
   "id": "693699da",
   "metadata": {},
   "outputs": [],
   "source": [
    "optimizer = torch.optim.SGD(net.parameters(), lr=0.1)"
   ]
  },
  {
   "cell_type": "markdown",
   "id": "4231d0ad",
   "metadata": {},
   "source": [
    "## 训练"
   ]
  },
  {
   "cell_type": "markdown",
   "id": "bf44de39",
   "metadata": {},
   "source": [
    "### 准备(累加器和动画)"
   ]
  },
  {
   "cell_type": "code",
   "execution_count": null,
   "id": "3ba184dd",
   "metadata": {},
   "outputs": [],
   "source": [
    "class Accumulator: # 累加器\n",
    "    \"\"\"For accumulating sums over `n` variables.\"\"\"\n",
    "    def __init__(self, n):\n",
    "        \"\"\"Defined in :numref:`sec_softmax_scratch`\"\"\"\n",
    "        self.data = [0.0] * n\n",
    "\n",
    "    def add(self, *args):\n",
    "        self.data = [a + float(b) for a, b in zip(self.data, args)]\n",
    "\n",
    "    def reset(self):\n",
    "        self.data = [0.0] * len(self.data)\n",
    "\n",
    "    def __getitem__(self, idx):\n",
    "        return self.data[idx]"
   ]
  },
  {
   "cell_type": "code",
   "execution_count": null,
   "id": "25e6189d",
   "metadata": {},
   "outputs": [],
   "source": [
    "class Animator:\n",
    "    \"\"\"在动画中绘制数据\"\"\"\n",
    "    def __init__(self, xlabel=None, ylabel=None, legend=None, xlim=None,\n",
    "                 ylim=None, xscale='linear', yscale='linear',\n",
    "                 fmts=('-', 'm--', 'g-.', 'r:'), nrows=1, ncols=1,\n",
    "                 figsize=(3.5, 2.5)):\n",
    "        # 增量地绘制多条线\n",
    "        if legend is None:\n",
    "            legend = []\n",
    "        self.fig, self.axes = plt.subplots(nrows, ncols, figsize=figsize)\n",
    "        if nrows * ncols == 1:\n",
    "            self.axes = [self.axes, ]\n",
    "        # 使用lambda函数捕获参数\n",
    "        self.config_axes = lambda: self.set_axes(self.axes[0], xlabel, ylabel, xlim, ylim, xscale, yscale, legend)\n",
    "        self.X, self.Y, self.fmts = None, None, fmts\n",
    "        \n",
    "    def set_axes(self, axes, xlabel, ylabel, xlim, ylim, xscale, yscale, legend):\n",
    "        \"\"\"Set the axes for matplotlib\"\"\"\n",
    "        axes.set_xlabel(xlabel)\n",
    "        axes.set_ylabel(ylabel)\n",
    "        axes.set_xscale(xscale)\n",
    "        axes.set_yscale(yscale)\n",
    "        axes.set_xlim(xlim)\n",
    "        axes.set_ylim(ylim)\n",
    "        if legend:\n",
    "            axes.legend(legend)\n",
    "        axes.grid()\n",
    "        \n",
    "    def add(self, x, y):\n",
    "        # 向图表中添加多个数据点\n",
    "        if not hasattr(y, \"__len__\"):\n",
    "            y = [y]\n",
    "        n = len(y)\n",
    "        if not hasattr(x, \"__len__\"):\n",
    "            x = [x] * n\n",
    "        if not self.X:\n",
    "            self.X = [[] for _ in range(n)]\n",
    "        if not self.Y:\n",
    "            self.Y = [[] for _ in range(n)]\n",
    "        for i, (a, b) in enumerate(zip(x, y)):\n",
    "            if a is not None and b is not None:\n",
    "                self.X[i].append(a)\n",
    "                self.Y[i].append(b)\n",
    "        self.axes[0].cla()\n",
    "        for x, y, fmt in zip(self.X, self.Y, self.fmts):\n",
    "            self.axes[0].plot(x, y, fmt)\n",
    "        self.config_axes()\n",
    "        display.display(self.fig)\n",
    "        display.clear_output(wait=True)"
   ]
  },
  {
   "cell_type": "markdown",
   "id": "62ea99cd",
   "metadata": {},
   "source": [
    "### 定义分类正确函数\n",
    "分类概率->分类结果"
   ]
  },
  {
   "cell_type": "code",
   "execution_count": null,
   "id": "9d924342",
   "metadata": {},
   "outputs": [],
   "source": [
    "def accuracy(y_hat, y):\n",
    "    \"\"\"计算分类正确次数\"\"\"\n",
    "    if len(y_hat.shape) > 1 and y_hat.shape[1] > 1:\n",
    "        y_hat = y_hat.argmax(axis=1)\n",
    "    cmp = y_hat.type(y.dtype) == y\n",
    "    return float(cmp.type(y.dtype).sum())"
   ]
  },
  {
   "cell_type": "markdown",
   "id": "ecad355a",
   "metadata": {},
   "source": [
    "* 分步验证  \n",
    "`y_hat` & `y` defined in [验证loss](#id_loss)"
   ]
  },
  {
   "cell_type": "code",
   "execution_count": null,
   "id": "ff00b722",
   "metadata": {},
   "outputs": [],
   "source": [
    "if len(y_hat.shape) > 1 and y_hat.shape[1] > 1:\n",
    "    y_hat = y_hat.argmax(axis=1)\n",
    "print(\"y_hat =\", y_hat)\n",
    "print(\"y =    \", y)\n",
    "cmp = y_hat.type(y.dtype) == y # 由于等式运算符“==”对数据类型很敏感， 因此我们将y_hat的数据类型转换为与y的数据类型一致\n",
    "print(\"cmp =  \", cmp)\n",
    "print(\"分类正确的次数 =\", float(cmp.type(y.dtype).sum()))"
   ]
  },
  {
   "cell_type": "markdown",
   "id": "2f1110ee",
   "metadata": {},
   "source": [
    "### 使用训练集，训练模型"
   ]
  },
  {
   "cell_type": "code",
   "execution_count": null,
   "id": "a61d65a4",
   "metadata": {},
   "outputs": [],
   "source": [
    "def train(net, train_iter, loss, optimizer):\n",
    "    if isinstance(net, torch.nn.Module):\n",
    "        net.train()                    # 将模型设置为训练模式\n",
    "    metric = Accumulator(3)            # 累加器\n",
    "    for X, y in train_iter:\n",
    "        y_hat = net(X)\n",
    "        l = loss(y_hat, y)             # 计算损失函数loss（前向传播）\n",
    "        optimizer.zero_grad()\n",
    "        l.mean().backward()            # 进行反向传播来计算梯度\n",
    "        optimizer.step()               # 用优化器来更新模型参数\n",
    "\n",
    "        metric.add(float(l.sum()),     # 训练损失总和\n",
    "                   accuracy(y_hat, y), # 训练准确度总和\n",
    "                   y.size(0))          # 样本数\n",
    "    return metric[0] / metric[2], metric[1] / metric[2] # 返回训练集的平均损失和分类准确率"
   ]
  },
  {
   "cell_type": "markdown",
   "id": "642504df",
   "metadata": {},
   "source": [
    "### 使用测试集，评估模型"
   ]
  },
  {
   "cell_type": "code",
   "execution_count": null,
   "id": "80da8651",
   "metadata": {},
   "outputs": [],
   "source": [
    "def evaluate(net, test_iter):\n",
    "    \"\"\"计算在指定数据集上模型的精度\"\"\"\n",
    "    if isinstance(net, torch.nn.Module):\n",
    "        net.eval()                          # 将模型设置为评估模式\n",
    "    metric = Accumulator(2)                 # 累加器\n",
    "    with torch.no_grad():\n",
    "        for X, y in test_iter:\n",
    "            metric.add(accuracy(net(X), y), # 当前分类正确次数\n",
    "                       y.size(0))           # 当前样本数量\n",
    "\n",
    "    return metric[0] / metric[1]           # 返回测试集的分类准确率"
   ]
  },
  {
   "cell_type": "markdown",
   "id": "e7652962",
   "metadata": {},
   "source": [
    "### 运行多个迭代周期。 在每个迭代周期结束时，利用test_iter访问到的测试数据集对模型进行评估。"
   ]
  },
  {
   "cell_type": "code",
   "execution_count": null,
   "id": "85caa261",
   "metadata": {},
   "outputs": [],
   "source": [
    "num_epochs = 10\n",
    "animator = Animator(xlabel='epoch', xlim=[1, num_epochs], ylim=[0.3, 0.9], legend=[\"train loss\", \"train acc\", \"test acc\"])\n",
    "\n",
    "for epoch in range(num_epochs):\n",
    "    train_metrics = train(net, train_iter, loss, optimizer) # 训练模型\n",
    "    test_acc = evaluate(net, test_iter)                     # 评估模型\n",
    "    print(epoch + 1, \"train loss =\", train_metrics[0], \", train acc =\", train_metrics[1], \", test acc =\", test_acc)\n",
    "    animator.add(epoch + 1, train_metrics + (test_acc,))\n",
    "\n",
    "train_loss, train_acc = train_metrics\n",
    "assert train_loss < 0.5, train_loss\n",
    "assert train_acc <= 1 and train_acc > 0.7, train_acc\n",
    "assert test_acc <= 1 and test_acc > 0.7, test_acc"
   ]
  },
  {
   "cell_type": "markdown",
   "id": "c1be835a",
   "metadata": {},
   "source": [
    "## 预测"
   ]
  },
  {
   "cell_type": "code",
   "execution_count": null,
   "id": "4246db1f",
   "metadata": {},
   "outputs": [],
   "source": [
    "num_samples = 8"
   ]
  },
  {
   "cell_type": "code",
   "execution_count": null,
   "id": "62088baf",
   "metadata": {},
   "outputs": [],
   "source": [
    "X, y = next(iter(data.DataLoader(mnist_test, num_samples, shuffle=True)))"
   ]
  },
  {
   "cell_type": "code",
   "execution_count": null,
   "id": "a699c497",
   "metadata": {},
   "outputs": [],
   "source": [
    "labels = get_fashion_mnist_labels(y)"
   ]
  },
  {
   "cell_type": "code",
   "execution_count": null,
   "id": "07fdb177",
   "metadata": {},
   "outputs": [],
   "source": [
    "outputs = get_fashion_mnist_labels(net(X).argmax(axis=1))"
   ]
  },
  {
   "cell_type": "code",
   "execution_count": null,
   "id": "c9edd612",
   "metadata": {},
   "outputs": [],
   "source": [
    "titles = [true +'\\n' + pred for true, pred in zip(labels, outputs)]\n",
    "show_images(torch.squeeze(X), 1, num_samples, titles=titles)"
   ]
  },
  {
   "cell_type": "code",
   "execution_count": null,
   "id": "dcbb347c",
   "metadata": {},
   "outputs": [],
   "source": []
  },
  {
   "cell_type": "code",
   "execution_count": null,
   "id": "6632adaa",
   "metadata": {},
   "outputs": [],
   "source": []
  },
  {
   "cell_type": "code",
   "execution_count": null,
   "id": "ecc141fc",
   "metadata": {},
   "outputs": [],
   "source": []
  }
 ],
 "metadata": {
  "kernelspec": {
   "display_name": "Python 3 (ipykernel)",
   "language": "python",
   "name": "python3"
  },
  "language_info": {
   "codemirror_mode": {
    "name": "ipython",
    "version": 3
   },
   "file_extension": ".py",
   "mimetype": "text/x-python",
   "name": "python",
   "nbconvert_exporter": "python",
   "pygments_lexer": "ipython3",
   "version": "3.9.7"
  },
  "toc": {
   "base_numbering": 1,
   "nav_menu": {},
   "number_sections": true,
   "sideBar": true,
   "skip_h1_title": false,
   "title_cell": "Table of Contents",
   "title_sidebar": "Contents",
   "toc_cell": false,
   "toc_position": {
    "height": "calc(100% - 180px)",
    "left": "10px",
    "top": "150px",
    "width": "187.625px"
   },
   "toc_section_display": true,
   "toc_window_display": true
  }
 },
 "nbformat": 4,
 "nbformat_minor": 5
}
