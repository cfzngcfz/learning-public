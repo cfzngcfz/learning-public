{
 "cells": [
  {
   "cell_type": "markdown",
   "id": "bf04e45c",
   "metadata": {},
   "source": [
    "refer to: \n",
    "- [PyTorch API](https://pytorch.org/docs/stable/torch.html)\n",
    "- [《动手学深度学习》第二版](https://zh.d2l.ai/)\n",
    "\n",
    "todo: \n",
    "- [线性代数](https://d2l.ai/chapter_appendix-mathematics-for-deep-learning/geometry-linear-algebraic-ops.html)\n",
    "- [随机变量](https://d2l.ai/chapter_appendix-mathematics-for-deep-learning/random-variables.html)"
   ]
  },
  {
   "cell_type": "code",
   "execution_count": 3,
   "id": "afea00e7",
   "metadata": {},
   "outputs": [],
   "source": [
    "import torch\n",
    "import numpy"
   ]
  },
  {
   "cell_type": "markdown",
   "id": "9489b16d",
   "metadata": {},
   "source": [
    "# 数学运算"
   ]
  },
  {
   "cell_type": "markdown",
   "id": "c6938efa",
   "metadata": {},
   "source": [
    "## torch.add 加法\n",
    "[torch.add(input, other, \\*, alpha=1, out=None)](https://pytorch.org/docs/stable/generated/torch.add.html)  \n",
    "$out_i = input_i + alpha \\times other_i$"
   ]
  },
  {
   "cell_type": "code",
   "execution_count": 66,
   "id": "d49ac50a",
   "metadata": {},
   "outputs": [
    {
     "name": "stdout",
     "output_type": "stream",
     "text": [
      "tensor([[1, 2, 3],\n",
      "        [4, 5, 6]])\n",
      "tensor([[1, 1, 1],\n",
      "        [1, 1, 1]])\n"
     ]
    }
   ],
   "source": [
    "tensorX = torch.arange(1, 7).reshape(2, 3)\n",
    "tensorY = torch.ones_like(tensorX)\n",
    "print(tensorX)\n",
    "print(tensorY)"
   ]
  },
  {
   "cell_type": "code",
   "execution_count": 67,
   "id": "f94bfd01",
   "metadata": {},
   "outputs": [
    {
     "data": {
      "text/plain": [
       "tensor([[3, 4, 5],\n",
       "        [6, 7, 8]])"
      ]
     },
     "execution_count": 67,
     "metadata": {},
     "output_type": "execute_result"
    }
   ],
   "source": [
    "torch.add(tensorX, tensorY, alpha=2)"
   ]
  },
  {
   "cell_type": "markdown",
   "id": "d2c510b6",
   "metadata": {},
   "source": [
    "### X数值不变, 内存不变, 开辟新的内存地址存储结果"
   ]
  },
  {
   "cell_type": "code",
   "execution_count": null,
   "id": "562f1229",
   "metadata": {},
   "outputs": [],
   "source": [
    "\"\"\"\n",
    "tensorZ = tensorX + tensorY\n",
    "tensorZ = torch.add(tensorX, tensorY)\n",
    "tensorZ = tensorX.add(tensorY)\n",
    "\"\"\""
   ]
  },
  {
   "cell_type": "code",
   "execution_count": 68,
   "id": "3b47cb17",
   "metadata": {},
   "outputs": [
    {
     "name": "stdout",
     "output_type": "stream",
     "text": [
      "tensor([[1, 2, 3],\n",
      "        [4, 5, 6]])\n",
      "tensor([[1, 1, 1],\n",
      "        [1, 1, 1]])\n"
     ]
    }
   ],
   "source": [
    "tensorX = torch.arange(1, 7).reshape(2, 3)\n",
    "tensorY = torch.ones_like(tensorX)\n",
    "print(tensorX)\n",
    "print(tensorY)"
   ]
  },
  {
   "cell_type": "code",
   "execution_count": 69,
   "id": "f4128787",
   "metadata": {},
   "outputs": [
    {
     "name": "stdout",
     "output_type": "stream",
     "text": [
      "before add: X =\n",
      " tensor([[1, 2, 3],\n",
      "        [4, 5, 6]]) \n",
      "id= 140415026638576\n",
      "\n",
      "after add: X =\n",
      " tensor([[1, 2, 3],\n",
      "        [4, 5, 6]]) \n",
      "id= 140415026638576\n",
      "\n",
      "after add: Z =\n",
      " tensor([[2, 3, 4],\n",
      "        [5, 6, 7]]) \n",
      "id= 140415026230992\n"
     ]
    }
   ],
   "source": [
    "print(\"before add: X =\\n\", tensorX, \"\\nid=\", id(tensorX))\n",
    "tensorZ = tensorX + tensorY\n",
    "print(\"\\nafter add: X =\\n\", tensorX, \"\\nid=\", id(tensorX))\n",
    "print('\\nafter add: Z =\\n', tensorZ, \"\\nid=\", id(tensorZ))"
   ]
  },
  {
   "cell_type": "code",
   "execution_count": 70,
   "id": "81c202b3",
   "metadata": {},
   "outputs": [
    {
     "name": "stdout",
     "output_type": "stream",
     "text": [
      "before add: X =\n",
      " tensor([[1, 2, 3],\n",
      "        [4, 5, 6]]) \n",
      "id= 140415026638576\n",
      "\n",
      "after add: X =\n",
      " tensor([[1, 2, 3],\n",
      "        [4, 5, 6]]) \n",
      "id= 140415026638576\n",
      "\n",
      "after add: Z =\n",
      " tensor([[2, 3, 4],\n",
      "        [5, 6, 7]]) \n",
      "id= 140415026377488\n"
     ]
    }
   ],
   "source": [
    "print(\"before add: X =\\n\", tensorX, \"\\nid=\", id(tensorX))\n",
    "tensorZ = torch.add(tensorX, tensorY)\n",
    "print(\"\\nafter add: X =\\n\", tensorX, \"\\nid=\", id(tensorX))\n",
    "print('\\nafter add: Z =\\n', tensorZ, \"\\nid=\", id(tensorZ))"
   ]
  },
  {
   "cell_type": "code",
   "execution_count": 71,
   "id": "aeb72fbf",
   "metadata": {},
   "outputs": [
    {
     "name": "stdout",
     "output_type": "stream",
     "text": [
      "before add: X =\n",
      " tensor([[1, 2, 3],\n",
      "        [4, 5, 6]]) \n",
      "id= 140415026638576\n",
      "\n",
      "after add: X =\n",
      " tensor([[1, 2, 3],\n",
      "        [4, 5, 6]]) \n",
      "id= 140415026638576\n",
      "\n",
      "after add: Z =\n",
      " tensor([[2, 3, 4],\n",
      "        [5, 6, 7]]) \n",
      "id= 140415026616576\n"
     ]
    }
   ],
   "source": [
    "print(\"before add: X =\\n\", tensorX, \"\\nid=\", id(tensorX))\n",
    "tensorZ = tensorX.add(tensorY)\n",
    "print(\"\\nafter add: X =\\n\", tensorX, \"\\nid=\", id(tensorX))\n",
    "print('\\nafter add: Z =\\n', tensorZ, \"\\nid=\", id(tensorZ))"
   ]
  },
  {
   "cell_type": "markdown",
   "id": "de8e07fa",
   "metadata": {},
   "source": [
    "### X数值改变, 内存改变(不推荐)\n",
    "1. 首先，我们不想总是不必要地分配内存。在机器学习中，我们可能有数百兆的参数，并且在一秒内多次更新所有参数。通常情况下，我们希望原地执行这些更新;\n",
    "2. 如果我们不原地更新，其他引用仍然会指向旧的内存位置，这样我们的某些代码可能会无意中引用旧的参数"
   ]
  },
  {
   "cell_type": "code",
   "execution_count": null,
   "id": "f49f7e61",
   "metadata": {},
   "outputs": [],
   "source": [
    "\"\"\"\n",
    "tensorX = tensorX + tensorY\n",
    "\"\"\""
   ]
  },
  {
   "cell_type": "code",
   "execution_count": 72,
   "id": "bbb610ff",
   "metadata": {},
   "outputs": [
    {
     "name": "stdout",
     "output_type": "stream",
     "text": [
      "tensor([[1, 2, 3],\n",
      "        [4, 5, 6]])\n",
      "tensor([[1, 1, 1],\n",
      "        [1, 1, 1]])\n"
     ]
    }
   ],
   "source": [
    "tensorX = torch.arange(1, 7).reshape(2, 3)\n",
    "tensorY = torch.ones_like(tensorX)\n",
    "print(tensorX)\n",
    "print(tensorY)"
   ]
  },
  {
   "cell_type": "code",
   "execution_count": 73,
   "id": "4c6495be",
   "metadata": {
    "scrolled": true
   },
   "outputs": [
    {
     "name": "stdout",
     "output_type": "stream",
     "text": [
      "before add: X =\n",
      " tensor([[1, 2, 3],\n",
      "        [4, 5, 6]]) \n",
      "id= 140415026637776\n",
      "\n",
      "after add: X =\n",
      " tensor([[2, 3, 4],\n",
      "        [5, 6, 7]]) \n",
      "id= 140415026230592\n"
     ]
    }
   ],
   "source": [
    "print(\"before add: X =\\n\", tensorX, \"\\nid=\", id(tensorX))\n",
    "tensorX = tensorX + tensorY\n",
    "print(\"\\nafter add: X =\\n\", tensorX, \"\\nid=\", id(tensorX))"
   ]
  },
  {
   "cell_type": "markdown",
   "id": "b48a0a9e",
   "metadata": {},
   "source": [
    "### X数值改变, 内存不变, 节约内存开销(推荐)"
   ]
  },
  {
   "cell_type": "code",
   "execution_count": null,
   "id": "ed58ac97",
   "metadata": {},
   "outputs": [],
   "source": [
    "\"\"\"\n",
    "tensorX += tensorY\n",
    "tensorX[:] = tensorX + tensorY\n",
    "tensorX.add_(tensorY)\n",
    "torch.add(tensorX, tensorY, out=tensorX)\n",
    "\"\"\""
   ]
  },
  {
   "cell_type": "code",
   "execution_count": 74,
   "id": "07b65a15",
   "metadata": {},
   "outputs": [
    {
     "name": "stdout",
     "output_type": "stream",
     "text": [
      "tensor([[1, 2, 3],\n",
      "        [4, 5, 6]])\n",
      "tensor([[1, 1, 1],\n",
      "        [1, 1, 1]])\n"
     ]
    }
   ],
   "source": [
    "tensorX = torch.arange(1, 7).reshape(2, 3)\n",
    "tensorY = torch.ones_like(tensorX)\n",
    "print(tensorX)\n",
    "print(tensorY)"
   ]
  },
  {
   "cell_type": "code",
   "execution_count": 78,
   "id": "bd62a634",
   "metadata": {},
   "outputs": [
    {
     "name": "stdout",
     "output_type": "stream",
     "text": [
      "before add: X =\n",
      " tensor([[4, 5, 6],\n",
      "        [7, 8, 9]]) \n",
      "id= 140415026638736\n",
      "\n",
      "after add: X =\n",
      " tensor([[ 5,  6,  7],\n",
      "        [ 8,  9, 10]]) \n",
      "id= 140415026638736\n"
     ]
    }
   ],
   "source": [
    "print(\"before add: X =\\n\", tensorX, \"\\nid=\", id(tensorX))\n",
    "tensorX += tensorY\n",
    "print(\"\\nafter add: X =\\n\", tensorX, \"\\nid=\", id(tensorX))"
   ]
  },
  {
   "cell_type": "code",
   "execution_count": 75,
   "id": "44299f5c",
   "metadata": {},
   "outputs": [
    {
     "name": "stdout",
     "output_type": "stream",
     "text": [
      "before add: X =\n",
      " tensor([[1, 2, 3],\n",
      "        [4, 5, 6]]) \n",
      "id= 140415026638736\n",
      "\n",
      "after add: X =\n",
      " tensor([[2, 3, 4],\n",
      "        [5, 6, 7]]) \n",
      "id= 140415026638736\n"
     ]
    }
   ],
   "source": [
    "print(\"before add: X =\\n\", tensorX, \"\\nid=\", id(tensorX))\n",
    "tensorX[:] = tensorX + tensorY\n",
    "print(\"\\nafter add: X =\\n\", tensorX, \"\\nid=\", id(tensorX))"
   ]
  },
  {
   "cell_type": "code",
   "execution_count": 76,
   "id": "c84a8e58",
   "metadata": {},
   "outputs": [
    {
     "name": "stdout",
     "output_type": "stream",
     "text": [
      "before add: X =\n",
      " tensor([[2, 3, 4],\n",
      "        [5, 6, 7]]) \n",
      "id= 140415026638736\n",
      "\n",
      "after add: X =\n",
      " tensor([[3, 4, 5],\n",
      "        [6, 7, 8]]) \n",
      "id= 140415026638736\n"
     ]
    }
   ],
   "source": [
    "print(\"before add: X =\\n\", tensorX, \"\\nid=\", id(tensorX))\n",
    "torch.add(tensorX, tensorY, out=tensorX)\n",
    "print(\"\\nafter add: X =\\n\", tensorX, \"\\nid=\", id(tensorX))"
   ]
  },
  {
   "cell_type": "code",
   "execution_count": 77,
   "id": "2264981c",
   "metadata": {},
   "outputs": [
    {
     "name": "stdout",
     "output_type": "stream",
     "text": [
      "before add: X =\n",
      " tensor([[3, 4, 5],\n",
      "        [6, 7, 8]]) \n",
      "id= 140415026638736\n",
      "\n",
      "after add: X =\n",
      " tensor([[4, 5, 6],\n",
      "        [7, 8, 9]]) \n",
      "id= 140415026638736\n"
     ]
    }
   ],
   "source": [
    "print(\"before add: X =\\n\", tensorX, \"\\nid=\", id(tensorX))\n",
    "tensorX.add_(tensorY)\n",
    "print(\"\\nafter add: X =\\n\", tensorX, \"\\nid=\", id(tensorX))"
   ]
  },
  {
   "cell_type": "markdown",
   "id": "cdddec8e",
   "metadata": {},
   "source": [
    "### 广播机制(broadcasting mechanism)\n",
    "todo: https://pytorch.org/docs/stable/notes/broadcasting.html#broadcasting-semantics   \n",
    "\n",
    "1. 通过适当复制元素来扩展一个或两个数组，以便在转换之后，两个张量具有相同的形状;\n",
    "2. 对生成的数组执行按元素操作。"
   ]
  },
  {
   "cell_type": "code",
   "execution_count": 83,
   "id": "887730be",
   "metadata": {},
   "outputs": [
    {
     "name": "stdout",
     "output_type": "stream",
     "text": [
      "X: tensor([[1],\n",
      "        [2],\n",
      "        [3]])\n",
      "Y: tensor([1, 2, 3])\n",
      "X + Y = tensor([[2, 3, 4],\n",
      "        [3, 4, 5],\n",
      "        [4, 5, 6]])\n"
     ]
    }
   ],
   "source": [
    "print(\"X:\", torch.arange(1, 4).reshape(3, 1))\n",
    "print(\"Y:\", torch.arange(1, 4))\n",
    "print(\"X + Y =\", torch.tensor([[1], [2], [3]]) + torch.tensor([1, 2, 3]))"
   ]
  },
  {
   "cell_type": "code",
   "execution_count": 84,
   "id": "e729f3eb",
   "metadata": {},
   "outputs": [
    {
     "data": {
      "text/plain": [
       "True"
      ]
     },
     "execution_count": 84,
     "metadata": {},
     "output_type": "execute_result"
    }
   ],
   "source": [
    "torch.equal(torch.tensor([[1], [2], [3]]) + torch.tensor([1, 2, 3]),\n",
    "            torch.tensor([1, 2, 3]) + torch.tensor([[1], [2], [3]]))"
   ]
  },
  {
   "cell_type": "markdown",
   "id": "3873a81a",
   "metadata": {},
   "source": [
    "## 乘法"
   ]
  },
  {
   "cell_type": "markdown",
   "id": "61fe296c",
   "metadata": {},
   "source": [
    "### 按元素乘法\n",
    "i.e.,  element-wise multiplication/Hadamard积/Hadamard product  \n",
    "$\\begin{split}\\mathbf{A} \\odot \\mathbf{B} =\n",
    "\\begin{bmatrix}\n",
    "    a_{11}  b_{11} & a_{12}  b_{12} & \\dots  & a_{1n}  b_{1n} \\\\\n",
    "    a_{21}  b_{21} & a_{22}  b_{22} & \\dots  & a_{2n}  b_{2n} \\\\\n",
    "    \\vdots & \\vdots & \\ddots & \\vdots \\\\\n",
    "    a_{m1}  b_{m1} & a_{m2}  b_{m2} & \\dots  & a_{mn}  b_{mn}\n",
    "\\end{bmatrix}.\\end{split}$\n",
    "#### [torch.mul(input, other, *, out=None)](https://pytorch.org/docs/stable/generated/torch.mul.html) $\\iff$ [torch.multiply(input, other, *, out=None)](https://pytorch.org/docs/stable/generated/torch.multiply.html)"
   ]
  },
  {
   "cell_type": "markdown",
   "id": "1a5de042",
   "metadata": {},
   "source": [
    "1. other is int"
   ]
  },
  {
   "cell_type": "code",
   "execution_count": 30,
   "id": "66a77258",
   "metadata": {},
   "outputs": [
    {
     "name": "stdout",
     "output_type": "stream",
     "text": [
      "tensor([[1, 2, 3],\n",
      "        [4, 5, 6]])\n"
     ]
    }
   ],
   "source": [
    "tensor_1 = torch.arange(1, 7).reshape(2, 3)\n",
    "print(tensor_1)"
   ]
  },
  {
   "cell_type": "code",
   "execution_count": null,
   "id": "b293b7cf",
   "metadata": {},
   "outputs": [],
   "source": [
    "\"\"\"\n",
    "tensor_1 * 3\n",
    "tensor_1.mul(3)\n",
    "torch.mul(tensor_1, 3)\n",
    "torch.multiply(tensor_1, 3)\n",
    "\"\"\""
   ]
  },
  {
   "cell_type": "code",
   "execution_count": 32,
   "id": "bdc66a47",
   "metadata": {},
   "outputs": [
    {
     "data": {
      "text/plain": [
       "tensor([[ 3,  6,  9],\n",
       "        [12, 15, 18]])"
      ]
     },
     "execution_count": 32,
     "metadata": {},
     "output_type": "execute_result"
    }
   ],
   "source": [
    "tensor_1 * 3"
   ]
  },
  {
   "cell_type": "code",
   "execution_count": 33,
   "id": "f23f5934",
   "metadata": {},
   "outputs": [
    {
     "data": {
      "text/plain": [
       "tensor([[ 3,  6,  9],\n",
       "        [12, 15, 18]])"
      ]
     },
     "execution_count": 33,
     "metadata": {},
     "output_type": "execute_result"
    }
   ],
   "source": [
    "tensor_1.mul(3)"
   ]
  },
  {
   "cell_type": "code",
   "execution_count": 34,
   "id": "7fc6a382",
   "metadata": {},
   "outputs": [
    {
     "data": {
      "text/plain": [
       "tensor([[ 3,  6,  9],\n",
       "        [12, 15, 18]])"
      ]
     },
     "execution_count": 34,
     "metadata": {},
     "output_type": "execute_result"
    }
   ],
   "source": [
    "torch.mul(tensor_1, 3)"
   ]
  },
  {
   "cell_type": "code",
   "execution_count": 35,
   "id": "905606ae",
   "metadata": {},
   "outputs": [
    {
     "data": {
      "text/plain": [
       "tensor([[ 3,  6,  9],\n",
       "        [12, 15, 18]])"
      ]
     },
     "execution_count": 35,
     "metadata": {},
     "output_type": "execute_result"
    }
   ],
   "source": [
    "torch.multiply(tensor_1, 3)"
   ]
  },
  {
   "cell_type": "markdown",
   "id": "98064ba1",
   "metadata": {},
   "source": [
    "2. other is Tensor"
   ]
  },
  {
   "cell_type": "code",
   "execution_count": null,
   "id": "99e606f9",
   "metadata": {},
   "outputs": [],
   "source": [
    "\"\"\"\n",
    "tensor_1 * tensor_2\n",
    "tensor_1.mul(tensor_2)\n",
    "torch.mul(tensor_1, tensor_2)\n",
    "torch.multiply(tensor_1, tensor_2)\n",
    "torch.mul(tensor_1, tensor_2, out=torch.zeros((tensor_1.shape[0], tensor_1.shape[1]), dtype=tensor_1.dtype))\n",
    "\"\"\""
   ]
  },
  {
   "cell_type": "code",
   "execution_count": 254,
   "id": "6e4dcc06",
   "metadata": {},
   "outputs": [
    {
     "name": "stdout",
     "output_type": "stream",
     "text": [
      "tensor([[1, 2, 3],\n",
      "        [4, 5, 6]])\n",
      "tensor([[6, 5, 4],\n",
      "        [3, 2, 1]])\n"
     ]
    }
   ],
   "source": [
    "tensor_1 = torch.arange(1, 7).reshape(2, 3)\n",
    "tensor_2 = torch.arange(6, 0, step=-1).reshape(2, 3)\n",
    "print(tensor_1)\n",
    "print(tensor_2)"
   ]
  },
  {
   "cell_type": "code",
   "execution_count": 255,
   "id": "af4d430c",
   "metadata": {},
   "outputs": [
    {
     "data": {
      "text/plain": [
       "tensor([[ 6, 10, 12],\n",
       "        [12, 10,  6]])"
      ]
     },
     "execution_count": 255,
     "metadata": {},
     "output_type": "execute_result"
    }
   ],
   "source": [
    "tensor_1 * tensor_2"
   ]
  },
  {
   "cell_type": "code",
   "execution_count": 256,
   "id": "e375fe2b",
   "metadata": {},
   "outputs": [
    {
     "data": {
      "text/plain": [
       "tensor([[ 6, 10, 12],\n",
       "        [12, 10,  6]])"
      ]
     },
     "execution_count": 256,
     "metadata": {},
     "output_type": "execute_result"
    }
   ],
   "source": [
    "tensor_1.mul(tensor_2)"
   ]
  },
  {
   "cell_type": "code",
   "execution_count": 257,
   "id": "eb435cce",
   "metadata": {},
   "outputs": [
    {
     "data": {
      "text/plain": [
       "tensor([[ 6, 10, 12],\n",
       "        [12, 10,  6]])"
      ]
     },
     "execution_count": 257,
     "metadata": {},
     "output_type": "execute_result"
    }
   ],
   "source": [
    "torch.mul(tensor_1, tensor_2)"
   ]
  },
  {
   "cell_type": "code",
   "execution_count": 258,
   "id": "652682c1",
   "metadata": {},
   "outputs": [
    {
     "data": {
      "text/plain": [
       "tensor([[ 6, 10, 12],\n",
       "        [12, 10,  6]])"
      ]
     },
     "execution_count": 258,
     "metadata": {},
     "output_type": "execute_result"
    }
   ],
   "source": [
    "torch.multiply(tensor_1, tensor_2)"
   ]
  },
  {
   "cell_type": "code",
   "execution_count": 259,
   "id": "61b36f9e",
   "metadata": {},
   "outputs": [
    {
     "data": {
      "text/plain": [
       "tensor([[ 6, 10, 12],\n",
       "        [12, 10,  6]])"
      ]
     },
     "execution_count": 259,
     "metadata": {},
     "output_type": "execute_result"
    }
   ],
   "source": [
    "torch.mul(tensor_1, tensor_2, out=torch.zeros((tensor_1.shape[0], tensor_1.shape[1]), dtype=tensor_1.dtype))"
   ]
  },
  {
   "cell_type": "markdown",
   "id": "a19a5ab9",
   "metadata": {},
   "source": [
    "#### torch.addcmul\n",
    "[torch.addcmul(input, tensor1, tensor2, *, value=1, out=None)](https://pytorch.org/docs/stable/generated/torch.addcmul.html)\n",
    "$$ out_i = input_i + value \\times tensor1_i * tensor2_i $$"
   ]
  },
  {
   "cell_type": "code",
   "execution_count": 261,
   "id": "5bbadb19",
   "metadata": {},
   "outputs": [
    {
     "data": {
      "text/plain": [
       "tensor([[13, 21, 25],\n",
       "        [25, 21, 13]])"
      ]
     },
     "execution_count": 261,
     "metadata": {},
     "output_type": "execute_result"
    }
   ],
   "source": [
    "torch.addcmul(torch.ones_like(tensor_1), tensor_1, tensor_2, value=2)"
   ]
  },
  {
   "cell_type": "code",
   "execution_count": 262,
   "id": "1b039845",
   "metadata": {},
   "outputs": [
    {
     "data": {
      "text/plain": [
       "tensor([[13, 21, 25],\n",
       "        [25, 21, 13]])"
      ]
     },
     "execution_count": 262,
     "metadata": {},
     "output_type": "execute_result"
    }
   ],
   "source": [
    "torch.ones_like(tensor_1).addcmul(tensor_1, tensor_2, value=2)"
   ]
  },
  {
   "cell_type": "markdown",
   "id": "685d7cc7",
   "metadata": {},
   "source": [
    "#### broadcasting"
   ]
  },
  {
   "cell_type": "code",
   "execution_count": 93,
   "id": "71368c45",
   "metadata": {},
   "outputs": [
    {
     "name": "stdout",
     "output_type": "stream",
     "text": [
      "X: tensor([[1],\n",
      "        [2],\n",
      "        [3]])\n",
      "Y: tensor([1, 2, 3])\n",
      "X * Y = tensor([[1, 2, 3],\n",
      "        [2, 4, 6],\n",
      "        [3, 6, 9]])\n"
     ]
    }
   ],
   "source": [
    "print(\"X:\", torch.arange(1, 4).reshape(3, 1))\n",
    "print(\"Y:\", torch.arange(1, 4))\n",
    "print(\"X * Y =\", torch.tensor([[1], [2], [3]]) * torch.tensor([1, 2, 3]))"
   ]
  },
  {
   "cell_type": "code",
   "execution_count": 94,
   "id": "b5403339",
   "metadata": {},
   "outputs": [
    {
     "data": {
      "text/plain": [
       "True"
      ]
     },
     "execution_count": 94,
     "metadata": {},
     "output_type": "execute_result"
    }
   ],
   "source": [
    "torch.equal(torch.tensor([[1], [2], [3]]) * torch.tensor([1, 2, 3]),\n",
    "            torch.tensor([1, 2, 3]) * torch.tensor([[1], [2], [3]]))"
   ]
  },
  {
   "cell_type": "markdown",
   "id": "c0d4178b",
   "metadata": {},
   "source": [
    "### 向量-向量积/vector(n) × vector(n)\n",
    "i.e., 点积/Dot Product/内积 = 按元素(elementwise)乘法之和  \n",
    "$\\mathbf{x}^\\top \\mathbf{y} = \\sum_{i=1}^{d} x_i y_i, \\mathbf{x},\\mathbf{y}\\in\\mathbb{R}^d$  \n",
    "#### [torch.dot(input, other, *, out=None)](https://pytorch.org/docs/stable/generated/torch.dot.html)"
   ]
  },
  {
   "cell_type": "code",
   "execution_count": null,
   "id": "25a67106",
   "metadata": {},
   "outputs": [],
   "source": [
    "\"\"\"\n",
    "tensor_1 @ tensor_2\n",
    "tensor_1.matmul(tensor_2)\n",
    "torch.matmul(tensor_1, tensor_2)\n",
    "tensor_1.dot(tensor_2)\n",
    "torch.dot(tensor_1, tensor_2)\n",
    "torch.sum(tensor_1 * tensor_2)\n",
    "torch.sum(torch.mul(tensor_1, tensor_2))\n",
    "\"\"\""
   ]
  },
  {
   "cell_type": "code",
   "execution_count": 107,
   "id": "9e54a43a",
   "metadata": {},
   "outputs": [
    {
     "name": "stdout",
     "output_type": "stream",
     "text": [
      "size of tensor_1 = torch.Size([3])\n",
      "size of tensor_2 = torch.Size([3])\n",
      "size of tensor_1 @ tensor_2 = torch.Size([])\n"
     ]
    }
   ],
   "source": [
    "tensor_1 = torch.tensor([1, 2, 3])\n",
    "tensor_2 = torch.tensor([3, 2, 1])\n",
    "print(\"size of tensor_1 =\", tensor_1.size())\n",
    "print(\"size of tensor_2 =\", tensor_2.size())\n",
    "print(\"size of tensor_1 @ tensor_2 =\", torch.matmul(tensor_1, tensor_2).size())"
   ]
  },
  {
   "cell_type": "code",
   "execution_count": 102,
   "id": "4d293140",
   "metadata": {},
   "outputs": [
    {
     "data": {
      "text/plain": [
       "tensor(10)"
      ]
     },
     "execution_count": 102,
     "metadata": {},
     "output_type": "execute_result"
    }
   ],
   "source": [
    "tensor_1 @ tensor_2"
   ]
  },
  {
   "cell_type": "code",
   "execution_count": 103,
   "id": "0e692b86",
   "metadata": {},
   "outputs": [
    {
     "data": {
      "text/plain": [
       "tensor(10)"
      ]
     },
     "execution_count": 103,
     "metadata": {},
     "output_type": "execute_result"
    }
   ],
   "source": [
    "tensor_1.matmul(tensor_2)"
   ]
  },
  {
   "cell_type": "code",
   "execution_count": 104,
   "id": "e12a8f9f",
   "metadata": {},
   "outputs": [
    {
     "data": {
      "text/plain": [
       "tensor(10)"
      ]
     },
     "execution_count": 104,
     "metadata": {},
     "output_type": "execute_result"
    }
   ],
   "source": [
    "torch.matmul(tensor_1, tensor_2)"
   ]
  },
  {
   "cell_type": "code",
   "execution_count": 68,
   "id": "3ecf7f6b",
   "metadata": {},
   "outputs": [
    {
     "data": {
      "text/plain": [
       "tensor(10)"
      ]
     },
     "execution_count": 68,
     "metadata": {},
     "output_type": "execute_result"
    }
   ],
   "source": [
    "tensor_1.dot(tensor_2)"
   ]
  },
  {
   "cell_type": "code",
   "execution_count": 67,
   "id": "b379bb98",
   "metadata": {},
   "outputs": [
    {
     "data": {
      "text/plain": [
       "tensor(10)"
      ]
     },
     "execution_count": 67,
     "metadata": {},
     "output_type": "execute_result"
    }
   ],
   "source": [
    "torch.dot(tensor_1, tensor_2)"
   ]
  },
  {
   "cell_type": "code",
   "execution_count": 60,
   "id": "92e7ae1c",
   "metadata": {},
   "outputs": [
    {
     "data": {
      "text/plain": [
       "tensor(10)"
      ]
     },
     "execution_count": 60,
     "metadata": {},
     "output_type": "execute_result"
    }
   ],
   "source": [
    "torch.sum(tensor_1 * tensor_2)"
   ]
  },
  {
   "cell_type": "code",
   "execution_count": 61,
   "id": "2109c52e",
   "metadata": {},
   "outputs": [
    {
     "data": {
      "text/plain": [
       "tensor(10)"
      ]
     },
     "execution_count": 61,
     "metadata": {},
     "output_type": "execute_result"
    }
   ],
   "source": [
    "torch.sum(torch.mul(tensor_1, tensor_2))"
   ]
  },
  {
   "cell_type": "markdown",
   "id": "2588e639",
   "metadata": {},
   "source": [
    "### 矩阵-向量积/matrix(m * n) × vector(n)\n",
    "i.e., matrix-vector product  \n",
    "$\\begin{split}\\mathbf{A}\\mathbf{x}\n",
    "= \\begin{bmatrix}\n",
    "\\mathbf{a}^\\top_{1} \\\\\n",
    "\\mathbf{a}^\\top_{2} \\\\\n",
    "\\vdots \\\\\n",
    "\\mathbf{a}^\\top_m \\\\\n",
    "\\end{bmatrix}\\mathbf{x}\n",
    "= \\begin{bmatrix}\n",
    " \\mathbf{a}^\\top_{1} \\mathbf{x}  \\\\\n",
    " \\mathbf{a}^\\top_{2} \\mathbf{x} \\\\\n",
    "\\vdots\\\\\n",
    " \\mathbf{a}^\\top_{m} \\mathbf{x}\\\\\n",
    "\\end{bmatrix}\\end{split}, \\mathbf{A} \\in \\mathbb{R}^{m \\times n}, \\mathbf{x} \\in \\mathbb{R}^n$\n",
    "\n",
    "#### [torch.mv(input, vec, *, out=None)](https://pytorch.org/docs/stable/generated/torch.mv.html)\n",
    "> **note**: This function does not broadcast."
   ]
  },
  {
   "cell_type": "code",
   "execution_count": null,
   "id": "9b4ee9dc",
   "metadata": {},
   "outputs": [],
   "source": [
    "\"\"\"\n",
    "tensor_1 @ tensor_2\n",
    "tensor_1.matmul(tensor_2)\n",
    "torch.matmul(tensor_1, tensor_2)\n",
    "torch.mv(tensor_1, tensor_2)\n",
    "\"\"\""
   ]
  },
  {
   "cell_type": "code",
   "execution_count": 236,
   "id": "70653276",
   "metadata": {},
   "outputs": [
    {
     "name": "stdout",
     "output_type": "stream",
     "text": [
      "size of tensor_1 = torch.Size([5, 4])\n",
      "size of tensor_2 = torch.Size([4])\n",
      "size of tensor_1 @ tensor_2 = torch.Size([5])\n"
     ]
    }
   ],
   "source": [
    "tensor_1 = torch.arange(20., dtype=torch.float).reshape(5,4)\n",
    "tensor_2 = torch.tensor([3., 1., 2., 0.])\n",
    "print(\"size of tensor_1 =\", tensor_1.size())\n",
    "print(\"size of tensor_2 =\", tensor_2.size())\n",
    "print(\"size of tensor_1 @ tensor_2 =\", torch.matmul(tensor_1, tensor_2).size())"
   ]
  },
  {
   "cell_type": "code",
   "execution_count": 237,
   "id": "348633bd",
   "metadata": {},
   "outputs": [
    {
     "data": {
      "text/plain": [
       "tensor([  5.,  29.,  53.,  77., 101.])"
      ]
     },
     "execution_count": 237,
     "metadata": {},
     "output_type": "execute_result"
    }
   ],
   "source": [
    "tensor_1 @ tensor_2"
   ]
  },
  {
   "cell_type": "code",
   "execution_count": 238,
   "id": "7e900931",
   "metadata": {},
   "outputs": [
    {
     "data": {
      "text/plain": [
       "tensor([  5.,  29.,  53.,  77., 101.])"
      ]
     },
     "execution_count": 238,
     "metadata": {},
     "output_type": "execute_result"
    }
   ],
   "source": [
    "tensor_1.matmul(tensor_2)"
   ]
  },
  {
   "cell_type": "code",
   "execution_count": 239,
   "id": "23377e20",
   "metadata": {},
   "outputs": [
    {
     "data": {
      "text/plain": [
       "tensor([  5.,  29.,  53.,  77., 101.])"
      ]
     },
     "execution_count": 239,
     "metadata": {},
     "output_type": "execute_result"
    }
   ],
   "source": [
    "torch.matmul(tensor_1, tensor_2)"
   ]
  },
  {
   "cell_type": "code",
   "execution_count": 240,
   "id": "6da8e228",
   "metadata": {},
   "outputs": [
    {
     "data": {
      "text/plain": [
       "tensor([  5.,  29.,  53.,  77., 101.])"
      ]
     },
     "execution_count": 240,
     "metadata": {},
     "output_type": "execute_result"
    }
   ],
   "source": [
    "torch.mv(tensor_1, tensor_2)"
   ]
  },
  {
   "cell_type": "code",
   "execution_count": 241,
   "id": "89298b6d",
   "metadata": {},
   "outputs": [
    {
     "name": "stdout",
     "output_type": "stream",
     "text": [
      "验证: tensor(5.)\n",
      "验证: tensor(29.)\n",
      "验证: tensor(53.)\n",
      "验证: tensor(77.)\n",
      "验证: tensor(101.)\n"
     ]
    }
   ],
   "source": [
    "for ii in range(tensor_1.size(0)):\n",
    "    print(\"验证:\", tensor_1[ii] @ tensor_2)"
   ]
  },
  {
   "cell_type": "markdown",
   "id": "5b4041d8",
   "metadata": {},
   "source": [
    "#### [torch.addmv(input, mat, vec, *, beta=1, alpha=1, out=None)](https://pytorch.org/docs/stable/generated/torch.addmv.html)\n",
    "$out=\\beta \\cdot input+\\alpha (mat@vec)$"
   ]
  },
  {
   "cell_type": "code",
   "execution_count": 243,
   "id": "b7c0308c",
   "metadata": {},
   "outputs": [
    {
     "data": {
      "text/plain": [
       "tensor([1., 1., 1., 1., 1.])"
      ]
     },
     "execution_count": 243,
     "metadata": {},
     "output_type": "execute_result"
    }
   ],
   "source": [
    "torch.ones(tensor_1.size(0))"
   ]
  },
  {
   "cell_type": "code",
   "execution_count": 244,
   "id": "0acba72e",
   "metadata": {},
   "outputs": [
    {
     "data": {
      "text/plain": [
       "tensor([  7.,  31.,  55.,  79., 103.])"
      ]
     },
     "execution_count": 244,
     "metadata": {},
     "output_type": "execute_result"
    }
   ],
   "source": [
    "torch.addmv(torch.ones(tensor_1.size(0)), tensor_1, tensor_2, beta=2, alpha=1)"
   ]
  },
  {
   "cell_type": "markdown",
   "id": "3ca5967a",
   "metadata": {},
   "source": [
    "### 矩阵-矩阵乘法/[torch.matmul(input, other, \\*, out=None)](https://pytorch.org/docs/stable/generated/torch.matmul.html)\n",
    "i.e., matrix-matrix multiplication"
   ]
  },
  {
   "cell_type": "markdown",
   "id": "000716e5",
   "metadata": {},
   "source": [
    "#### matrix(m * n) × matrix(n * p)\n",
    "##### [torch.mm(input, mat2, *, out=None)](https://pytorch.org/docs/stable/generated/torch.mm.html)"
   ]
  },
  {
   "cell_type": "code",
   "execution_count": null,
   "id": "407b2643",
   "metadata": {},
   "outputs": [],
   "source": [
    "\"\"\"\n",
    "tensor_1 @ tensor_2\n",
    "tensor_1.matmul(tensor_2)\n",
    "torch.matmul(tensor_1, tensor_2)\n",
    "torch.mm(tensor_1, tensor_2)\n",
    "\"\"\""
   ]
  },
  {
   "cell_type": "code",
   "execution_count": 114,
   "id": "29bc1c1f",
   "metadata": {},
   "outputs": [
    {
     "name": "stdout",
     "output_type": "stream",
     "text": [
      "size of tensor_1 = torch.Size([2, 3])\n",
      "size of tensor_2 = torch.Size([3, 2])\n",
      "size of tensor_1 @ tensor_2 = torch.Size([2, 2])\n"
     ]
    }
   ],
   "source": [
    "tensor_1 = torch.arange(1., 7.).reshape(2, 3)\n",
    "tensor_2 = tensor_1.T\n",
    "print(\"size of tensor_1 =\", tensor_1.size())\n",
    "print(\"size of tensor_2 =\", tensor_2.size())\n",
    "print(\"size of tensor_1 @ tensor_2 =\", torch.matmul(tensor_1, tensor_2).size())"
   ]
  },
  {
   "cell_type": "code",
   "execution_count": 115,
   "id": "ec7ef3ab",
   "metadata": {},
   "outputs": [
    {
     "data": {
      "text/plain": [
       "tensor([[14., 32.],\n",
       "        [32., 77.]])"
      ]
     },
     "execution_count": 115,
     "metadata": {},
     "output_type": "execute_result"
    }
   ],
   "source": [
    "tensor_1 @ tensor_2"
   ]
  },
  {
   "cell_type": "code",
   "execution_count": 116,
   "id": "5be3cc28",
   "metadata": {},
   "outputs": [
    {
     "data": {
      "text/plain": [
       "tensor([[14., 32.],\n",
       "        [32., 77.]])"
      ]
     },
     "execution_count": 116,
     "metadata": {},
     "output_type": "execute_result"
    }
   ],
   "source": [
    "tensor_1.matmul(tensor_1.T)"
   ]
  },
  {
   "cell_type": "code",
   "execution_count": 117,
   "id": "ff99e478",
   "metadata": {},
   "outputs": [
    {
     "data": {
      "text/plain": [
       "tensor([[14., 32.],\n",
       "        [32., 77.]])"
      ]
     },
     "execution_count": 117,
     "metadata": {},
     "output_type": "execute_result"
    }
   ],
   "source": [
    "torch.matmul(tensor_1, tensor_1.T)"
   ]
  },
  {
   "cell_type": "code",
   "execution_count": 118,
   "id": "413735b1",
   "metadata": {},
   "outputs": [
    {
     "data": {
      "text/plain": [
       "tensor([[14., 32.],\n",
       "        [32., 77.]])"
      ]
     },
     "execution_count": 118,
     "metadata": {},
     "output_type": "execute_result"
    }
   ],
   "source": [
    "torch.mm(tensor_1, tensor_1.T)"
   ]
  },
  {
   "cell_type": "markdown",
   "id": "2359ae21",
   "metadata": {},
   "source": [
    "##### [torch.addmm(input, mat1, mat2, *, beta=1, alpha=1, out=None)](https://pytorch.org/docs/stable/generated/torch.addmm.html)  \n",
    "$out=\\beta \\cdot input + \\alpha (mat1_i @ mat2_i)$"
   ]
  },
  {
   "cell_type": "code",
   "execution_count": 93,
   "id": "0a230aa2",
   "metadata": {},
   "outputs": [
    {
     "data": {
      "text/plain": [
       "tensor([[ 4., 22.],\n",
       "        [22., 67.]])"
      ]
     },
     "execution_count": 93,
     "metadata": {},
     "output_type": "execute_result"
    }
   ],
   "source": [
    "torch.addmm(-5 * torch.ones(tensor_1.size(0), tensor_2.size(1)), mat1=tensor_1, mat2=tensor_2, beta=2, alpha=1)"
   ]
  },
  {
   "cell_type": "markdown",
   "id": "f1f14e5d",
   "metadata": {},
   "source": [
    "#### batched matrix(b * m * n) × broadcasted vector(n)"
   ]
  },
  {
   "cell_type": "code",
   "execution_count": 131,
   "id": "5ff6ab02",
   "metadata": {},
   "outputs": [
    {
     "name": "stdout",
     "output_type": "stream",
     "text": [
      "size of tensor_1 = torch.Size([2, 3, 4])\n",
      "size of tensor_2 = torch.Size([4])\n",
      "size of tensor_1 @ tensor_2 = torch.Size([2, 3])\n"
     ]
    }
   ],
   "source": [
    "tensor_1 = torch.arange(1, 25).reshape(2, 3, 4)\n",
    "tensor_2 = torch.arange(1, 5)\n",
    "print(\"size of tensor_1 =\", tensor_1.size())\n",
    "print(\"size of tensor_2 =\", tensor_2.size())\n",
    "print(\"size of tensor_1 @ tensor_2 =\", torch.matmul(tensor_1, tensor_2).size())"
   ]
  },
  {
   "cell_type": "code",
   "execution_count": 132,
   "id": "84ba718c",
   "metadata": {},
   "outputs": [
    {
     "data": {
      "text/plain": [
       "tensor([[ 30,  70, 110],\n",
       "        [150, 190, 230]])"
      ]
     },
     "execution_count": 132,
     "metadata": {},
     "output_type": "execute_result"
    }
   ],
   "source": [
    "tensor_1 @ tensor_2"
   ]
  },
  {
   "cell_type": "code",
   "execution_count": 133,
   "id": "3f4f1105",
   "metadata": {},
   "outputs": [
    {
     "data": {
      "text/plain": [
       "tensor([[ 30,  70, 110],\n",
       "        [150, 190, 230]])"
      ]
     },
     "execution_count": 133,
     "metadata": {},
     "output_type": "execute_result"
    }
   ],
   "source": [
    "torch.matmul(tensor_1, tensor_2)"
   ]
  },
  {
   "cell_type": "code",
   "execution_count": 134,
   "id": "b7aa9363",
   "metadata": {},
   "outputs": [
    {
     "name": "stdout",
     "output_type": "stream",
     "text": [
      "验证: [tensor(30), tensor(70), tensor(110)]\n",
      "验证: [tensor(150), tensor(190), tensor(230)]\n"
     ]
    }
   ],
   "source": [
    "for ii in range(tensor_1.size(0)):\n",
    "    vec = []\n",
    "    for jj in range(tensor_1[ii].size(0)):\n",
    "        vec.append(tensor_1[ii][jj] @ tensor_2)\n",
    "    print(\"验证:\", vec)"
   ]
  },
  {
   "cell_type": "markdown",
   "id": "36934732",
   "metadata": {},
   "source": [
    "#### batched matrix(b * m * n) × broadcasted matrix(n * p)"
   ]
  },
  {
   "cell_type": "code",
   "execution_count": 139,
   "id": "ba07e60c",
   "metadata": {},
   "outputs": [
    {
     "name": "stdout",
     "output_type": "stream",
     "text": [
      "size of tensor_1 = torch.Size([2, 3, 4])\n",
      "size of tensor_2 = torch.Size([4, 5])\n",
      "size of tensor_1 @ tensor_2 = torch.Size([2, 3, 5])\n"
     ]
    }
   ],
   "source": [
    "tensor_1 = torch.arange(1, 25).reshape(2, 3, 4)\n",
    "tensor_2 = torch.arange(1, 21).reshape(4, 5)\n",
    "print(\"size of tensor_1 =\", tensor_1.size())\n",
    "print(\"size of tensor_2 =\", tensor_2.size())\n",
    "print(\"size of tensor_1 @ tensor_2 =\", torch.matmul(tensor_1, tensor_2).size())"
   ]
  },
  {
   "cell_type": "code",
   "execution_count": 140,
   "id": "3626e86f",
   "metadata": {},
   "outputs": [
    {
     "data": {
      "text/plain": [
       "tensor([[[ 110,  120,  130,  140,  150],\n",
       "         [ 246,  272,  298,  324,  350],\n",
       "         [ 382,  424,  466,  508,  550]],\n",
       "\n",
       "        [[ 518,  576,  634,  692,  750],\n",
       "         [ 654,  728,  802,  876,  950],\n",
       "         [ 790,  880,  970, 1060, 1150]]])"
      ]
     },
     "execution_count": 140,
     "metadata": {},
     "output_type": "execute_result"
    }
   ],
   "source": [
    "tensor_1 @ tensor_2"
   ]
  },
  {
   "cell_type": "code",
   "execution_count": 141,
   "id": "fad1e0c8",
   "metadata": {},
   "outputs": [
    {
     "data": {
      "text/plain": [
       "tensor([[[ 110,  120,  130,  140,  150],\n",
       "         [ 246,  272,  298,  324,  350],\n",
       "         [ 382,  424,  466,  508,  550]],\n",
       "\n",
       "        [[ 518,  576,  634,  692,  750],\n",
       "         [ 654,  728,  802,  876,  950],\n",
       "         [ 790,  880,  970, 1060, 1150]]])"
      ]
     },
     "execution_count": 141,
     "metadata": {},
     "output_type": "execute_result"
    }
   ],
   "source": [
    "torch.matmul(tensor_1, tensor_2)"
   ]
  },
  {
   "cell_type": "code",
   "execution_count": 142,
   "id": "b18d4fdf",
   "metadata": {},
   "outputs": [
    {
     "name": "stdout",
     "output_type": "stream",
     "text": [
      "验证: tensor([[110, 120, 130, 140, 150],\n",
      "        [246, 272, 298, 324, 350],\n",
      "        [382, 424, 466, 508, 550]])\n",
      "验证: tensor([[ 518,  576,  634,  692,  750],\n",
      "        [ 654,  728,  802,  876,  950],\n",
      "        [ 790,  880,  970, 1060, 1150]])\n"
     ]
    }
   ],
   "source": [
    "for ii in range(tensor_1.size(0)):\n",
    "    print(\"验证:\", tensor_1[ii] @ tensor_2)"
   ]
  },
  {
   "cell_type": "markdown",
   "id": "92e7a828",
   "metadata": {},
   "source": [
    "#### batched matrix(b * m * n) × batched matrix(b * n * p)\n",
    "##### torch.bmm\n",
    "[torch.bmm(input, mat2, *, out=None)](https://pytorch.org/docs/stable/generated/torch.bmm.html)  "
   ]
  },
  {
   "cell_type": "code",
   "execution_count": null,
   "id": "8cca0f63",
   "metadata": {},
   "outputs": [],
   "source": [
    "\"\"\"\n",
    "tensor_1 @ tensor_2\n",
    "tensor_1.matmul(tensor_2)\n",
    "torch.matmul(tensor_1, tensor_2)\n",
    "tensor_1.bmm(tensor_2)\n",
    "torch.bmm(tensor_1, tensor_2)\n",
    "\"\"\""
   ]
  },
  {
   "cell_type": "code",
   "execution_count": 171,
   "id": "4aecfa22",
   "metadata": {},
   "outputs": [
    {
     "name": "stdout",
     "output_type": "stream",
     "text": [
      "size of tensor_1 = torch.Size([2, 3, 4])\n",
      "size of tensor_2 = torch.Size([2, 4, 5])\n",
      "size of tensor_1 @ tensor_2 = torch.Size([2, 3, 5])\n"
     ]
    }
   ],
   "source": [
    "tensor_1 = torch.arange(1., 25.).reshape(2, 3, 4)\n",
    "tensor_2 = torch.arange(1., 41.).reshape(2, 4, 5)\n",
    "print(\"size of tensor_1 =\", tensor_1.size())\n",
    "print(\"size of tensor_2 =\", tensor_2.size())\n",
    "print(\"size of tensor_1 @ tensor_2 =\", torch.matmul(tensor_1, tensor_2).size())"
   ]
  },
  {
   "cell_type": "code",
   "execution_count": 172,
   "id": "c150634a",
   "metadata": {},
   "outputs": [
    {
     "data": {
      "text/plain": [
       "tensor([[[ 110.,  120.,  130.,  140.,  150.],\n",
       "         [ 246.,  272.,  298.,  324.,  350.],\n",
       "         [ 382.,  424.,  466.,  508.,  550.]],\n",
       "\n",
       "        [[1678., 1736., 1794., 1852., 1910.],\n",
       "         [2134., 2208., 2282., 2356., 2430.],\n",
       "         [2590., 2680., 2770., 2860., 2950.]]])"
      ]
     },
     "execution_count": 172,
     "metadata": {},
     "output_type": "execute_result"
    }
   ],
   "source": [
    "tensor_1 @ tensor_2"
   ]
  },
  {
   "cell_type": "code",
   "execution_count": 173,
   "id": "bedeaa6a",
   "metadata": {},
   "outputs": [
    {
     "data": {
      "text/plain": [
       "tensor([[[ 110.,  120.,  130.,  140.,  150.],\n",
       "         [ 246.,  272.,  298.,  324.,  350.],\n",
       "         [ 382.,  424.,  466.,  508.,  550.]],\n",
       "\n",
       "        [[1678., 1736., 1794., 1852., 1910.],\n",
       "         [2134., 2208., 2282., 2356., 2430.],\n",
       "         [2590., 2680., 2770., 2860., 2950.]]])"
      ]
     },
     "execution_count": 173,
     "metadata": {},
     "output_type": "execute_result"
    }
   ],
   "source": [
    "tensor_1.matmul(tensor_2)"
   ]
  },
  {
   "cell_type": "code",
   "execution_count": 174,
   "id": "0524574c",
   "metadata": {},
   "outputs": [
    {
     "data": {
      "text/plain": [
       "tensor([[[ 110.,  120.,  130.,  140.,  150.],\n",
       "         [ 246.,  272.,  298.,  324.,  350.],\n",
       "         [ 382.,  424.,  466.,  508.,  550.]],\n",
       "\n",
       "        [[1678., 1736., 1794., 1852., 1910.],\n",
       "         [2134., 2208., 2282., 2356., 2430.],\n",
       "         [2590., 2680., 2770., 2860., 2950.]]])"
      ]
     },
     "execution_count": 174,
     "metadata": {},
     "output_type": "execute_result"
    }
   ],
   "source": [
    "torch.matmul(tensor_1, tensor_2)"
   ]
  },
  {
   "cell_type": "code",
   "execution_count": 175,
   "id": "67da9af6",
   "metadata": {},
   "outputs": [
    {
     "data": {
      "text/plain": [
       "tensor([[[ 110.,  120.,  130.,  140.,  150.],\n",
       "         [ 246.,  272.,  298.,  324.,  350.],\n",
       "         [ 382.,  424.,  466.,  508.,  550.]],\n",
       "\n",
       "        [[1678., 1736., 1794., 1852., 1910.],\n",
       "         [2134., 2208., 2282., 2356., 2430.],\n",
       "         [2590., 2680., 2770., 2860., 2950.]]])"
      ]
     },
     "execution_count": 175,
     "metadata": {},
     "output_type": "execute_result"
    }
   ],
   "source": [
    "tensor_1.bmm(tensor_2)"
   ]
  },
  {
   "cell_type": "code",
   "execution_count": 176,
   "id": "b0b2f16b",
   "metadata": {},
   "outputs": [
    {
     "data": {
      "text/plain": [
       "tensor([[[ 110.,  120.,  130.,  140.,  150.],\n",
       "         [ 246.,  272.,  298.,  324.,  350.],\n",
       "         [ 382.,  424.,  466.,  508.,  550.]],\n",
       "\n",
       "        [[1678., 1736., 1794., 1852., 1910.],\n",
       "         [2134., 2208., 2282., 2356., 2430.],\n",
       "         [2590., 2680., 2770., 2860., 2950.]]])"
      ]
     },
     "execution_count": 176,
     "metadata": {},
     "output_type": "execute_result"
    }
   ],
   "source": [
    "torch.bmm(tensor_1, tensor_2)"
   ]
  },
  {
   "cell_type": "code",
   "execution_count": 177,
   "id": "c1b8a4a5",
   "metadata": {},
   "outputs": [
    {
     "name": "stdout",
     "output_type": "stream",
     "text": [
      "tensor([[110., 120., 130., 140., 150.],\n",
      "        [246., 272., 298., 324., 350.],\n",
      "        [382., 424., 466., 508., 550.]])\n",
      "tensor([[1678., 1736., 1794., 1852., 1910.],\n",
      "        [2134., 2208., 2282., 2356., 2430.],\n",
      "        [2590., 2680., 2770., 2860., 2950.]])\n"
     ]
    }
   ],
   "source": [
    "for ii in range(tensor_1.size(0)):\n",
    "    print(tensor_1[ii] @ tensor_2[ii])"
   ]
  },
  {
   "cell_type": "markdown",
   "id": "81884aa8",
   "metadata": {},
   "source": [
    "##### torch.baddbmm\n",
    "[torch.baddbmm(input, batch1, batch2, *, beta=1, alpha=1, out=None)](https://pytorch.org/docs/stable/generated/torch.baddbmm.html)  \n",
    "$out_i = \\beta \\cdot input_i + \\alpha(batch1_i @ batch2_i)$"
   ]
  },
  {
   "cell_type": "code",
   "execution_count": 188,
   "id": "0558c4bd",
   "metadata": {},
   "outputs": [
    {
     "name": "stdout",
     "output_type": "stream",
     "text": [
      "size of output = torch.Size([2, 3, 5])\n"
     ]
    }
   ],
   "source": [
    "print(\"size of output =\", torch.ones(tensor_1.size(0), tensor_1.size(1), tensor_2.size(2)).size())"
   ]
  },
  {
   "cell_type": "code",
   "execution_count": 189,
   "id": "45b832bf",
   "metadata": {},
   "outputs": [
    {
     "data": {
      "text/plain": [
       "tensor([[[  10.,   20.,   30.,   40.,   50.],\n",
       "         [ 146.,  172.,  198.,  224.,  250.],\n",
       "         [ 282.,  324.,  366.,  408.,  450.]],\n",
       "\n",
       "        [[1578., 1636., 1694., 1752., 1810.],\n",
       "         [2034., 2108., 2182., 2256., 2330.],\n",
       "         [2490., 2580., 2670., 2760., 2850.]]])"
      ]
     },
     "execution_count": 189,
     "metadata": {},
     "output_type": "execute_result"
    }
   ],
   "source": [
    "torch.baddbmm(-50 * torch.ones(tensor_1.size(0), tensor_1.size(1), tensor_2.size(2)), tensor_1, tensor_2, beta=2, alpha=1)"
   ]
  },
  {
   "cell_type": "markdown",
   "id": "e3d8ab29",
   "metadata": {},
   "source": [
    "##### torch.addbmm\n",
    "[torch.addbmm(input, batch1, batch2, *, beta=1, alpha=1, out=None)](https://pytorch.org/docs/stable/generated/torch.addbmm.html)  \n",
    "$out=\\beta \\cdot input + \\alpha(\\sum_{i=1}^{b-1} batch1_i @ batch2_i)$"
   ]
  },
  {
   "cell_type": "code",
   "execution_count": 204,
   "id": "023eb57b",
   "metadata": {},
   "outputs": [
    {
     "name": "stdout",
     "output_type": "stream",
     "text": [
      "size of output = torch.Size([3, 5])\n"
     ]
    }
   ],
   "source": [
    "print(\"size of output =\", torch.ones(tensor_1.size(1), tensor_2.size(2)).size())"
   ]
  },
  {
   "cell_type": "code",
   "execution_count": 205,
   "id": "7b0902e7",
   "metadata": {},
   "outputs": [
    {
     "data": {
      "text/plain": [
       "tensor([[1588., 1656., 1724., 1792., 1860.],\n",
       "        [2180., 2280., 2380., 2480., 2580.],\n",
       "        [2772., 2904., 3036., 3168., 3300.]])"
      ]
     },
     "execution_count": 205,
     "metadata": {},
     "output_type": "execute_result"
    }
   ],
   "source": [
    "torch.addbmm(-100 * torch.ones(tensor_1.size(1), tensor_2.size(2)), tensor_1, tensor_2, beta=2, alpha=1)"
   ]
  },
  {
   "cell_type": "code",
   "execution_count": 219,
   "id": "2b019898",
   "metadata": {},
   "outputs": [
    {
     "name": "stdout",
     "output_type": "stream",
     "text": [
      "验证: True\n"
     ]
    }
   ],
   "source": [
    "tensor_3 = torch.zeros(tensor_1.size(1), tensor_2.size(2))\n",
    "tensor_4 = torch.baddbmm(-50 * torch.ones(tensor_1.size(0), tensor_1.size(1), tensor_2.size(2)), tensor_1, tensor_2, beta=2, alpha=1)\n",
    "tensor_5 = torch.addbmm(-50 * tensor_4.size(0) * torch.ones(tensor_1.size(1), tensor_2.size(2)), tensor_1, tensor_2, beta=2, alpha=1)\n",
    "for ii in range(tensor_4.size(0)):\n",
    "    tensor_3 += tensor_4[ii]\n",
    "print(\"验证:\", torch.equal(tensor_3, tensor_5))"
   ]
  },
  {
   "cell_type": "markdown",
   "id": "6e82bc33",
   "metadata": {},
   "source": [
    "#### broadcasting\n",
    "##### (j×1×n×n) × (k×n×n) = (j×k×n×n)\n",
    "if input is a $(j×1×n×n)$ tensor and other is a $(k×n×n)$ tensor, out will be a $(j×k×n×n)$ tensor."
   ]
  },
  {
   "cell_type": "code",
   "execution_count": 220,
   "id": "a5c73ad9",
   "metadata": {},
   "outputs": [
    {
     "name": "stdout",
     "output_type": "stream",
     "text": [
      "size of tensor_1 = torch.Size([3, 1, 4, 4])\n",
      "size of tensor_2 = torch.Size([2, 4, 4])\n",
      "size of tensor_1 @ tensor_2 = torch.Size([3, 2, 4, 4])\n"
     ]
    }
   ],
   "source": [
    "tensor_1 = torch.arange(1, 3 * 4 * 4 + 1).reshape(3, 1, 4, 4)\n",
    "tensor_2 = torch.arange(1, 2 * 4 * 4 + 1).reshape(2, 4, 4)\n",
    "print(\"size of tensor_1 =\", tensor_1.size())\n",
    "print(\"size of tensor_2 =\", tensor_2.size())\n",
    "print(\"size of tensor_1 @ tensor_2 =\", torch.matmul(tensor_1, tensor_2).size())"
   ]
  },
  {
   "cell_type": "code",
   "execution_count": 221,
   "id": "18a0f567",
   "metadata": {},
   "outputs": [
    {
     "data": {
      "text/plain": [
       "tensor([[[[  90,  100,  110,  120],\n",
       "          [ 202,  228,  254,  280],\n",
       "          [ 314,  356,  398,  440],\n",
       "          [ 426,  484,  542,  600]],\n",
       "\n",
       "         [[ 250,  260,  270,  280],\n",
       "          [ 618,  644,  670,  696],\n",
       "          [ 986, 1028, 1070, 1112],\n",
       "          [1354, 1412, 1470, 1528]]],\n",
       "\n",
       "\n",
       "        [[[ 538,  612,  686,  760],\n",
       "          [ 650,  740,  830,  920],\n",
       "          [ 762,  868,  974, 1080],\n",
       "          [ 874,  996, 1118, 1240]],\n",
       "\n",
       "         [[1722, 1796, 1870, 1944],\n",
       "          [2090, 2180, 2270, 2360],\n",
       "          [2458, 2564, 2670, 2776],\n",
       "          [2826, 2948, 3070, 3192]]],\n",
       "\n",
       "\n",
       "        [[[ 986, 1124, 1262, 1400],\n",
       "          [1098, 1252, 1406, 1560],\n",
       "          [1210, 1380, 1550, 1720],\n",
       "          [1322, 1508, 1694, 1880]],\n",
       "\n",
       "         [[3194, 3332, 3470, 3608],\n",
       "          [3562, 3716, 3870, 4024],\n",
       "          [3930, 4100, 4270, 4440],\n",
       "          [4298, 4484, 4670, 4856]]]])"
      ]
     },
     "execution_count": 221,
     "metadata": {},
     "output_type": "execute_result"
    }
   ],
   "source": [
    "torch.matmul(tensor_1, tensor_2)"
   ]
  },
  {
   "cell_type": "code",
   "execution_count": 222,
   "id": "418985ad",
   "metadata": {},
   "outputs": [
    {
     "name": "stdout",
     "output_type": "stream",
     "text": [
      "验证: tensor([[ 90, 100, 110, 120],\n",
      "        [202, 228, 254, 280],\n",
      "        [314, 356, 398, 440],\n",
      "        [426, 484, 542, 600]])\n",
      "验证: tensor([[ 250,  260,  270,  280],\n",
      "        [ 618,  644,  670,  696],\n",
      "        [ 986, 1028, 1070, 1112],\n",
      "        [1354, 1412, 1470, 1528]])\n",
      "验证: tensor([[ 538,  612,  686,  760],\n",
      "        [ 650,  740,  830,  920],\n",
      "        [ 762,  868,  974, 1080],\n",
      "        [ 874,  996, 1118, 1240]])\n",
      "验证: tensor([[1722, 1796, 1870, 1944],\n",
      "        [2090, 2180, 2270, 2360],\n",
      "        [2458, 2564, 2670, 2776],\n",
      "        [2826, 2948, 3070, 3192]])\n",
      "验证: tensor([[ 986, 1124, 1262, 1400],\n",
      "        [1098, 1252, 1406, 1560],\n",
      "        [1210, 1380, 1550, 1720],\n",
      "        [1322, 1508, 1694, 1880]])\n",
      "验证: tensor([[3194, 3332, 3470, 3608],\n",
      "        [3562, 3716, 3870, 4024],\n",
      "        [3930, 4100, 4270, 4440],\n",
      "        [4298, 4484, 4670, 4856]])\n"
     ]
    }
   ],
   "source": [
    "for ii in range(tensor_1.size(0)):\n",
    "    for jj in range(tensor_2.size(0)):\n",
    "        print(\"验证:\", tensor_1[ii][0] @ tensor_2[jj])"
   ]
  },
  {
   "cell_type": "markdown",
   "id": "80138c40",
   "metadata": {},
   "source": [
    "##### (j×1×n×m) × (k×m×p) = (j×k×n×p)\n",
    "if input is a $(j×1×n×m)$ tensor and other is a $(k×m×p)$ tensor, out will be a $(j×k×n×p)$ tensor."
   ]
  },
  {
   "cell_type": "code",
   "execution_count": 224,
   "id": "8358b6b8",
   "metadata": {},
   "outputs": [
    {
     "name": "stdout",
     "output_type": "stream",
     "text": [
      "size of tensor_1 = torch.Size([3, 1, 4, 5])\n",
      "size of tensor_2 = torch.Size([2, 5, 6])\n",
      "size of tensor_1 @ tensor_2 = torch.Size([3, 2, 4, 6])\n"
     ]
    }
   ],
   "source": [
    "tensor_1 = torch.arange(1, 3 * 4 * 5 + 1).reshape(3, 1, 4, 5)\n",
    "tensor_2 = torch.arange(1, 2 * 5 * 6 + 1).reshape(2, 5, 6)\n",
    "print(\"size of tensor_1 =\", tensor_1.size())\n",
    "print(\"size of tensor_2 =\", tensor_2.size())\n",
    "print(\"size of tensor_1 @ tensor_2 =\", torch.matmul(tensor_1, tensor_2).size())"
   ]
  },
  {
   "cell_type": "code",
   "execution_count": 225,
   "id": "c5605707",
   "metadata": {},
   "outputs": [
    {
     "data": {
      "text/plain": [
       "tensor([[[[  255,   270,   285,   300,   315,   330],\n",
       "          [  580,   620,   660,   700,   740,   780],\n",
       "          [  905,   970,  1035,  1100,  1165,  1230],\n",
       "          [ 1230,  1320,  1410,  1500,  1590,  1680]],\n",
       "\n",
       "         [[  705,   720,   735,   750,   765,   780],\n",
       "          [ 1780,  1820,  1860,  1900,  1940,  1980],\n",
       "          [ 2855,  2920,  2985,  3050,  3115,  3180],\n",
       "          [ 3930,  4020,  4110,  4200,  4290,  4380]]],\n",
       "\n",
       "\n",
       "        [[[ 1555,  1670,  1785,  1900,  2015,  2130],\n",
       "          [ 1880,  2020,  2160,  2300,  2440,  2580],\n",
       "          [ 2205,  2370,  2535,  2700,  2865,  3030],\n",
       "          [ 2530,  2720,  2910,  3100,  3290,  3480]],\n",
       "\n",
       "         [[ 5005,  5120,  5235,  5350,  5465,  5580],\n",
       "          [ 6080,  6220,  6360,  6500,  6640,  6780],\n",
       "          [ 7155,  7320,  7485,  7650,  7815,  7980],\n",
       "          [ 8230,  8420,  8610,  8800,  8990,  9180]]],\n",
       "\n",
       "\n",
       "        [[[ 2855,  3070,  3285,  3500,  3715,  3930],\n",
       "          [ 3180,  3420,  3660,  3900,  4140,  4380],\n",
       "          [ 3505,  3770,  4035,  4300,  4565,  4830],\n",
       "          [ 3830,  4120,  4410,  4700,  4990,  5280]],\n",
       "\n",
       "         [[ 9305,  9520,  9735,  9950, 10165, 10380],\n",
       "          [10380, 10620, 10860, 11100, 11340, 11580],\n",
       "          [11455, 11720, 11985, 12250, 12515, 12780],\n",
       "          [12530, 12820, 13110, 13400, 13690, 13980]]]])"
      ]
     },
     "execution_count": 225,
     "metadata": {},
     "output_type": "execute_result"
    }
   ],
   "source": [
    "torch.matmul(tensor_1, tensor_2)"
   ]
  },
  {
   "cell_type": "code",
   "execution_count": 226,
   "id": "421fb252",
   "metadata": {},
   "outputs": [
    {
     "name": "stdout",
     "output_type": "stream",
     "text": [
      "验证: tensor([[ 255,  270,  285,  300,  315,  330],\n",
      "        [ 580,  620,  660,  700,  740,  780],\n",
      "        [ 905,  970, 1035, 1100, 1165, 1230],\n",
      "        [1230, 1320, 1410, 1500, 1590, 1680]])\n",
      "验证: tensor([[ 705,  720,  735,  750,  765,  780],\n",
      "        [1780, 1820, 1860, 1900, 1940, 1980],\n",
      "        [2855, 2920, 2985, 3050, 3115, 3180],\n",
      "        [3930, 4020, 4110, 4200, 4290, 4380]])\n",
      "验证: tensor([[1555, 1670, 1785, 1900, 2015, 2130],\n",
      "        [1880, 2020, 2160, 2300, 2440, 2580],\n",
      "        [2205, 2370, 2535, 2700, 2865, 3030],\n",
      "        [2530, 2720, 2910, 3100, 3290, 3480]])\n",
      "验证: tensor([[5005, 5120, 5235, 5350, 5465, 5580],\n",
      "        [6080, 6220, 6360, 6500, 6640, 6780],\n",
      "        [7155, 7320, 7485, 7650, 7815, 7980],\n",
      "        [8230, 8420, 8610, 8800, 8990, 9180]])\n",
      "验证: tensor([[2855, 3070, 3285, 3500, 3715, 3930],\n",
      "        [3180, 3420, 3660, 3900, 4140, 4380],\n",
      "        [3505, 3770, 4035, 4300, 4565, 4830],\n",
      "        [3830, 4120, 4410, 4700, 4990, 5280]])\n",
      "验证: tensor([[ 9305,  9520,  9735,  9950, 10165, 10380],\n",
      "        [10380, 10620, 10860, 11100, 11340, 11580],\n",
      "        [11455, 11720, 11985, 12250, 12515, 12780],\n",
      "        [12530, 12820, 13110, 13400, 13690, 13980]])\n"
     ]
    }
   ],
   "source": [
    "for ii in range(tensor_1.size(0)):\n",
    "    for jj in range(tensor_2.size(0)):\n",
    "        print(\"验证:\", tensor_1[ii][0] @ tensor_2[jj])"
   ]
  },
  {
   "cell_type": "markdown",
   "id": "60276d5b",
   "metadata": {},
   "source": [
    "##### (j×n×m) × (k×m×p) = (j×k×n×p)"
   ]
  },
  {
   "cell_type": "code",
   "execution_count": 227,
   "id": "867697ee",
   "metadata": {},
   "outputs": [
    {
     "name": "stdout",
     "output_type": "stream",
     "text": [
      "size of tensor_1 = torch.Size([3, 4, 5])\n",
      "size of tensor_2 = torch.Size([2, 5, 3])\n"
     ]
    },
    {
     "ename": "RuntimeError",
     "evalue": "The size of tensor a (3) must match the size of tensor b (2) at non-singleton dimension 0",
     "output_type": "error",
     "traceback": [
      "\u001b[0;31m---------------------------------------------------------------------------\u001b[0m",
      "\u001b[0;31mRuntimeError\u001b[0m                              Traceback (most recent call last)",
      "Input \u001b[0;32mIn [227]\u001b[0m, in \u001b[0;36m<cell line: 5>\u001b[0;34m()\u001b[0m\n\u001b[1;32m      3\u001b[0m \u001b[38;5;28mprint\u001b[39m(\u001b[38;5;124m\"\u001b[39m\u001b[38;5;124msize of tensor_1 =\u001b[39m\u001b[38;5;124m\"\u001b[39m, tensor_1\u001b[38;5;241m.\u001b[39msize())\n\u001b[1;32m      4\u001b[0m \u001b[38;5;28mprint\u001b[39m(\u001b[38;5;124m\"\u001b[39m\u001b[38;5;124msize of tensor_2 =\u001b[39m\u001b[38;5;124m\"\u001b[39m, tensor_2\u001b[38;5;241m.\u001b[39msize())\n\u001b[0;32m----> 5\u001b[0m \u001b[38;5;28mprint\u001b[39m(\u001b[38;5;124m\"\u001b[39m\u001b[38;5;124msize of tensor_1 @ tensor_2 =\u001b[39m\u001b[38;5;124m\"\u001b[39m, \u001b[43mtorch\u001b[49m\u001b[38;5;241;43m.\u001b[39;49m\u001b[43mmatmul\u001b[49m\u001b[43m(\u001b[49m\u001b[43mtensor_1\u001b[49m\u001b[43m,\u001b[49m\u001b[43m \u001b[49m\u001b[43mtensor_2\u001b[49m\u001b[43m)\u001b[49m\u001b[38;5;241m.\u001b[39msize())\n",
      "\u001b[0;31mRuntimeError\u001b[0m: The size of tensor a (3) must match the size of tensor b (2) at non-singleton dimension 0"
     ]
    }
   ],
   "source": [
    "tensor_1 = torch.arange(1, 3 * 4 * 5 + 1).reshape(3, 4, 5)\n",
    "tensor_2 = torch.arange(1, 2 * 5 * 3 + 1).reshape(2, 5, 3)\n",
    "print(\"size of tensor_1 =\", tensor_1.size())\n",
    "print(\"size of tensor_2 =\", tensor_2.size())\n",
    "print(\"size of tensor_1 @ tensor_2 =\", torch.matmul(tensor_1, tensor_2).size())"
   ]
  },
  {
   "cell_type": "code",
   "execution_count": 228,
   "id": "d82475fd",
   "metadata": {},
   "outputs": [
    {
     "name": "stdout",
     "output_type": "stream",
     "text": [
      "size of tensor_1 = torch.Size([3, 1, 4, 5])\n",
      "size of tensor_2 = torch.Size([2, 5, 3])\n",
      "size of tensor_1 @ tensor_2 = torch.Size([3, 2, 4, 3])\n"
     ]
    }
   ],
   "source": [
    "tensor_1 = torch.unsqueeze(torch.arange(1, 3 * 4 * 5 + 1).reshape(3, 4, 5), dim = 1)\n",
    "tensor_2 = torch.arange(1, 2 * 5 * 3 + 1).reshape(2, 5, 3)\n",
    "print(\"size of tensor_1 =\", tensor_1.size())\n",
    "print(\"size of tensor_2 =\", tensor_2.size())\n",
    "print(\"size of tensor_1 @ tensor_2 =\", torch.matmul(tensor_1, tensor_2).size())"
   ]
  },
  {
   "cell_type": "markdown",
   "id": "18db6247",
   "metadata": {},
   "source": [
    "## 除法"
   ]
  },
  {
   "cell_type": "markdown",
   "id": "628f16d6",
   "metadata": {},
   "source": [
    "### torch.div 除法\n",
    "torch.div(input, other, \\*, rounding_mode=None, out=None)  \n",
    "$\\iff$ torch.divide(input, other, *, rounding_mode=None, out=None)\n",
    "1. rounding_mode=None: 四舍五入 $\\iff$ torch.true_divide(dividend, divisor, *, out) \n",
    "2. rounding_mode=\"trunc\": 向0取整\n",
    "3. rounding_mode=\"floor\": 向下取整"
   ]
  },
  {
   "cell_type": "markdown",
   "id": "55298325",
   "metadata": {},
   "source": [
    "* other is int, rounding_mode=None"
   ]
  },
  {
   "cell_type": "code",
   "execution_count": null,
   "id": "2deff585",
   "metadata": {},
   "outputs": [],
   "source": [
    "\"\"\"\n",
    "torch.div(torch.tensor([-4., 1., 4.]), 3)\n",
    "torch.divide(torch.tensor([-4., 1., 4.]), 3)\n",
    "torch.true_divide(torch.tensor([-4., 1., 4.]), 3)\n",
    "torch.tensor([-4., 1., 4.]).div(3)\n",
    "torch.tensor([-4., 1., 4.]).divide(3)\n",
    "torch.tensor([-4., 1., 4.]).true_divide(3)\n",
    "\"\"\""
   ]
  },
  {
   "cell_type": "code",
   "execution_count": 312,
   "id": "393adb82",
   "metadata": {},
   "outputs": [
    {
     "data": {
      "text/plain": [
       "tensor([-1.3333,  0.3333,  1.3333])"
      ]
     },
     "execution_count": 312,
     "metadata": {},
     "output_type": "execute_result"
    }
   ],
   "source": [
    "torch.div(torch.tensor([-4., 1., 4.]), 3)"
   ]
  },
  {
   "cell_type": "code",
   "execution_count": 313,
   "id": "b16f23dc",
   "metadata": {},
   "outputs": [
    {
     "data": {
      "text/plain": [
       "tensor([-1.3333,  0.3333,  1.3333])"
      ]
     },
     "execution_count": 313,
     "metadata": {},
     "output_type": "execute_result"
    }
   ],
   "source": [
    "torch.divide(torch.tensor([-4., 1., 4.]), 3)"
   ]
  },
  {
   "cell_type": "code",
   "execution_count": 314,
   "id": "5924d3c5",
   "metadata": {},
   "outputs": [
    {
     "data": {
      "text/plain": [
       "tensor([-1.3333,  0.3333,  1.3333])"
      ]
     },
     "execution_count": 314,
     "metadata": {},
     "output_type": "execute_result"
    }
   ],
   "source": [
    "torch.true_divide(torch.tensor([-4., 1., 4.]), 3)"
   ]
  },
  {
   "cell_type": "code",
   "execution_count": 315,
   "id": "8200c333",
   "metadata": {},
   "outputs": [
    {
     "data": {
      "text/plain": [
       "tensor([-1.3333,  0.3333,  1.3333])"
      ]
     },
     "execution_count": 315,
     "metadata": {},
     "output_type": "execute_result"
    }
   ],
   "source": [
    "torch.tensor([-4., 1., 4.]).div(3)"
   ]
  },
  {
   "cell_type": "code",
   "execution_count": 316,
   "id": "60cc30cd",
   "metadata": {},
   "outputs": [
    {
     "data": {
      "text/plain": [
       "tensor([-1.3333,  0.3333,  1.3333])"
      ]
     },
     "execution_count": 316,
     "metadata": {},
     "output_type": "execute_result"
    }
   ],
   "source": [
    "torch.tensor([-4., 1., 4.]).divide(3)"
   ]
  },
  {
   "cell_type": "code",
   "execution_count": 317,
   "id": "ba85907b",
   "metadata": {},
   "outputs": [
    {
     "data": {
      "text/plain": [
       "tensor([-1.3333,  0.3333,  1.3333])"
      ]
     },
     "execution_count": 317,
     "metadata": {},
     "output_type": "execute_result"
    }
   ],
   "source": [
    "torch.tensor([-4., 1., 4.]).true_divide(3)"
   ]
  },
  {
   "cell_type": "markdown",
   "id": "8288e721",
   "metadata": {},
   "source": [
    "* other is int, rounding_mode=\"trunc\""
   ]
  },
  {
   "cell_type": "code",
   "execution_count": 306,
   "id": "58bd29fd",
   "metadata": {},
   "outputs": [
    {
     "data": {
      "text/plain": [
       "tensor([-1.,  0.,  1.])"
      ]
     },
     "execution_count": 306,
     "metadata": {},
     "output_type": "execute_result"
    }
   ],
   "source": [
    "torch.div(torch.tensor([-4., 1., 4.]), 3, rounding_mode=\"trunc\")"
   ]
  },
  {
   "cell_type": "markdown",
   "id": "e7be75c9",
   "metadata": {},
   "source": [
    "* other is int, rounding_mode=\"floor\""
   ]
  },
  {
   "cell_type": "code",
   "execution_count": 307,
   "id": "cb005481",
   "metadata": {},
   "outputs": [
    {
     "data": {
      "text/plain": [
       "tensor([-2.,  0.,  1.])"
      ]
     },
     "execution_count": 307,
     "metadata": {},
     "output_type": "execute_result"
    }
   ],
   "source": [
    "torch.div(torch.tensor([-4., 1., 4.]), 3, rounding_mode=\"floor\")"
   ]
  },
  {
   "cell_type": "markdown",
   "id": "31471f0f",
   "metadata": {},
   "source": [
    "* other is Tensor"
   ]
  },
  {
   "cell_type": "code",
   "execution_count": 261,
   "id": "4fffae4d",
   "metadata": {},
   "outputs": [],
   "source": [
    "tensor_1 = torch.arange(-6, 6).reshape(4, 3)\n",
    "tensor_2 = torch.ones(3, dtype=torch.int) * 3"
   ]
  },
  {
   "cell_type": "code",
   "execution_count": 265,
   "id": "f69fafa9",
   "metadata": {},
   "outputs": [
    {
     "data": {
      "text/plain": [
       "tensor([[-2.0000, -1.6667, -1.3333],\n",
       "        [-1.0000, -0.6667, -0.3333],\n",
       "        [ 0.0000,  0.3333,  0.6667],\n",
       "        [ 1.0000,  1.3333,  1.6667]])"
      ]
     },
     "execution_count": 265,
     "metadata": {},
     "output_type": "execute_result"
    }
   ],
   "source": [
    "torch.div(tensor_1, tensor_2)"
   ]
  },
  {
   "cell_type": "code",
   "execution_count": 267,
   "id": "8a67ef70",
   "metadata": {},
   "outputs": [
    {
     "name": "stdout",
     "output_type": "stream",
     "text": [
      "tensor([-2.0000, -1.6667, -1.3333])\n",
      "tensor([-1.0000, -0.6667, -0.3333])\n",
      "tensor([0.0000, 0.3333, 0.6667])\n",
      "tensor([1.0000, 1.3333, 1.6667])\n"
     ]
    }
   ],
   "source": [
    "for ii in range(tensor_1.size(0)):\n",
    "    print(tensor_1[ii].div(tensor_2))"
   ]
  },
  {
   "cell_type": "markdown",
   "id": "3b283ff9",
   "metadata": {},
   "source": [
    "### torch.addcdiv\n",
    "torch.addcdiv(input, tensor1, tensor2, *, value=1, out=None)\n",
    "$$ out_i = input_i + value \\times \\frac{tensor1_i}{tensor2_i} $$"
   ]
  },
  {
   "cell_type": "code",
   "execution_count": 353,
   "id": "febedbb9",
   "metadata": {},
   "outputs": [
    {
     "data": {
      "text/plain": [
       "tensor([7.0000, 7.6667])"
      ]
     },
     "execution_count": 353,
     "metadata": {},
     "output_type": "execute_result"
    }
   ],
   "source": [
    "torch.addcdiv(input=torch.tensor([4.,5.]),\n",
    "              tensor1=torch.tensor([3.,4.]),\n",
    "              tensor2=torch.tensor([2.,3.]),\n",
    "              value=2)"
   ]
  },
  {
   "cell_type": "code",
   "execution_count": 354,
   "id": "6e765395",
   "metadata": {},
   "outputs": [
    {
     "data": {
      "text/plain": [
       "tensor([7.0000, 7.6667])"
      ]
     },
     "execution_count": 354,
     "metadata": {},
     "output_type": "execute_result"
    }
   ],
   "source": [
    "torch.tensor([4.,5.]).addcdiv(tensor1=torch.tensor([3.,4.]),\n",
    "                              tensor2=torch.tensor([2.,3.]),\n",
    "                              value=2)"
   ]
  },
  {
   "cell_type": "markdown",
   "id": "d57723f2",
   "metadata": {},
   "source": [
    "## 绝对值/近似"
   ]
  },
  {
   "cell_type": "code",
   "execution_count": 280,
   "id": "0ac3346e",
   "metadata": {},
   "outputs": [],
   "source": [
    "tensor_1 = torch.tensor([-4.2, -0.1, 0.2, 4.6])"
   ]
  },
  {
   "cell_type": "markdown",
   "id": "a43f3461",
   "metadata": {},
   "source": [
    "### torch.abs 绝对值\n",
    "torch.abs(input, \\*, out=None)  \n",
    "$\\iff$ torch.absolute(input, \\*, out=None)"
   ]
  },
  {
   "cell_type": "code",
   "execution_count": null,
   "id": "c8ddcb5b",
   "metadata": {},
   "outputs": [],
   "source": [
    "\"\"\"\n",
    "torch.abs(tensor_1)\n",
    "tensor_1.abs()\n",
    "torch.absolute(tensor_1)\n",
    "tensor_1.absolute()\n",
    "\"\"\""
   ]
  },
  {
   "cell_type": "code",
   "execution_count": 281,
   "id": "b072bd5f",
   "metadata": {},
   "outputs": [
    {
     "data": {
      "text/plain": [
       "tensor([4.2000, 0.1000, 0.2000, 4.6000])"
      ]
     },
     "execution_count": 281,
     "metadata": {},
     "output_type": "execute_result"
    }
   ],
   "source": [
    "torch.abs(tensor_1)"
   ]
  },
  {
   "cell_type": "code",
   "execution_count": 282,
   "id": "b336895a",
   "metadata": {},
   "outputs": [
    {
     "data": {
      "text/plain": [
       "tensor([4.2000, 0.1000, 0.2000, 4.6000])"
      ]
     },
     "execution_count": 282,
     "metadata": {},
     "output_type": "execute_result"
    }
   ],
   "source": [
    "tensor_1.abs()"
   ]
  },
  {
   "cell_type": "code",
   "execution_count": 283,
   "id": "129dce84",
   "metadata": {},
   "outputs": [
    {
     "data": {
      "text/plain": [
       "tensor([4.2000, 0.1000, 0.2000, 4.6000])"
      ]
     },
     "execution_count": 283,
     "metadata": {},
     "output_type": "execute_result"
    }
   ],
   "source": [
    "torch.absolute(tensor_1)"
   ]
  },
  {
   "cell_type": "code",
   "execution_count": 284,
   "id": "99b175e1",
   "metadata": {},
   "outputs": [
    {
     "data": {
      "text/plain": [
       "tensor([4.2000, 0.1000, 0.2000, 4.6000])"
      ]
     },
     "execution_count": 284,
     "metadata": {},
     "output_type": "execute_result"
    }
   ],
   "source": [
    "tensor_1.absolute()"
   ]
  },
  {
   "cell_type": "markdown",
   "id": "97dcd90e",
   "metadata": {},
   "source": [
    "### torch.round 四舍五入\n",
    "torch.round(input, \\*, decimals=0, out=None)  "
   ]
  },
  {
   "cell_type": "code",
   "execution_count": 319,
   "id": "602ae22f",
   "metadata": {},
   "outputs": [
    {
     "data": {
      "text/plain": [
       "tensor([-4., -0.,  0.,  5.])"
      ]
     },
     "execution_count": 319,
     "metadata": {},
     "output_type": "execute_result"
    }
   ],
   "source": [
    "torch.round(tensor_1)"
   ]
  },
  {
   "cell_type": "markdown",
   "id": "f457876a",
   "metadata": {},
   "source": [
    ">**notice**: 与两个整数等距的值, 四舍五入到最近的偶数值<br>\n",
    "Values equidistant from two integers are rounded towards the nearest even value "
   ]
  },
  {
   "cell_type": "code",
   "execution_count": 323,
   "id": "3c1b26bd",
   "metadata": {},
   "outputs": [
    {
     "name": "stdout",
     "output_type": "stream",
     "text": [
      "tensor([-2.5000, -1.5000, -0.5000,  0.5000,  1.5000,  2.5000])\n"
     ]
    }
   ],
   "source": [
    "tensor_2 = torch.arange(-2.5, 3.0, step=1)\n",
    "print(tensor_2)"
   ]
  },
  {
   "cell_type": "code",
   "execution_count": 324,
   "id": "657976b2",
   "metadata": {},
   "outputs": [
    {
     "data": {
      "text/plain": [
       "tensor([-2., -2., -0.,  0.,  2.,  2.])"
      ]
     },
     "execution_count": 324,
     "metadata": {},
     "output_type": "execute_result"
    }
   ],
   "source": [
    "torch.round(tensor_2)"
   ]
  },
  {
   "cell_type": "code",
   "execution_count": 320,
   "id": "2f867a63",
   "metadata": {},
   "outputs": [
    {
     "data": {
      "text/plain": [
       "tensor([0.1230])"
      ]
     },
     "execution_count": 320,
     "metadata": {},
     "output_type": "execute_result"
    }
   ],
   "source": [
    "torch.round(torch.tensor([0.1234567]), decimals=3)"
   ]
  },
  {
   "cell_type": "code",
   "execution_count": 321,
   "id": "186839dc",
   "metadata": {},
   "outputs": [
    {
     "data": {
      "text/plain": [
       "tensor([1000.])"
      ]
     },
     "execution_count": 321,
     "metadata": {},
     "output_type": "execute_result"
    }
   ],
   "source": [
    "torch.round(torch.tensor([1200.1234567]), decimals=-3)"
   ]
  },
  {
   "cell_type": "markdown",
   "id": "a7966fea",
   "metadata": {},
   "source": [
    "### torch.ceil 向上取整\n",
    "torch.ceil(input, *, out=None)"
   ]
  },
  {
   "cell_type": "code",
   "execution_count": 286,
   "id": "6982af6a",
   "metadata": {},
   "outputs": [
    {
     "name": "stdout",
     "output_type": "stream",
     "text": [
      "tensor([-4.2000, -0.1000,  0.2000,  4.6000])\n"
     ]
    }
   ],
   "source": [
    "print(tensor_1)"
   ]
  },
  {
   "cell_type": "code",
   "execution_count": 285,
   "id": "a9cef0c2",
   "metadata": {},
   "outputs": [
    {
     "data": {
      "text/plain": [
       "tensor([-4., -0.,  1.,  5.])"
      ]
     },
     "execution_count": 285,
     "metadata": {},
     "output_type": "execute_result"
    }
   ],
   "source": [
    "torch.ceil(tensor_1)"
   ]
  },
  {
   "cell_type": "code",
   "execution_count": 287,
   "id": "8737d7ae",
   "metadata": {},
   "outputs": [
    {
     "data": {
      "text/plain": [
       "tensor([-4., -0.,  1.,  5.])"
      ]
     },
     "execution_count": 287,
     "metadata": {},
     "output_type": "execute_result"
    }
   ],
   "source": [
    "tensor_1.ceil()"
   ]
  },
  {
   "cell_type": "markdown",
   "id": "1ad94e28",
   "metadata": {},
   "source": [
    "### torch.floor 向下取整\n",
    "torch.floor(input, *, out=None)"
   ]
  },
  {
   "cell_type": "code",
   "execution_count": 288,
   "id": "f2addca2",
   "metadata": {},
   "outputs": [
    {
     "data": {
      "text/plain": [
       "tensor([-5., -1.,  0.,  4.])"
      ]
     },
     "execution_count": 288,
     "metadata": {},
     "output_type": "execute_result"
    }
   ],
   "source": [
    "torch.floor(tensor_1)"
   ]
  },
  {
   "cell_type": "code",
   "execution_count": 289,
   "id": "60a56b73",
   "metadata": {},
   "outputs": [
    {
     "data": {
      "text/plain": [
       "tensor([-5., -1.,  0.,  4.])"
      ]
     },
     "execution_count": 289,
     "metadata": {},
     "output_type": "execute_result"
    }
   ],
   "source": [
    "tensor_1.floor()"
   ]
  },
  {
   "cell_type": "markdown",
   "id": "09932916",
   "metadata": {},
   "source": [
    "### torch.trunc 向0取整\n",
    "torch.trunc(input, \\*, out=None)  \n",
    "$\\iff$ torch.fix(input, \\*, out=None)"
   ]
  },
  {
   "cell_type": "code",
   "execution_count": 290,
   "id": "354ebcec",
   "metadata": {},
   "outputs": [
    {
     "name": "stdout",
     "output_type": "stream",
     "text": [
      "tensor([-4.2000, -0.1000,  0.2000,  4.6000])\n"
     ]
    }
   ],
   "source": [
    "print(tensor_1)"
   ]
  },
  {
   "cell_type": "code",
   "execution_count": null,
   "id": "1692f735",
   "metadata": {},
   "outputs": [],
   "source": [
    "\"\"\"\n",
    "torch.trunc(tensor_1)\n",
    "tensor_1.trunc()\n",
    "torch.fix(tensor_1)\n",
    "tensor_1.fix()\n",
    "\"\"\""
   ]
  },
  {
   "cell_type": "code",
   "execution_count": 291,
   "id": "15714040",
   "metadata": {},
   "outputs": [
    {
     "data": {
      "text/plain": [
       "tensor([-4., -0.,  0.,  4.])"
      ]
     },
     "execution_count": 291,
     "metadata": {},
     "output_type": "execute_result"
    }
   ],
   "source": [
    "torch.trunc(tensor_1)"
   ]
  },
  {
   "cell_type": "code",
   "execution_count": 292,
   "id": "d581e16e",
   "metadata": {},
   "outputs": [
    {
     "data": {
      "text/plain": [
       "tensor([-4., -0.,  0.,  4.])"
      ]
     },
     "execution_count": 292,
     "metadata": {},
     "output_type": "execute_result"
    }
   ],
   "source": [
    "tensor_1.trunc()"
   ]
  },
  {
   "cell_type": "code",
   "execution_count": 293,
   "id": "104478ea",
   "metadata": {},
   "outputs": [
    {
     "data": {
      "text/plain": [
       "tensor([-4., -0.,  0.,  4.])"
      ]
     },
     "execution_count": 293,
     "metadata": {},
     "output_type": "execute_result"
    }
   ],
   "source": [
    "torch.fix(tensor_1)"
   ]
  },
  {
   "cell_type": "code",
   "execution_count": 294,
   "id": "015a91c2",
   "metadata": {},
   "outputs": [
    {
     "data": {
      "text/plain": [
       "tensor([-4., -0.,  0.,  4.])"
      ]
     },
     "execution_count": 294,
     "metadata": {},
     "output_type": "execute_result"
    }
   ],
   "source": [
    "tensor_1.fix()"
   ]
  },
  {
   "cell_type": "markdown",
   "id": "fa5bf246",
   "metadata": {},
   "source": [
    "## sum"
   ]
  },
  {
   "cell_type": "markdown",
   "id": "acfb794a",
   "metadata": {},
   "source": [
    "### torch.sum\n",
    "torch.sum(input, *, dtype=None)  \n",
    "torch.sum(input, dim, keepdim=False, *, dtype=None)"
   ]
  },
  {
   "cell_type": "code",
   "execution_count": 39,
   "id": "ee77ee57",
   "metadata": {},
   "outputs": [
    {
     "name": "stdout",
     "output_type": "stream",
     "text": [
      "tensor([[[ 1.,  2.,  3.,  4.],\n",
      "         [ 5.,  6.,  7.,  8.],\n",
      "         [ 9., 10., 11., 12.]],\n",
      "\n",
      "        [[13., 14., 15., 16.],\n",
      "         [17., 18., 19., 20.],\n",
      "         [21., 22., 23., 24.]]])\n"
     ]
    }
   ],
   "source": [
    "tensor_1 = torch.arange(1, 2 * 3 * 4 + 1, dtype=torch.float).view(2, 3, 4)\n",
    "print(tensor_1)"
   ]
  },
  {
   "cell_type": "code",
   "execution_count": 17,
   "id": "a373dd6f",
   "metadata": {},
   "outputs": [
    {
     "data": {
      "text/plain": [
       "tensor(300.)"
      ]
     },
     "execution_count": 17,
     "metadata": {},
     "output_type": "execute_result"
    }
   ],
   "source": [
    "torch.sum(tensor_1)"
   ]
  },
  {
   "cell_type": "code",
   "execution_count": 18,
   "id": "2d6b0ef8",
   "metadata": {},
   "outputs": [
    {
     "data": {
      "text/plain": [
       "tensor(300.)"
      ]
     },
     "execution_count": 18,
     "metadata": {},
     "output_type": "execute_result"
    }
   ],
   "source": [
    "tensor_1.sum()"
   ]
  },
  {
   "cell_type": "code",
   "execution_count": 21,
   "id": "b3104d23",
   "metadata": {},
   "outputs": [
    {
     "data": {
      "text/plain": [
       "tensor([[10., 26., 42.],\n",
       "        [58., 74., 90.]])"
      ]
     },
     "execution_count": 21,
     "metadata": {},
     "output_type": "execute_result"
    }
   ],
   "source": [
    "torch.sum(tensor_1, dim=2)"
   ]
  },
  {
   "cell_type": "code",
   "execution_count": 19,
   "id": "b2d7f2d7",
   "metadata": {},
   "outputs": [
    {
     "data": {
      "text/plain": [
       "tensor([[10., 26., 42.],\n",
       "        [58., 74., 90.]])"
      ]
     },
     "execution_count": 19,
     "metadata": {},
     "output_type": "execute_result"
    }
   ],
   "source": [
    "tensor_1.sum(axis=2)"
   ]
  },
  {
   "cell_type": "code",
   "execution_count": 23,
   "id": "59d427ad",
   "metadata": {},
   "outputs": [
    {
     "data": {
      "text/plain": [
       "tensor([ 78., 222.])"
      ]
     },
     "execution_count": 23,
     "metadata": {},
     "output_type": "execute_result"
    }
   ],
   "source": [
    "torch.sum(tensor_1, (1, 2)) # 对dim=1和dim=2求和"
   ]
  },
  {
   "cell_type": "code",
   "execution_count": 34,
   "id": "15c069eb",
   "metadata": {},
   "outputs": [
    {
     "data": {
      "text/plain": [
       "tensor([ 78., 222.])"
      ]
     },
     "execution_count": 34,
     "metadata": {},
     "output_type": "execute_result"
    }
   ],
   "source": [
    "tensor_1.sum(axis=(1, 2))"
   ]
  },
  {
   "cell_type": "code",
   "execution_count": 24,
   "id": "3e733f3c",
   "metadata": {},
   "outputs": [
    {
     "name": "stdout",
     "output_type": "stream",
     "text": [
      "验证: 78 , 222\n"
     ]
    }
   ],
   "source": [
    "print(\"验证:\", (1 + 12) * 6, \",\", (13 + 24) * 6)"
   ]
  },
  {
   "cell_type": "code",
   "execution_count": 16,
   "id": "21e6f96f",
   "metadata": {},
   "outputs": [
    {
     "data": {
      "text/plain": [
       "tensor([ 68., 100., 132.])"
      ]
     },
     "execution_count": 16,
     "metadata": {},
     "output_type": "execute_result"
    }
   ],
   "source": [
    "torch.sum(tensor_1, (2, 0)) # 对dim=0和dim=2求和"
   ]
  },
  {
   "cell_type": "code",
   "execution_count": 25,
   "id": "a8fa2100",
   "metadata": {},
   "outputs": [
    {
     "name": "stdout",
     "output_type": "stream",
     "text": [
      "验证: 68 , 100 , 132\n"
     ]
    }
   ],
   "source": [
    "print(\"验证:\", (1 + 2 + 3 + 4) + (13 + 14 + 15 + 16), \",\",\n",
    "      (5 + 6 + 7 + 8) + (17 + 18 + 19 + 20), \",\",\n",
    "      (9 + 10 + 11 + 12) + (21 + 22 + 23 + 24))"
   ]
  },
  {
   "cell_type": "code",
   "execution_count": 18,
   "id": "d8811c42",
   "metadata": {},
   "outputs": [
    {
     "data": {
      "text/plain": [
       "tensor([[[ 78.]],\n",
       "\n",
       "        [[222.]]])"
      ]
     },
     "execution_count": 18,
     "metadata": {},
     "output_type": "execute_result"
    }
   ],
   "source": [
    "torch.sum(tensor_1, (1, 2), keepdim=True)"
   ]
  },
  {
   "cell_type": "markdown",
   "id": "578c3285",
   "metadata": {},
   "source": [
    "### torch.nansum\n",
    "torch.nansum(input, *, dtype=None)  \n",
    "torch.nansum(input, dim, keepdim=False, *, dtype=None)"
   ]
  },
  {
   "cell_type": "code",
   "execution_count": 19,
   "id": "bc93f99d",
   "metadata": {},
   "outputs": [],
   "source": [
    "tensor_2 = torch.tensor([[1., 2., float('nan'), 4.], [5., float('nan'), 7., 8.]])"
   ]
  },
  {
   "cell_type": "code",
   "execution_count": 20,
   "id": "8081fd5d",
   "metadata": {},
   "outputs": [
    {
     "data": {
      "text/plain": [
       "tensor(27.)"
      ]
     },
     "execution_count": 20,
     "metadata": {},
     "output_type": "execute_result"
    }
   ],
   "source": [
    "torch.nansum(tensor_2)"
   ]
  },
  {
   "cell_type": "code",
   "execution_count": 21,
   "id": "1f3a890e",
   "metadata": {},
   "outputs": [
    {
     "data": {
      "text/plain": [
       "tensor(27.)"
      ]
     },
     "execution_count": 21,
     "metadata": {},
     "output_type": "execute_result"
    }
   ],
   "source": [
    "tensor_2.nansum()"
   ]
  },
  {
   "cell_type": "code",
   "execution_count": 22,
   "id": "b7a71a27",
   "metadata": {},
   "outputs": [
    {
     "data": {
      "text/plain": [
       "tensor(27.)"
      ]
     },
     "execution_count": 22,
     "metadata": {},
     "output_type": "execute_result"
    }
   ],
   "source": [
    "torch.nansum(tensor_2, dim=(0, 1))"
   ]
  },
  {
   "cell_type": "code",
   "execution_count": 23,
   "id": "02b45693",
   "metadata": {},
   "outputs": [
    {
     "data": {
      "text/plain": [
       "tensor(nan)"
      ]
     },
     "execution_count": 23,
     "metadata": {},
     "output_type": "execute_result"
    }
   ],
   "source": [
    "torch.sum(tensor_2)"
   ]
  },
  {
   "cell_type": "code",
   "execution_count": 24,
   "id": "063bd23b",
   "metadata": {},
   "outputs": [
    {
     "data": {
      "text/plain": [
       "tensor([ 6.,  2.,  7., 12.])"
      ]
     },
     "execution_count": 24,
     "metadata": {},
     "output_type": "execute_result"
    }
   ],
   "source": [
    "torch.nansum(tensor_2, dim=0)"
   ]
  },
  {
   "cell_type": "code",
   "execution_count": 25,
   "id": "d5794db0",
   "metadata": {},
   "outputs": [
    {
     "data": {
      "text/plain": [
       "tensor([ 7., 20.])"
      ]
     },
     "execution_count": 25,
     "metadata": {},
     "output_type": "execute_result"
    }
   ],
   "source": [
    "torch.nansum(tensor_2, dim=1)"
   ]
  },
  {
   "cell_type": "markdown",
   "id": "cd399097",
   "metadata": {},
   "source": [
    "### torch.cumsum\n",
    "torch.cumsum(input, dim, *, dtype=None, out=None)\n",
    "$$y_i = x_1 + x_2 + x_3 + \\cdots + x_i $$"
   ]
  },
  {
   "cell_type": "code",
   "execution_count": 40,
   "id": "6d2404ac",
   "metadata": {},
   "outputs": [
    {
     "name": "stdout",
     "output_type": "stream",
     "text": [
      "tensor([[[ 1.,  2.,  3.,  4.],\n",
      "         [ 5.,  6.,  7.,  8.],\n",
      "         [ 9., 10., 11., 12.]],\n",
      "\n",
      "        [[13., 14., 15., 16.],\n",
      "         [17., 18., 19., 20.],\n",
      "         [21., 22., 23., 24.]]])\n"
     ]
    }
   ],
   "source": [
    "print(tensor_1)"
   ]
  },
  {
   "cell_type": "code",
   "execution_count": 41,
   "id": "901689a5",
   "metadata": {},
   "outputs": [
    {
     "data": {
      "text/plain": [
       "tensor([[[ 1.,  2.,  3.,  4.],\n",
       "         [ 5.,  6.,  7.,  8.],\n",
       "         [ 9., 10., 11., 12.]],\n",
       "\n",
       "        [[14., 16., 18., 20.],\n",
       "         [22., 24., 26., 28.],\n",
       "         [30., 32., 34., 36.]]])"
      ]
     },
     "execution_count": 41,
     "metadata": {},
     "output_type": "execute_result"
    }
   ],
   "source": [
    "torch.cumsum(tensor_1, dim=0)"
   ]
  },
  {
   "cell_type": "code",
   "execution_count": 42,
   "id": "3002dd07",
   "metadata": {},
   "outputs": [
    {
     "data": {
      "text/plain": [
       "tensor([[[ 1.,  2.,  3.,  4.],\n",
       "         [ 5.,  6.,  7.,  8.],\n",
       "         [ 9., 10., 11., 12.]],\n",
       "\n",
       "        [[14., 16., 18., 20.],\n",
       "         [22., 24., 26., 28.],\n",
       "         [30., 32., 34., 36.]]])"
      ]
     },
     "execution_count": 42,
     "metadata": {},
     "output_type": "execute_result"
    }
   ],
   "source": [
    "tensor_1.cumsum(axis=0)"
   ]
  },
  {
   "cell_type": "code",
   "execution_count": 28,
   "id": "4be4c0d2",
   "metadata": {},
   "outputs": [
    {
     "data": {
      "text/plain": [
       "tensor([[[ 1.,  3.,  6., 10.],\n",
       "         [ 5., 11., 18., 26.],\n",
       "         [ 9., 19., 30., 42.]],\n",
       "\n",
       "        [[13., 27., 42., 58.],\n",
       "         [17., 35., 54., 74.],\n",
       "         [21., 43., 66., 90.]]])"
      ]
     },
     "execution_count": 28,
     "metadata": {},
     "output_type": "execute_result"
    }
   ],
   "source": [
    "torch.cumsum(tensor_1, dim=2)"
   ]
  },
  {
   "cell_type": "markdown",
   "id": "44ba85c8",
   "metadata": {},
   "source": [
    "### torch.logsumexp\n",
    "torch.logsumexp(input, dim, keepdim=False, *, out=None)\n",
    "$$logcumsumexp(x)_i = log\\sum_j \\exp(x_{ij}) $$ "
   ]
  },
  {
   "cell_type": "code",
   "execution_count": 29,
   "id": "75f221f4",
   "metadata": {},
   "outputs": [
    {
     "data": {
      "text/plain": [
       "tensor([[1.4114, 1.4514, 1.4914],\n",
       "        [1.5314, 1.5714, 1.6114]])"
      ]
     },
     "execution_count": 29,
     "metadata": {},
     "output_type": "execute_result"
    }
   ],
   "source": [
    "torch.logsumexp(tensor_1/100, dim=2)"
   ]
  },
  {
   "cell_type": "code",
   "execution_count": 30,
   "id": "94c1c94b",
   "metadata": {},
   "outputs": [
    {
     "name": "stdout",
     "output_type": "stream",
     "text": [
      "上式的[0, 0]元素 = 1.4113568602344964\n"
     ]
    }
   ],
   "source": [
    "import math\n",
    "print(\"上式的[0, 0]元素 =\", math.log(math.exp(0.0100) + math.exp(0.0200) + math.exp(0.0300) + math.exp(0.0400)))"
   ]
  },
  {
   "cell_type": "markdown",
   "id": "ba304291",
   "metadata": {},
   "source": [
    "### torch.logcumsumexp\n",
    "torch.logcumsumexp(input, dim, *, out=None)\n",
    "$$logcumsumexp(x)_{ij} = log\\sum_{j=0}^i \\exp(x_{ij}) $$ "
   ]
  },
  {
   "cell_type": "code",
   "execution_count": 31,
   "id": "758606b4",
   "metadata": {},
   "outputs": [
    {
     "data": {
      "text/plain": [
       "tensor([[[0.0100, 0.7082, 1.1186, 1.4114],\n",
       "         [0.0500, 0.7482, 1.1586, 1.4514],\n",
       "         [0.0900, 0.7882, 1.1986, 1.4914]],\n",
       "\n",
       "        [[0.1300, 0.8282, 1.2386, 1.5314],\n",
       "         [0.1700, 0.8682, 1.2786, 1.5714],\n",
       "         [0.2100, 0.9082, 1.3186, 1.6114]]])"
      ]
     },
     "execution_count": 31,
     "metadata": {},
     "output_type": "execute_result"
    }
   ],
   "source": [
    "torch.logcumsumexp(tensor_1/100, dim=2)"
   ]
  },
  {
   "cell_type": "code",
   "execution_count": 32,
   "id": "1f4d97e7",
   "metadata": {},
   "outputs": [
    {
     "name": "stdout",
     "output_type": "stream",
     "text": [
      "上式的[0, 0, 2]元素 = 0.7081596805078623\n",
      "上式的[0, 0, 3]元素 = 1.118645621723669\n"
     ]
    }
   ],
   "source": [
    "print(\"上式的[0, 0, 2]元素 =\", math.log(math.exp(0.0100) + math.exp(0.0200)))\n",
    "print(\"上式的[0, 0, 3]元素 =\", math.log(math.exp(0.0100) + math.exp(0.0200) + math.exp(0.0300)))"
   ]
  },
  {
   "cell_type": "markdown",
   "id": "0096678c",
   "metadata": {},
   "source": [
    "### torch.trace(input) 迹\n",
    "**迹**: 二维矩阵对角线上元素的总和"
   ]
  },
  {
   "cell_type": "code",
   "execution_count": 33,
   "id": "1e58c0d6",
   "metadata": {},
   "outputs": [
    {
     "data": {
      "text/plain": [
       "tensor([[1., 2., 3.],\n",
       "        [4., 5., 6.],\n",
       "        [7., 8., 9.]])"
      ]
     },
     "execution_count": 33,
     "metadata": {},
     "output_type": "execute_result"
    }
   ],
   "source": [
    "torch.arange(1., 10.).view(3, 3)"
   ]
  },
  {
   "cell_type": "code",
   "execution_count": 34,
   "id": "028962e9",
   "metadata": {},
   "outputs": [
    {
     "data": {
      "text/plain": [
       "tensor(15.)"
      ]
     },
     "execution_count": 34,
     "metadata": {},
     "output_type": "execute_result"
    }
   ],
   "source": [
    "torch.trace(torch.arange(1., 10.).view(3, 3))"
   ]
  },
  {
   "cell_type": "code",
   "execution_count": 35,
   "id": "2030eb59",
   "metadata": {},
   "outputs": [
    {
     "data": {
      "text/plain": [
       "15"
      ]
     },
     "execution_count": 35,
     "metadata": {},
     "output_type": "execute_result"
    }
   ],
   "source": [
    "1 + 5 + 9"
   ]
  },
  {
   "cell_type": "markdown",
   "id": "dbda2561",
   "metadata": {},
   "source": [
    "## mean"
   ]
  },
  {
   "cell_type": "markdown",
   "id": "cc07643c",
   "metadata": {},
   "source": [
    "### torch.mean\n",
    "torch.mean(input, *, dtype=None)  \n",
    "torch.mean(input, dim, keepdim=False, *, dtype=None, out=None)"
   ]
  },
  {
   "cell_type": "code",
   "execution_count": 36,
   "id": "c0094680",
   "metadata": {},
   "outputs": [
    {
     "name": "stdout",
     "output_type": "stream",
     "text": [
      "tensor([[[ 1.,  2.,  3.,  4.],\n",
      "         [ 5.,  6.,  7.,  8.],\n",
      "         [ 9., 10., 11., 12.]],\n",
      "\n",
      "        [[13., 14., 15., 16.],\n",
      "         [17., 18., 19., 20.],\n",
      "         [21., 22., 23., 24.]]])\n"
     ]
    }
   ],
   "source": [
    "print(tensor_1)"
   ]
  },
  {
   "cell_type": "code",
   "execution_count": 37,
   "id": "5bc94e73",
   "metadata": {},
   "outputs": [
    {
     "data": {
      "text/plain": [
       "tensor(12.5000)"
      ]
     },
     "execution_count": 37,
     "metadata": {},
     "output_type": "execute_result"
    }
   ],
   "source": [
    "torch.mean(tensor_1)"
   ]
  },
  {
   "cell_type": "code",
   "execution_count": 38,
   "id": "1a35637e",
   "metadata": {},
   "outputs": [
    {
     "data": {
      "text/plain": [
       "tensor(12.5000)"
      ]
     },
     "execution_count": 38,
     "metadata": {},
     "output_type": "execute_result"
    }
   ],
   "source": [
    "tensor_1.mean()"
   ]
  },
  {
   "cell_type": "code",
   "execution_count": 39,
   "id": "d2a7d202",
   "metadata": {},
   "outputs": [
    {
     "data": {
      "text/plain": [
       "tensor([ 6.5000, 18.5000])"
      ]
     },
     "execution_count": 39,
     "metadata": {},
     "output_type": "execute_result"
    }
   ],
   "source": [
    "torch.mean(tensor_1, (1, 2)) # 对dim=1和dim=2求平均"
   ]
  },
  {
   "cell_type": "code",
   "execution_count": 38,
   "id": "5308ff40",
   "metadata": {},
   "outputs": [
    {
     "data": {
      "text/plain": [
       "tensor([ 6.5000, 18.5000])"
      ]
     },
     "execution_count": 38,
     "metadata": {},
     "output_type": "execute_result"
    }
   ],
   "source": [
    "tensor_1.mean(axis=(1, 2))"
   ]
  },
  {
   "cell_type": "code",
   "execution_count": 36,
   "id": "f345fedf",
   "metadata": {},
   "outputs": [
    {
     "name": "stdout",
     "output_type": "stream",
     "text": [
      "验证: 6.5 , 18.5\n"
     ]
    }
   ],
   "source": [
    "print(\"验证:\", (1 + 12) * 6 / 12, \",\", (13 + 24) * 6 / 12)"
   ]
  },
  {
   "cell_type": "code",
   "execution_count": 41,
   "id": "7c3811d0",
   "metadata": {},
   "outputs": [
    {
     "data": {
      "text/plain": [
       "tensor([ 8.5000, 12.5000, 16.5000])"
      ]
     },
     "execution_count": 41,
     "metadata": {},
     "output_type": "execute_result"
    }
   ],
   "source": [
    "torch.mean(tensor_1, (2, 0)) # 对dim=0和dim=2求和"
   ]
  },
  {
   "cell_type": "code",
   "execution_count": 37,
   "id": "5a105b8b",
   "metadata": {},
   "outputs": [
    {
     "name": "stdout",
     "output_type": "stream",
     "text": [
      "验证: 8.5 , 12.5 , 16.5\n"
     ]
    }
   ],
   "source": [
    "print(\"验证:\", ((1 + 2 + 3 + 4) + (13 + 14 + 15 + 16)) / 8, \",\",\n",
    "      ((5 + 6 + 7 + 8) + (17 + 18 + 19 + 20)) / 8, \",\",\n",
    "      ((9 + 10 + 11 + 12) + (21 + 22 + 23 + 24)) / 8)"
   ]
  },
  {
   "cell_type": "markdown",
   "id": "13bcb87c",
   "metadata": {},
   "source": [
    "### torch.nanmean\n",
    "torch.nanmean(input, dim=None, keepdim=False, *, dtype=None, out=None)"
   ]
  },
  {
   "cell_type": "code",
   "execution_count": 43,
   "id": "4a955e5b",
   "metadata": {},
   "outputs": [
    {
     "name": "stdout",
     "output_type": "stream",
     "text": [
      "tensor([[1., 2., nan, 4.],\n",
      "        [5., nan, 7., 8.]])\n"
     ]
    }
   ],
   "source": [
    "print(tensor_2)"
   ]
  },
  {
   "cell_type": "code",
   "execution_count": 44,
   "id": "d16e202b",
   "metadata": {},
   "outputs": [
    {
     "data": {
      "text/plain": [
       "tensor(4.5000)"
      ]
     },
     "execution_count": 44,
     "metadata": {},
     "output_type": "execute_result"
    }
   ],
   "source": [
    "torch.nanmean(tensor_2)"
   ]
  },
  {
   "cell_type": "code",
   "execution_count": 45,
   "id": "0aa63853",
   "metadata": {},
   "outputs": [
    {
     "data": {
      "text/plain": [
       "tensor(4.5000)"
      ]
     },
     "execution_count": 45,
     "metadata": {},
     "output_type": "execute_result"
    }
   ],
   "source": [
    "tensor_2.nanmean()"
   ]
  },
  {
   "cell_type": "code",
   "execution_count": 46,
   "id": "f24a40cb",
   "metadata": {},
   "outputs": [
    {
     "data": {
      "text/plain": [
       "tensor(4.5000)"
      ]
     },
     "execution_count": 46,
     "metadata": {},
     "output_type": "execute_result"
    }
   ],
   "source": [
    "torch.nanmean(tensor_2, dim=(0, 1))"
   ]
  },
  {
   "cell_type": "code",
   "execution_count": 47,
   "id": "d6679781",
   "metadata": {},
   "outputs": [
    {
     "data": {
      "text/plain": [
       "4.5"
      ]
     },
     "execution_count": 47,
     "metadata": {},
     "output_type": "execute_result"
    }
   ],
   "source": [
    "(1 + 2 + 4 + 5 + 7 + 8) / 6"
   ]
  },
  {
   "cell_type": "code",
   "execution_count": 48,
   "id": "7f585191",
   "metadata": {},
   "outputs": [
    {
     "data": {
      "text/plain": [
       "tensor(nan)"
      ]
     },
     "execution_count": 48,
     "metadata": {},
     "output_type": "execute_result"
    }
   ],
   "source": [
    "torch.mean(tensor_2)"
   ]
  },
  {
   "cell_type": "code",
   "execution_count": 49,
   "id": "b140bcd0",
   "metadata": {},
   "outputs": [
    {
     "data": {
      "text/plain": [
       "tensor([3., 2., 7., 6.])"
      ]
     },
     "execution_count": 49,
     "metadata": {},
     "output_type": "execute_result"
    }
   ],
   "source": [
    "torch.nanmean(tensor_2, dim=0)"
   ]
  },
  {
   "cell_type": "code",
   "execution_count": 50,
   "id": "605d1f26",
   "metadata": {},
   "outputs": [
    {
     "data": {
      "text/plain": [
       "tensor([2.3333, 6.6667])"
      ]
     },
     "execution_count": 50,
     "metadata": {},
     "output_type": "execute_result"
    }
   ],
   "source": [
    "torch.nanmean(tensor_2, dim=1)"
   ]
  },
  {
   "cell_type": "markdown",
   "id": "149ddc3a",
   "metadata": {},
   "source": [
    "### torch.var_mean 方差和均值\n",
    "torch.var_mean(input, dim=None, \\*, correction=1, keepdim=False, out=None)\n",
    "$$\\sigma^2 = \\frac{1}{N-\\delta N}\\sum_{i=1}^{N-1} (x_i-\\bar{x})^2$$\n",
    "where $x_i$ is the sample set of elements, $\\bar{x}$ is the sample mean, $N$ is the number of samples, $\\delta N$ is the correction.\n",
    "\n",
    "Returns: A tuple (var, mean) containing the variance and mean."
   ]
  },
  {
   "cell_type": "code",
   "execution_count": 51,
   "id": "2d7a168e",
   "metadata": {
    "scrolled": true
   },
   "outputs": [
    {
     "name": "stdout",
     "output_type": "stream",
     "text": [
      "tensor([[[ 1.,  2.,  3.,  4.],\n",
      "         [ 5.,  6.,  7.,  8.],\n",
      "         [ 9., 10., 11., 12.]],\n",
      "\n",
      "        [[13., 14., 15., 16.],\n",
      "         [17., 18., 19., 20.],\n",
      "         [21., 22., 23., 24.]]])\n"
     ]
    }
   ],
   "source": [
    "print(tensor_1)"
   ]
  },
  {
   "cell_type": "code",
   "execution_count": 52,
   "id": "fdf3e47f",
   "metadata": {},
   "outputs": [],
   "source": [
    "variance, mean = torch.var_mean(tensor_1, dim=2, correction=1)"
   ]
  },
  {
   "cell_type": "code",
   "execution_count": 53,
   "id": "f51ef32e",
   "metadata": {},
   "outputs": [
    {
     "data": {
      "text/plain": [
       "tensor([[1.6667, 1.6667, 1.6667],\n",
       "        [1.6667, 1.6667, 1.6667]])"
      ]
     },
     "execution_count": 53,
     "metadata": {},
     "output_type": "execute_result"
    }
   ],
   "source": [
    "variance"
   ]
  },
  {
   "cell_type": "code",
   "execution_count": 54,
   "id": "75ebe58c",
   "metadata": {},
   "outputs": [
    {
     "name": "stdout",
     "output_type": "stream",
     "text": [
      "上式的[0, 0]元素 = 1.6666666666666667\n"
     ]
    }
   ],
   "source": [
    "count = 0\n",
    "for ii in range(1, 5):\n",
    "    count += (ii - 2.5)**2\n",
    "print(\"上式的[0, 0]元素 =\", count / (4 - 1))"
   ]
  },
  {
   "cell_type": "code",
   "execution_count": 55,
   "id": "6b9fca1a",
   "metadata": {},
   "outputs": [
    {
     "data": {
      "text/plain": [
       "tensor([[ 2.5000,  6.5000, 10.5000],\n",
       "        [14.5000, 18.5000, 22.5000]])"
      ]
     },
     "execution_count": 55,
     "metadata": {},
     "output_type": "execute_result"
    }
   ],
   "source": [
    "mean"
   ]
  },
  {
   "cell_type": "code",
   "execution_count": 56,
   "id": "5bd6f8a3",
   "metadata": {},
   "outputs": [
    {
     "data": {
      "text/plain": [
       "tensor([[ 2.5000,  6.5000, 10.5000],\n",
       "        [14.5000, 18.5000, 22.5000]])"
      ]
     },
     "execution_count": 56,
     "metadata": {},
     "output_type": "execute_result"
    }
   ],
   "source": [
    "torch.mean(tensor_1, dim=2)"
   ]
  },
  {
   "cell_type": "code",
   "execution_count": 57,
   "id": "95a27ab5",
   "metadata": {},
   "outputs": [
    {
     "data": {
      "text/plain": [
       "(tensor([13., 13.]), tensor([ 6.5000, 18.5000]))"
      ]
     },
     "execution_count": 57,
     "metadata": {},
     "output_type": "execute_result"
    }
   ],
   "source": [
    "torch.var_mean(tensor_1, dim=(1, 2), correction=1)"
   ]
  },
  {
   "cell_type": "code",
   "execution_count": 58,
   "id": "2fe861e7",
   "metadata": {},
   "outputs": [
    {
     "name": "stdout",
     "output_type": "stream",
     "text": [
      "方差的第一元素 = 13.0\n"
     ]
    }
   ],
   "source": [
    "count = 0\n",
    "for ii in range(1, 13):\n",
    "    count += (ii - 6.5)**2\n",
    "print(\"方差的第一元素 =\", count / (12 - 1))"
   ]
  },
  {
   "cell_type": "markdown",
   "id": "62ca864d",
   "metadata": {},
   "source": [
    "### torch.std_mean 标准差和均值\n",
    "torch.std_mean(input, dim=None, *, correction=1, keepdim=False, out=None)\n",
    "$$\\sigma = \\sqrt{\\frac{1}{N-\\delta N}\\sum_{i=1}^{N-1} (x_i-\\bar{x})^2}$$\n",
    "where $x_i$ is the sample set of elements, $\\bar{x}$ is the sample mean, $N$ is the number of samples, $\\delta N$ is the correction.\n",
    "\n",
    "Returns: A tuple (std, mean) containing the standard deviation and mean."
   ]
  },
  {
   "cell_type": "code",
   "execution_count": 59,
   "id": "7a03d53c",
   "metadata": {},
   "outputs": [],
   "source": [
    "std, mean = torch.std_mean(tensor_1, dim=2, correction=1)"
   ]
  },
  {
   "cell_type": "code",
   "execution_count": 60,
   "id": "e52f3a97",
   "metadata": {},
   "outputs": [
    {
     "data": {
      "text/plain": [
       "tensor([[1.2910, 1.2910, 1.2910],\n",
       "        [1.2910, 1.2910, 1.2910]])"
      ]
     },
     "execution_count": 60,
     "metadata": {},
     "output_type": "execute_result"
    }
   ],
   "source": [
    "std"
   ]
  },
  {
   "cell_type": "code",
   "execution_count": 61,
   "id": "6f715eb7",
   "metadata": {},
   "outputs": [
    {
     "name": "stdout",
     "output_type": "stream",
     "text": [
      "上式的[0, 0]元素 = 1.2909944487358056\n"
     ]
    }
   ],
   "source": [
    "count = 0\n",
    "for ii in range(1, 5):\n",
    "    count += (ii - 2.5)**2\n",
    "print(\"上式的[0, 0]元素 =\", (count / (4 - 1))**0.5)"
   ]
  },
  {
   "cell_type": "code",
   "execution_count": 62,
   "id": "87504f09",
   "metadata": {},
   "outputs": [
    {
     "data": {
      "text/plain": [
       "tensor([[ 2.5000,  6.5000, 10.5000],\n",
       "        [14.5000, 18.5000, 22.5000]])"
      ]
     },
     "execution_count": 62,
     "metadata": {},
     "output_type": "execute_result"
    }
   ],
   "source": [
    "mean"
   ]
  },
  {
   "cell_type": "code",
   "execution_count": 63,
   "id": "5b4cf619",
   "metadata": {},
   "outputs": [
    {
     "data": {
      "text/plain": [
       "tensor([[ 2.5000,  6.5000, 10.5000],\n",
       "        [14.5000, 18.5000, 22.5000]])"
      ]
     },
     "execution_count": 63,
     "metadata": {},
     "output_type": "execute_result"
    }
   ],
   "source": [
    "torch.mean(tensor_1, dim=2)"
   ]
  },
  {
   "cell_type": "code",
   "execution_count": 64,
   "id": "f50c6c28",
   "metadata": {},
   "outputs": [
    {
     "data": {
      "text/plain": [
       "(tensor([3.6056, 3.6056]), tensor([ 6.5000, 18.5000]))"
      ]
     },
     "execution_count": 64,
     "metadata": {},
     "output_type": "execute_result"
    }
   ],
   "source": [
    "torch.std_mean(tensor_1, dim=(1, 2), correction=1)"
   ]
  },
  {
   "cell_type": "code",
   "execution_count": 65,
   "id": "33c03e6f",
   "metadata": {},
   "outputs": [
    {
     "name": "stdout",
     "output_type": "stream",
     "text": [
      "方差的第一元素 = 3.605551275463989\n"
     ]
    }
   ],
   "source": [
    "count = 0\n",
    "for ii in range(1, 13):\n",
    "    count += (ii - 6.5)**2\n",
    "print(\"方差的第一元素 =\", (count / (12 - 1))**0.5)"
   ]
  },
  {
   "cell_type": "markdown",
   "id": "5cafecd3",
   "metadata": {},
   "source": [
    "## max/min"
   ]
  },
  {
   "cell_type": "markdown",
   "id": "113b083e",
   "metadata": {},
   "source": [
    "### torch.max\n",
    "- [torch.max(input)](https://pytorch.org/docs/stable/generated/torch.max.html)<br>\n",
    "returns the maximum value \n",
    "- [torch.max(input, dim, keepdim=False, \\*, out=None)](https://pytorch.org/docs/stable/generated/torch.max.html)<br>\n",
    "returns tuple of two output tensors (max, max_indices)"
   ]
  },
  {
   "cell_type": "code",
   "execution_count": 66,
   "id": "53f27e09",
   "metadata": {},
   "outputs": [
    {
     "name": "stdout",
     "output_type": "stream",
     "text": [
      "tensor([[[ 1.,  2.,  3.,  4.],\n",
      "         [ 5.,  6.,  7.,  8.],\n",
      "         [ 9., 10., 11., 12.]],\n",
      "\n",
      "        [[13., 14., 15., 16.],\n",
      "         [17., 18., 19., 20.],\n",
      "         [21., 22., 23., 24.]]])\n"
     ]
    }
   ],
   "source": [
    "print(tensor_1)"
   ]
  },
  {
   "cell_type": "code",
   "execution_count": 67,
   "id": "dcfd84ea",
   "metadata": {},
   "outputs": [
    {
     "data": {
      "text/plain": [
       "tensor(24.)"
      ]
     },
     "execution_count": 67,
     "metadata": {},
     "output_type": "execute_result"
    }
   ],
   "source": [
    "torch.max(tensor_1)"
   ]
  },
  {
   "cell_type": "code",
   "execution_count": 68,
   "id": "21ea1bb5",
   "metadata": {},
   "outputs": [
    {
     "data": {
      "text/plain": [
       "torch.return_types.max(\n",
       "values=tensor([[ 4.,  8., 12.],\n",
       "        [16., 20., 24.]]),\n",
       "indices=tensor([[3, 3, 3],\n",
       "        [3, 3, 3]]))"
      ]
     },
     "execution_count": 68,
     "metadata": {},
     "output_type": "execute_result"
    }
   ],
   "source": [
    "torch.max(tensor_1, dim=2)"
   ]
  },
  {
   "cell_type": "markdown",
   "id": "eb8c4d6a",
   "metadata": {},
   "source": [
    "### torch.amax\n",
    "[torch.amax(input, dim, keepdim=False, *, out=None)](https://pytorch.org/docs/stable/generated/torch.amax.html)"
   ]
  },
  {
   "cell_type": "code",
   "execution_count": 69,
   "id": "be59869a",
   "metadata": {},
   "outputs": [
    {
     "data": {
      "text/plain": [
       "tensor(24.)"
      ]
     },
     "execution_count": 69,
     "metadata": {},
     "output_type": "execute_result"
    }
   ],
   "source": [
    "torch.amax(tensor_1)"
   ]
  },
  {
   "cell_type": "code",
   "execution_count": 70,
   "id": "1bd71a05",
   "metadata": {},
   "outputs": [
    {
     "data": {
      "text/plain": [
       "tensor([[ 4.,  8., 12.],\n",
       "        [16., 20., 24.]])"
      ]
     },
     "execution_count": 70,
     "metadata": {},
     "output_type": "execute_result"
    }
   ],
   "source": [
    "torch.amax(tensor_1, dim=2)"
   ]
  },
  {
   "cell_type": "code",
   "execution_count": 71,
   "id": "335813b0",
   "metadata": {},
   "outputs": [
    {
     "data": {
      "text/plain": [
       "tensor([12., 24.])"
      ]
     },
     "execution_count": 71,
     "metadata": {},
     "output_type": "execute_result"
    }
   ],
   "source": [
    "torch.amax(tensor_1, dim=(1, 2))"
   ]
  },
  {
   "cell_type": "markdown",
   "id": "a9808ca3",
   "metadata": {},
   "source": [
    "### torch.min\n",
    "- [torch.min(input)](https://pytorch.org/docs/stable/generated/torch.min.html)<br>\n",
    "returns the minimum value \n",
    "- [torch.min(input, dim, keepdim=False, \\*, out=None)](https://pytorch.org/docs/stable/generated/torch.min.html)<br>\n",
    "returns tuple of two output tensors (min, min_indices)"
   ]
  },
  {
   "cell_type": "code",
   "execution_count": 72,
   "id": "86d25287",
   "metadata": {},
   "outputs": [
    {
     "data": {
      "text/plain": [
       "tensor(1.)"
      ]
     },
     "execution_count": 72,
     "metadata": {},
     "output_type": "execute_result"
    }
   ],
   "source": [
    "torch.min(tensor_1)"
   ]
  },
  {
   "cell_type": "code",
   "execution_count": 73,
   "id": "415532e0",
   "metadata": {},
   "outputs": [
    {
     "data": {
      "text/plain": [
       "torch.return_types.min(\n",
       "values=tensor([[ 1.,  5.,  9.],\n",
       "        [13., 17., 21.]]),\n",
       "indices=tensor([[0, 0, 0],\n",
       "        [0, 0, 0]]))"
      ]
     },
     "execution_count": 73,
     "metadata": {},
     "output_type": "execute_result"
    }
   ],
   "source": [
    "torch.min(tensor_1, dim=2)"
   ]
  },
  {
   "cell_type": "markdown",
   "id": "79554147",
   "metadata": {},
   "source": [
    "### torch.amin\n",
    "[torch.amin(input, dim, keepdim=False, *, out=None)](https://pytorch.org/docs/stable/generated/torch.amin.html)"
   ]
  },
  {
   "cell_type": "code",
   "execution_count": 74,
   "id": "709dd683",
   "metadata": {},
   "outputs": [
    {
     "data": {
      "text/plain": [
       "tensor(1.)"
      ]
     },
     "execution_count": 74,
     "metadata": {},
     "output_type": "execute_result"
    }
   ],
   "source": [
    "torch.amin(tensor_1)"
   ]
  },
  {
   "cell_type": "code",
   "execution_count": 75,
   "id": "d2b9451a",
   "metadata": {},
   "outputs": [
    {
     "data": {
      "text/plain": [
       "tensor([[ 1.,  5.,  9.],\n",
       "        [13., 17., 21.]])"
      ]
     },
     "execution_count": 75,
     "metadata": {},
     "output_type": "execute_result"
    }
   ],
   "source": [
    "torch.amin(tensor_1, dim=2)"
   ]
  },
  {
   "cell_type": "code",
   "execution_count": 76,
   "id": "af9cd096",
   "metadata": {},
   "outputs": [
    {
     "data": {
      "text/plain": [
       "tensor([ 1., 13.])"
      ]
     },
     "execution_count": 76,
     "metadata": {},
     "output_type": "execute_result"
    }
   ],
   "source": [
    "torch.amin(tensor_1, dim=(1, 2))"
   ]
  },
  {
   "cell_type": "markdown",
   "id": "a60e2f4b",
   "metadata": {},
   "source": [
    "### torch.aminmax\n",
    "[torch.aminmax(input, *, dim=None, keepdim=False, out=None)](https://pytorch.org/docs/stable/generated/torch.aminmax.html)\n",
    "\n",
    "returns minimum and maximum values"
   ]
  },
  {
   "cell_type": "code",
   "execution_count": 77,
   "id": "de51506c",
   "metadata": {},
   "outputs": [
    {
     "data": {
      "text/plain": [
       "torch.return_types.aminmax(\n",
       "min=tensor(1.),\n",
       "max=tensor(24.))"
      ]
     },
     "execution_count": 77,
     "metadata": {},
     "output_type": "execute_result"
    }
   ],
   "source": [
    "torch.aminmax(tensor_1)"
   ]
  },
  {
   "cell_type": "code",
   "execution_count": 78,
   "id": "b032793e",
   "metadata": {},
   "outputs": [
    {
     "data": {
      "text/plain": [
       "torch.return_types.aminmax(\n",
       "min=tensor([[ 1.,  5.,  9.],\n",
       "        [13., 17., 21.]]),\n",
       "max=tensor([[ 4.,  8., 12.],\n",
       "        [16., 20., 24.]]))"
      ]
     },
     "execution_count": 78,
     "metadata": {},
     "output_type": "execute_result"
    }
   ],
   "source": [
    "torch.aminmax(tensor_1, dim=2)"
   ]
  },
  {
   "cell_type": "markdown",
   "id": "15a4e1d9",
   "metadata": {},
   "source": [
    "### torch.argmax 最大值的索引\n",
    "[torch.argmax(input, dim, keepdim=False)](https://pytorch.org/docs/stable/generated/torch.argmax.html)"
   ]
  },
  {
   "cell_type": "code",
   "execution_count": 79,
   "id": "f3c87c01",
   "metadata": {},
   "outputs": [
    {
     "data": {
      "text/plain": [
       "tensor(23)"
      ]
     },
     "execution_count": 79,
     "metadata": {},
     "output_type": "execute_result"
    }
   ],
   "source": [
    "torch.argmax(tensor_1)"
   ]
  },
  {
   "cell_type": "code",
   "execution_count": 80,
   "id": "61135b24",
   "metadata": {},
   "outputs": [
    {
     "data": {
      "text/plain": [
       "tensor([[3, 3, 3],\n",
       "        [3, 3, 3]])"
      ]
     },
     "execution_count": 80,
     "metadata": {},
     "output_type": "execute_result"
    }
   ],
   "source": [
    "torch.argmax(tensor_1, dim=2)"
   ]
  },
  {
   "cell_type": "markdown",
   "id": "eeb93029",
   "metadata": {},
   "source": [
    "### torch.argmin 最小值的索引\n",
    "[torch.argmin(input, dim=None, keepdim=False)](https://pytorch.org/docs/stable/generated/torch.argmin.html)"
   ]
  },
  {
   "cell_type": "code",
   "execution_count": 81,
   "id": "2871ecf4",
   "metadata": {},
   "outputs": [
    {
     "data": {
      "text/plain": [
       "tensor(0)"
      ]
     },
     "execution_count": 81,
     "metadata": {},
     "output_type": "execute_result"
    }
   ],
   "source": [
    "torch.argmin(tensor_1)"
   ]
  },
  {
   "cell_type": "code",
   "execution_count": 82,
   "id": "307b4384",
   "metadata": {},
   "outputs": [
    {
     "data": {
      "text/plain": [
       "tensor([[0, 0, 0],\n",
       "        [0, 0, 0]])"
      ]
     },
     "execution_count": 82,
     "metadata": {},
     "output_type": "execute_result"
    }
   ],
   "source": [
    "torch.argmin(tensor_1, dim=2)"
   ]
  },
  {
   "cell_type": "markdown",
   "id": "4392b8be",
   "metadata": {},
   "source": [
    "### 取大/取小\n",
    "1. [torch.maximum(input, other, *, out=None)](https://pytorch.org/docs/stable/generated/torch.maximum.html) $\\iff$ [torch.max(input, other, *, out=None)](https://pytorch.org/docs/stable/generated/torch.max.html)\n",
    "2. [torch.minimum(input, other, *, out=None)](https://pytorch.org/docs/stable/generated/torch.minimum.html) $\\iff$ [torch.min(input, other, *, out=None)](https://pytorch.org/docs/stable/generated/torch.min.html)\n",
    "3. [torch.fmax(input, other, *, out=None)](https://pytorch.org/docs/stable/generated/torch.fmax.html)\n",
    "4. [torch.fmin(input, other, *, out=None)](https://pytorch.org/docs/stable/generated/torch.fmin.html)"
   ]
  },
  {
   "cell_type": "code",
   "execution_count": 83,
   "id": "fd660931",
   "metadata": {},
   "outputs": [
    {
     "data": {
      "text/plain": [
       "tensor([3, 2, 4])"
      ]
     },
     "execution_count": 83,
     "metadata": {},
     "output_type": "execute_result"
    }
   ],
   "source": [
    "torch.maximum(torch.tensor((1, 2, -1)),\n",
    "              torch.tensor((3, 0, 4)))"
   ]
  },
  {
   "cell_type": "code",
   "execution_count": 84,
   "id": "f8361857",
   "metadata": {},
   "outputs": [
    {
     "data": {
      "text/plain": [
       "tensor([3, 2, 4])"
      ]
     },
     "execution_count": 84,
     "metadata": {},
     "output_type": "execute_result"
    }
   ],
   "source": [
    "torch.max(torch.tensor((1, 2, -1)),\n",
    "          torch.tensor((3, 0, 4)))"
   ]
  },
  {
   "cell_type": "code",
   "execution_count": 85,
   "id": "a98df950",
   "metadata": {},
   "outputs": [
    {
     "data": {
      "text/plain": [
       "tensor([ 1,  0, -1])"
      ]
     },
     "execution_count": 85,
     "metadata": {},
     "output_type": "execute_result"
    }
   ],
   "source": [
    "torch.minimum(torch.tensor((1, 2, -1)),\n",
    "              torch.tensor((3, 0, 4)))"
   ]
  },
  {
   "cell_type": "code",
   "execution_count": 86,
   "id": "59cbba2f",
   "metadata": {},
   "outputs": [
    {
     "data": {
      "text/plain": [
       "tensor([ 1,  0, -1])"
      ]
     },
     "execution_count": 86,
     "metadata": {},
     "output_type": "execute_result"
    }
   ],
   "source": [
    "torch.min(torch.tensor((1, 2, -1)),\n",
    "          torch.tensor((3, 0, 4)))"
   ]
  },
  {
   "cell_type": "code",
   "execution_count": 87,
   "id": "8f68896b",
   "metadata": {},
   "outputs": [
    {
     "data": {
      "text/plain": [
       "tensor([9.7000, 0.5000, 3.1000,    nan])"
      ]
     },
     "execution_count": 87,
     "metadata": {},
     "output_type": "execute_result"
    }
   ],
   "source": [
    "torch.fmax(torch.tensor([9.7, float('nan'), 3.1, float('nan')]),\n",
    "           torch.tensor([-2.2, 0.5, float('nan'), float('nan')]))"
   ]
  },
  {
   "cell_type": "code",
   "execution_count": 88,
   "id": "7d896848",
   "metadata": {},
   "outputs": [
    {
     "data": {
      "text/plain": [
       "tensor([-2.2000,  0.5000,  3.1000,     nan])"
      ]
     },
     "execution_count": 88,
     "metadata": {},
     "output_type": "execute_result"
    }
   ],
   "source": [
    "torch.fmin(torch.tensor([9.7, float('nan'), 3.1, float('nan')]),\n",
    "           torch.tensor([-2.2, 0.5, float('nan'), float('nan')]))"
   ]
  },
  {
   "cell_type": "markdown",
   "id": "fdb91e3b",
   "metadata": {},
   "source": [
    "### torch.cummax\n",
    "[torch.cummax(input, dim, *, out=None)](https://pytorch.org/docs/stable/generated/torch.cummax.html)\n",
    "$$y_i=max(x_1, x_2, x_3, \\dots, x_i)$$ "
   ]
  },
  {
   "cell_type": "code",
   "execution_count": 89,
   "id": "dc6c94a7",
   "metadata": {},
   "outputs": [
    {
     "name": "stdout",
     "output_type": "stream",
     "text": [
      "tensor([[[ 1.,  2.,  3.,  4.],\n",
      "         [ 5.,  6.,  7.,  8.],\n",
      "         [ 9., 10., 11., 12.]],\n",
      "\n",
      "        [[13., 14., 15., 16.],\n",
      "         [17., 18., 19., 20.],\n",
      "         [21., 22., 23., 24.]]])\n"
     ]
    }
   ],
   "source": [
    "print(tensor_1)"
   ]
  },
  {
   "cell_type": "code",
   "execution_count": 93,
   "id": "0fcf2170",
   "metadata": {},
   "outputs": [
    {
     "data": {
      "text/plain": [
       "torch.return_types.cummax(\n",
       "values=tensor([[[ 1.,  2.,  3.,  4.],\n",
       "         [ 5.,  6.,  7.,  8.],\n",
       "         [ 9., 10., 11., 12.]],\n",
       "\n",
       "        [[13., 14., 15., 16.],\n",
       "         [17., 18., 19., 20.],\n",
       "         [21., 22., 23., 24.]]]),\n",
       "indices=tensor([[[0, 1, 2, 3],\n",
       "         [0, 1, 2, 3],\n",
       "         [0, 1, 2, 3]],\n",
       "\n",
       "        [[0, 1, 2, 3],\n",
       "         [0, 1, 2, 3],\n",
       "         [0, 1, 2, 3]]]))"
      ]
     },
     "execution_count": 93,
     "metadata": {},
     "output_type": "execute_result"
    }
   ],
   "source": [
    "torch.cummax(tensor_1, dim=2)"
   ]
  },
  {
   "cell_type": "markdown",
   "id": "3bffc8a1",
   "metadata": {},
   "source": [
    "### torch.cummin\n",
    "[torch.cummin(input, dim, *, out=None)](https://pytorch.org/docs/stable/generated/torch.cummin.html)\n",
    "$$y_i=min(x_1, x_2, x_3, \\dots, x_i)$$ "
   ]
  },
  {
   "cell_type": "code",
   "execution_count": 95,
   "id": "2ab3bbc0",
   "metadata": {},
   "outputs": [
    {
     "data": {
      "text/plain": [
       "torch.return_types.cummin(\n",
       "values=tensor([[[ 1.,  1.,  1.,  1.],\n",
       "         [ 5.,  5.,  5.,  5.],\n",
       "         [ 9.,  9.,  9.,  9.]],\n",
       "\n",
       "        [[13., 13., 13., 13.],\n",
       "         [17., 17., 17., 17.],\n",
       "         [21., 21., 21., 21.]]]),\n",
       "indices=tensor([[[0, 0, 0, 0],\n",
       "         [0, 0, 0, 0],\n",
       "         [0, 0, 0, 0]],\n",
       "\n",
       "        [[0, 0, 0, 0],\n",
       "         [0, 0, 0, 0],\n",
       "         [0, 0, 0, 0]]]))"
      ]
     },
     "execution_count": 95,
     "metadata": {},
     "output_type": "execute_result"
    }
   ],
   "source": [
    "torch.cummin(tensor_1, dim=2)"
   ]
  },
  {
   "cell_type": "markdown",
   "id": "abc7d192",
   "metadata": {},
   "source": [
    "## 角度(degree)与弧度(radian)"
   ]
  },
  {
   "cell_type": "markdown",
   "id": "d42adf8c",
   "metadata": {},
   "source": [
    "### torch.deg2rad\n",
    "[torch.deg2rad(input, *, out=None)](https://pytorch.org/docs/stable/generated/torch.deg2rad.html) 角度$\\to$弧度\n",
    "### torch.rad2deg\n",
    "[torch.rad2deg(input, *, out=None)](https://pytorch.org/docs/stable/generated/torch.rad2deg.html#torch.rad2deg) 弧度$\\to$角度"
   ]
  },
  {
   "cell_type": "code",
   "execution_count": 66,
   "id": "f3564cee",
   "metadata": {},
   "outputs": [
    {
     "data": {
      "text/plain": [
       "3.141592653589793"
      ]
     },
     "execution_count": 66,
     "metadata": {},
     "output_type": "execute_result"
    }
   ],
   "source": [
    "torch.pi"
   ]
  },
  {
   "cell_type": "code",
   "execution_count": 67,
   "id": "8b59da30",
   "metadata": {},
   "outputs": [],
   "source": [
    "degrees = torch.tensor([0., 30., 45., 60., 90.])"
   ]
  },
  {
   "cell_type": "code",
   "execution_count": 68,
   "id": "26491902",
   "metadata": {},
   "outputs": [
    {
     "data": {
      "text/plain": [
       "tensor([0.0000, 0.5236, 0.7854, 1.0472, 1.5708])"
      ]
     },
     "execution_count": 68,
     "metadata": {},
     "output_type": "execute_result"
    }
   ],
   "source": [
    "torch.deg2rad(degrees)"
   ]
  },
  {
   "cell_type": "code",
   "execution_count": 69,
   "id": "5887b2c6",
   "metadata": {},
   "outputs": [
    {
     "name": "stdout",
     "output_type": "stream",
     "text": [
      "tensor([0.0000, 0.5236, 0.7854, 1.0472, 1.5708])\n"
     ]
    }
   ],
   "source": [
    "radians = torch.tensor([0., torch.pi/6., torch.pi/4., torch.pi/3., torch.pi/2.])\n",
    "print(radians)"
   ]
  },
  {
   "cell_type": "code",
   "execution_count": 70,
   "id": "16b491b5",
   "metadata": {},
   "outputs": [
    {
     "data": {
      "text/plain": [
       "tensor([ 0., 30., 45., 60., 90.])"
      ]
     },
     "execution_count": 70,
     "metadata": {},
     "output_type": "execute_result"
    }
   ],
   "source": [
    "radians / torch.pi * 180"
   ]
  },
  {
   "cell_type": "code",
   "execution_count": 71,
   "id": "b6f47f5b",
   "metadata": {},
   "outputs": [
    {
     "data": {
      "text/plain": [
       "tensor([ 0.0000, 30.0000, 45.0000, 60.0000, 90.0000])"
      ]
     },
     "execution_count": 71,
     "metadata": {},
     "output_type": "execute_result"
    }
   ],
   "source": [
    "torch.rad2deg(torch.tensor([0., torch.pi/6., torch.pi/4., torch.pi/3., torch.pi/2.]))"
   ]
  },
  {
   "cell_type": "markdown",
   "id": "1d479d7c",
   "metadata": {},
   "source": [
    "## 初等函数"
   ]
  },
  {
   "cell_type": "markdown",
   "id": "c9af6453",
   "metadata": {},
   "source": [
    "命令 | 用法 | 公式\n",
    ":- | :- | :-:\n",
    "torch.sin | [torch.sin(input, \\*, out=None)](https://pytorch.org/docs/stable/generated/torch.sin.html) |  $$out_i = \\sin(input_i)$$\n",
    "torch.asin | [torch.asin(input, \\*, out=None)](https://pytorch.org/docs/stable/generated/torch.asin.html)<br>$\\iff$ [torch.arcsin(input, \\*, out=None)](https://pytorch.org/docs/stable/generated/torch.arcsin.html) | $$out_i = \\sin^{-1}(input_i)$$\n",
    "torch.cos | [torch.cos(input, \\*, out=None)](https://pytorch.org/docs/stable/generated/torch.cos.html) |  $$out_i = \\cos(input_i)$$\n",
    "torch.acos | [torch.acos(input, \\*, out=None)](https://pytorch.org/docs/stable/generated/torch.acos.html)<br>$\\iff$ [torch.arccos(input, \\*, out=None)](https://pytorch.org/docs/stable/generated/torch.arccos.html) | $$out_i = \\cos^{-1}(input_i)$$\n",
    "torch.tan | [torch.tan(input, \\*, out=None)](https://pytorch.org/docs/stable/generated/torch.tan.html) |  $$out_i = \\tan(input_i)$$\n",
    "torch.atan<span id='id_atan'></span> | [torch.atan(input, \\*, out=None)](https://pytorch.org/docs/stable/generated/torch.atan.html)<br>$\\iff$ [torch.arctan(input, \\*, out=None)](https://pytorch.org/docs/stable/generated/torch.arctan.html) | $$out_i = \\tan^{-1}(input_i), input_i = \\frac{y_i}{x_i} = \\frac{\\sin(out_i)}{\\cos(out_i)}$$\n",
    "torch.atan2<span id='id_atan2'></span> | [torch.atan2(input, other, \\*, out=None)](https://pytorch.org/docs/stable/generated/torch.atan2.html)<br>$\\iff$[torch.arctan2(input, other, \\*, out=None)](https://pytorch.org/docs/stable/generated/torch.arctan2.html) | $$out_i = \\tan^{-1}(\\frac{input_i}{other_i})$$ $$input_i = y_i = \\sin(out_i), other_i = x_i = \\cos(out_i)$$\n",
    "torch.angle<span id='id_angle'></span> | [torch.angle(input, \\*, out=None)](https://pytorch.org/docs/stable/generated/torch.angle.html) | $$ out_i = angle(input_i) \\iff out_i = tan^{-1}\\frac{y_i}{x_i}, input_i = x_i + y_i*j$$ $$x_i = \\cos(out_i), y_i = \\sin(out_i)$$\n",
    "---- | ---- | ---- \n",
    "torch.sinh | [torch.sinh(input, \\*, out=None)](https://pytorch.org/docs/stable/generated/torch.sinh.html) |  $$out_i = \\sinh(input_i)$$\n",
    "torch.asinh | [torch.asinh(input, \\*, out=None)](https://pytorch.org/docs/stable/generated/torch.asinh.html)<br>$\\iff$ [torch.arcsinh(input, \\*, out=None)](https://pytorch.org/docs/stable/generated/torch.arcsinh.html) | $$out_i = \\sinh^{-1}(input_i)$$\n",
    "torch.cosh | [torch.cosh(input, \\*, out=None)](https://pytorch.org/docs/stable/generated/torch.cosh.html) |  $$out_i = \\cosh(input_i)$$\n",
    "torch.acosh | [torch.acosh(input, \\*, out=None)](https://pytorch.org/docs/stable/generated/torch.acosh.html)<br>$\\iff$ [torch.arccosh(input, \\*, out=None)](https://pytorch.org/docs/stable/generated/torch.arccosh.html) | $$out_i = \\cosh^{-1}(input_i)$$\n",
    "torch.tanh | [torch.tanh(input, \\*, out=None)](https://pytorch.org/docs/stable/generated/torch.tanh.html) |  $$out_i = \\tanh(input_i)$$\n",
    "torch.atanh | [torch.atanh(input, \\*, out=None)](https://pytorch.org/docs/stable/generated/torch.atanh.html)<br>$\\iff$ [torch.arctanh(input, \\*, out=None)](https://pytorch.org/docs/stable/generated/torch.arctanh.html) | $$out_i = \\tanh^{-1}(input_i)$$\n",
    "---- | ---- | ---- \n",
    "torch.sqrt | [torch.sqrt(input, \\*, out=None)](https://pytorch.org/docs/stable/generated/torch.sqrt.html) | $$out_i = \\sqrt{input_i} = {input_i}^{\\frac{1}{2}}$$\n",
    "torch.rsqrt | [torch.rsqrt(input, \\*, out=None)](https://pytorch.org/docs/stable/generated/torch.rsqrt.html) | $$out_i = \\frac{1}{\\sqrt{input_i}} = {input_i}^{-\\frac{1}{2}}$$\n",
    "torch.square | [torch.square(input, \\*, out=None)](https://pytorch.org/docs/stable/generated/torch.square.html) | $$out_i = input_i^2$$\n",
    "torch.pow<span id='id_pow'></span> | [torch.pow(input, exponent, \\*, out=None)](https://pytorch.org/docs/stable/generated/torch.pow.html) | $$out_i = {input_i}^{exponent},\\ \\ i.e., y = x^a$$\n",
    "torch.float_power<span id='id_float_power'></span> | [torch.float_power(input, exponent, \\*, out=None)](https://pytorch.org/docs/stable/generated/torch.float_power.html) | 如果两个输入都不是复数, 则返回torch.foat64张量;<br>如果一个或多个输入是复数, 则会返回torch.complex128张量\n",
    "---- | ---- | ---- \n",
    "torch.exp | [torch.exp(input, \\*, out=None)](https://pytorch.org/docs/stable/generated/torch.exp.html) | $$out_i = e^{input_i}$$\n",
    "torch.exp2 | [torch.exp2(input, \\*, out=None)](https://pytorch.org/docs/stable/generated/torch.exp2.html)<br>$\\iff$ [torch.special.exp2(input, \\*, out=None)](https://pytorch.org/docs/stable/special.html#torch.special.exp2) | $$out_i = 2^{input_i}$$\n",
    "torch.ldexp | [torch.ldexp(input, other, \\*, out=None)](https://pytorch.org/docs/stable/generated/torch.ldexp.html) | $$out_i = input_i * 2^{other_i}$$\n",
    "torch.frexp<span id='id_frexp'></span> | [torch.frexp(input, \\*, out=None)](https://pytorch.org/docs/stable/generated/torch.frexp.html) | 将输入分解为mantissa和exponent张量, 即 $$input_i=mantissa_i * 2^{exponent_i}$$\n",
    "torch.logaddexp | [torch.logaddexp(input, other, \\*, out=None)](https://pytorch.org/docs/stable/generated/torch.logaddexp.html) | $$out_i = \\log_e(e^{input_i} + e^{other_i})$$\n",
    "torch.logaddexp2 | [torch.logaddexp2(input, other, \\*, out=None)](https://pytorch.org/docs/stable/generated/torch.logaddexp2.html) | $$out_i = \\log_2(2^{input_i} + 2^{other_i})$$\n",
    "torch.expm1 | [torch.expm1(input, \\*, out=None)](https://pytorch.org/docs/stable/generated/torch.expm1.html)<br>$\\iff$ [torch.special.expm1(input, \\*, out=None)](https://pytorch.org/docs/stable/special.html#torch.special.expm1) | $$out_i = e^{input_i} - 1$$\n",
    "torch.sigmoid | [torch.sigmoid(input, \\*, out=None)](https://pytorch.org/docs/stable/generated/torch.sigmoid.html)<br>$\\iff$ [torch.special.expit(input, \\*, out=None)](https://pytorch.org/docs/stable/special.html#torch.special.expit) | $$out_i = \\frac{1}{1+e^{-input_i}}$$\n",
    "---- | ---- | ---- \n",
    "torch.log | [torch.log(input, \\*, out=None)](https://pytorch.org/docs/stable/generated/torch.log.html) | $$out_i = \\log_e(input_i)$$\n",
    "torch.log2 | [torch.log2(input, \\*, out=None)](https://pytorch.org/docs/stable/generated/torch.log2.html) | $$out_i = \\log_2(input_i)$$\n",
    "torch.log10 | [torch.log10(input, \\*, out=None)](https://pytorch.org/docs/stable/generated/torch.log10.html) | $$out_i = \\log_{10}(input_i)$$\n",
    "torch.log1p | [torch.log1p(input, \\*, out=None)](https://pytorch.org/docs/stable/generated/torch.log1p.html) | $$out_i = \\log_e(input_i+1)$$\n",
    "torch.logit | [torch.logit(input, eps=None, \\*, out=None)](https://pytorch.org/docs/stable/generated/torch.logit.html)<br>$\\iff$ [torch.special.logit(input, eps=None, \\*, out=None)](https://pytorch.org/docs/stable/special.html#torch.special.logit) | $$out_i = \\log_e(\\frac{z_i}{1-z_i})$$, $$z_i = \\begin{cases} \\begin{array}{l,l}\n",
    "input_i, & if\\ \\ eps=NaN \\\\\n",
    "eps, & if\\ \\ input_i<eps \\\\\n",
    "input_i, & if\\ \\ eps\\leq input_i\\leq 1-eps \\\\\n",
    "1-eps, & if\\ \\ input_i>1-eps \\\\\n",
    "\\end{array} \\end{cases}$$\n",
    "torch.xlogy | [torch.xlogy(input, other, \\*, out=None)](https://pytorch.org/docs/stable/generated/torch.xlogy.html)<br>$\\iff$ [torch.special.xlogy(input, other, \\*, out=None)](https://pytorch.org/docs/stable/special.html#torch.special.xlogy) | $$out_i = \\begin{cases} \\begin{array}{l,l}\n",
    "NaN, & if\\ \\ other_i=NaN \\\\\n",
    "0, & if\\ \\ input_i=0.0 \\\\\n",
    "input_i * \\log(other_i), & otherwise \\\\\n",
    "\\end{array} \\end{cases}$$\n",
    "note: | $\\log_e(x) = \\ln(x)$, $\\log_{10}(x) = \\lg(x)$"
   ]
  },
  {
   "cell_type": "markdown",
   "id": "c176d06b",
   "metadata": {},
   "source": [
    "* [torch.atan](#id_atan) vs [torch.atan2](#id_atan2) vs [torch.angle](#id_angle)"
   ]
  },
  {
   "cell_type": "code",
   "execution_count": 80,
   "id": "0f2a6e57",
   "metadata": {},
   "outputs": [
    {
     "name": "stdout",
     "output_type": "stream",
     "text": [
      "radians = tensor([0.0000, 0.5236, 0.7854, 1.0472, 1.5708])\n"
     ]
    }
   ],
   "source": [
    "print(\"radians =\", radians)"
   ]
  },
  {
   "cell_type": "code",
   "execution_count": 90,
   "id": "cccf02ff",
   "metadata": {
    "scrolled": true
   },
   "outputs": [],
   "source": [
    "x = torch.cos(radians)"
   ]
  },
  {
   "cell_type": "code",
   "execution_count": 91,
   "id": "6000b56e",
   "metadata": {},
   "outputs": [],
   "source": [
    "y = torch.sin(radians)"
   ]
  },
  {
   "cell_type": "code",
   "execution_count": 92,
   "id": "dd683cc0",
   "metadata": {},
   "outputs": [
    {
     "data": {
      "text/plain": [
       "tensor([ 0.0000, 30.0000, 45.0000, 60.0000, 90.0000])"
      ]
     },
     "execution_count": 92,
     "metadata": {},
     "output_type": "execute_result"
    }
   ],
   "source": [
    "torch.atan(torch.abs(y/x)) / torch.pi * 180"
   ]
  },
  {
   "cell_type": "code",
   "execution_count": 93,
   "id": "45786800",
   "metadata": {},
   "outputs": [
    {
     "data": {
      "text/plain": [
       "tensor([ 0., 30., 45., 60., 90.])"
      ]
     },
     "execution_count": 93,
     "metadata": {},
     "output_type": "execute_result"
    }
   ],
   "source": [
    "torch.atan2(y, x) / torch.pi * 180"
   ]
  },
  {
   "cell_type": "code",
   "execution_count": 95,
   "id": "d7640232",
   "metadata": {},
   "outputs": [
    {
     "data": {
      "text/plain": [
       "tensor([ 0., 30., 45., 60., 90.])"
      ]
     },
     "execution_count": 95,
     "metadata": {},
     "output_type": "execute_result"
    }
   ],
   "source": [
    "torch.angle(torch.complex(x, y)) / torch.pi * 180"
   ]
  },
  {
   "cell_type": "markdown",
   "id": "c537b360",
   "metadata": {},
   "source": [
    "* [torch.pow](#id_pow) vs [torch.float_power](#id_float_power)"
   ]
  },
  {
   "cell_type": "code",
   "execution_count": 15,
   "id": "f6bf3cd8",
   "metadata": {},
   "outputs": [],
   "source": [
    "tensor_1 = torch.arange(1., 9.)"
   ]
  },
  {
   "cell_type": "code",
   "execution_count": 16,
   "id": "3cdd00e6",
   "metadata": {},
   "outputs": [
    {
     "data": {
      "text/plain": [
       "tensor([1., 2., 3., 4., 5., 6., 7., 8.])"
      ]
     },
     "execution_count": 16,
     "metadata": {},
     "output_type": "execute_result"
    }
   ],
   "source": [
    "tensor_1"
   ]
  },
  {
   "cell_type": "code",
   "execution_count": 17,
   "id": "d0c55321",
   "metadata": {},
   "outputs": [
    {
     "data": {
      "text/plain": [
       "tensor([1.0000e+00, 4.0000e+00, 2.7000e+01, 2.5600e+02, 3.1250e+03, 4.6656e+04,\n",
       "        8.2354e+05, 1.6777e+07])"
      ]
     },
     "execution_count": 17,
     "metadata": {},
     "output_type": "execute_result"
    }
   ],
   "source": [
    "torch.pow(tensor_1, tensor_1)"
   ]
  },
  {
   "cell_type": "code",
   "execution_count": 18,
   "id": "b995d207",
   "metadata": {},
   "outputs": [
    {
     "data": {
      "text/plain": [
       "tensor([1.0000e+00, 4.0000e+00, 2.7000e+01, 2.5600e+02, 3.1250e+03, 4.6656e+04,\n",
       "        8.2354e+05, 1.6777e+07], dtype=torch.float64)"
      ]
     },
     "execution_count": 18,
     "metadata": {},
     "output_type": "execute_result"
    }
   ],
   "source": [
    "torch.float_power(tensor_1, tensor_1)"
   ]
  },
  {
   "cell_type": "markdown",
   "id": "08755186",
   "metadata": {},
   "source": [
    "* [torch.frexp](#id_frexp)"
   ]
  },
  {
   "cell_type": "code",
   "execution_count": 19,
   "id": "fbad2aae",
   "metadata": {},
   "outputs": [
    {
     "data": {
      "text/plain": [
       "torch.return_types.frexp(\n",
       "mantissa=tensor([0.5000, 0.5000, 0.7500, 0.5000, 0.6250, 0.7500, 0.8750, 0.5000]),\n",
       "exponent=tensor([1, 2, 2, 3, 3, 3, 3, 4], dtype=torch.int32))"
      ]
     },
     "execution_count": 19,
     "metadata": {},
     "output_type": "execute_result"
    }
   ],
   "source": [
    "torch.frexp(tensor_1)"
   ]
  },
  {
   "cell_type": "markdown",
   "id": "6ff443f8",
   "metadata": {},
   "source": [
    "## 阶跃函数"
   ]
  },
  {
   "cell_type": "markdown",
   "id": "d698feaf",
   "metadata": {},
   "source": [
    "### torch.heaviside\n",
    "torch.heaviside(input, values, *, out=None)\n",
    "$$ heaviside(input,values) = \\begin{cases} \\begin{array}{l,l}\n",
    "0, & input < 0 \\\\\n",
    "values, & input = 0\\\\\n",
    "1, & input > 0 \\\\\n",
    "\\end{array} \\end{cases} $$"
   ]
  },
  {
   "cell_type": "code",
   "execution_count": 329,
   "id": "b02a2d77",
   "metadata": {},
   "outputs": [
    {
     "data": {
      "text/plain": [
       "tensor([0., 3., 1.])"
      ]
     },
     "execution_count": 329,
     "metadata": {},
     "output_type": "execute_result"
    }
   ],
   "source": [
    "torch.heaviside(input=torch.tensor([-1.5, 0, 2.0]), values=torch.tensor([3.]))"
   ]
  },
  {
   "cell_type": "code",
   "execution_count": 330,
   "id": "69b9a709",
   "metadata": {},
   "outputs": [
    {
     "data": {
      "text/plain": [
       "tensor([ 0., -2.,  1.])"
      ]
     },
     "execution_count": 330,
     "metadata": {},
     "output_type": "execute_result"
    }
   ],
   "source": [
    "torch.heaviside(input=torch.tensor([-1.5, 0, 2.0]), values=torch.tensor([1.2, -2.0, 3.5]))"
   ]
  },
  {
   "cell_type": "markdown",
   "id": "8f9804e8",
   "metadata": {},
   "source": [
    "### torch.clamp\n",
    "torch.clamp(input, min=None, max=None, *, out=None)  \n",
    "$\\iff$ torch.clip(input, min=None, max=None, *, out=None)  \n",
    "$$ out_i = \\begin{cases} \\begin{array}{l,l}\n",
    "min_i, & input_i <= min_i \\\\\n",
    "input_i, &  min_i < input_i < max_i \\\\\n",
    "max_i, & input_i >= max_i \\\\\n",
    "\\end{array} \\end{cases} $$"
   ]
  },
  {
   "cell_type": "code",
   "execution_count": 332,
   "id": "8ca4c69c",
   "metadata": {},
   "outputs": [
    {
     "data": {
      "text/plain": [
       "tensor([-0.5000,  0.0000,  0.5000])"
      ]
     },
     "execution_count": 332,
     "metadata": {},
     "output_type": "execute_result"
    }
   ],
   "source": [
    "torch.clamp(input=torch.tensor([-1.5, 0, 2.0]), min=-0.5, max=0.5)"
   ]
  },
  {
   "cell_type": "code",
   "execution_count": 347,
   "id": "5c88895c",
   "metadata": {},
   "outputs": [
    {
     "data": {
      "text/plain": [
       "tensor([-0.5000,  0.0000,  1.0000])"
      ]
     },
     "execution_count": 347,
     "metadata": {},
     "output_type": "execute_result"
    }
   ],
   "source": [
    "torch.clamp(input=torch.tensor([-1.5, 0, 2.0]), min=torch.tensor([-0.5, -1.0, 0.0]), max=torch.tensor([0.5, 1.0, 1.0]))"
   ]
  },
  {
   "cell_type": "markdown",
   "id": "bd1d5f6f",
   "metadata": {},
   "source": [
    "### torch.sign\n",
    "torch.sign(input, *, out=None)\n",
    "$$ out_i = \\begin{cases} \\begin{array}{l,l}\n",
    "-1, & input_i < 0 \\\\\n",
    "0, & input_i = 0\\\\\n",
    "1, & input_i > 0 \\\\\n",
    "\\end{array} \\end{cases} $$"
   ]
  },
  {
   "cell_type": "code",
   "execution_count": 348,
   "id": "5f644235",
   "metadata": {
    "scrolled": true
   },
   "outputs": [
    {
     "data": {
      "text/plain": [
       "tensor([-1.,  0.,  0.,  1.])"
      ]
     },
     "execution_count": 348,
     "metadata": {},
     "output_type": "execute_result"
    }
   ],
   "source": [
    "torch.sign(input=torch.tensor([-1.5, -0.0, 0.0, 2.0]))"
   ]
  },
  {
   "cell_type": "markdown",
   "id": "ddedee84",
   "metadata": {},
   "source": [
    "### torch.signbit\n",
    "torch.signbit(input, *, out=None)\n",
    "$$ out_i = \\begin{cases} \\begin{array}{l,l}\n",
    "True, & input_i < 0 \\\\\n",
    "False, & input_i >= 0 \\\\\n",
    "\\end{array} \\end{cases} $$"
   ]
  },
  {
   "cell_type": "code",
   "execution_count": 340,
   "id": "7f3b789c",
   "metadata": {},
   "outputs": [
    {
     "data": {
      "text/plain": [
       "tensor([ True, False, False, False])"
      ]
     },
     "execution_count": 340,
     "metadata": {},
     "output_type": "execute_result"
    }
   ],
   "source": [
    "torch.signbit(input=torch.tensor([-1.5, -0.0, 0.0, 2.0]))"
   ]
  },
  {
   "cell_type": "markdown",
   "id": "ce014f21",
   "metadata": {},
   "source": [
    "### torch.copysign\n",
    "torch.copysign(input, other, *, out=None)\n",
    "$$ out_i = \\begin{cases} \\begin{array}{l,l}\n",
    "-\\left| input_i \\right|, & other_i<= -0.0 \\\\\n",
    "\\left| input_i \\right|, & other_i >= 0.0\\\\\n",
    "\\end{array} \\end{cases} $$"
   ]
  },
  {
   "cell_type": "code",
   "execution_count": 349,
   "id": "36b979cc",
   "metadata": {},
   "outputs": [
    {
     "data": {
      "text/plain": [
       "tensor([1.5000, 1.5000])"
      ]
     },
     "execution_count": 349,
     "metadata": {},
     "output_type": "execute_result"
    }
   ],
   "source": [
    "torch.copysign(input=torch.tensor([-1.5, 1.5]), other=1.0)"
   ]
  },
  {
   "cell_type": "code",
   "execution_count": 345,
   "id": "e2895e7c",
   "metadata": {},
   "outputs": [
    {
     "data": {
      "text/plain": [
       "tensor([-1.5000, -1.5000,  1.5000,  1.5000])"
      ]
     },
     "execution_count": 345,
     "metadata": {},
     "output_type": "execute_result"
    }
   ],
   "source": [
    "torch.copysign(input=torch.tensor([-1.5, -1.5, -1.5, -1.5]),\n",
    "               other=torch.tensor([-1.5, -0.0, 0.0, 2.0]))"
   ]
  },
  {
   "cell_type": "code",
   "execution_count": 346,
   "id": "cf7bfe86",
   "metadata": {},
   "outputs": [
    {
     "data": {
      "text/plain": [
       "tensor([-2., -2.,  2.,  2.])"
      ]
     },
     "execution_count": 346,
     "metadata": {},
     "output_type": "execute_result"
    }
   ],
   "source": [
    "torch.copysign(input=torch.tensor([2.0, 2.0, 2.0, 2.0]),\n",
    "               other=torch.tensor([-1.5, -0.0, 0.0, 2.0]))"
   ]
  },
  {
   "cell_type": "markdown",
   "id": "10633b2c",
   "metadata": {},
   "source": [
    "## 范数"
   ]
  },
  {
   "cell_type": "markdown",
   "id": "f38329e0",
   "metadata": {},
   "source": [
    "### torch.linalg.vector_norm\n",
    "[torch.linalg.vector_norm(x, ord=2, dim=None, keepdim=False, *, dtype=None, out=None)](https://pytorch.org/docs/stable/generated/torch.linalg.vector_norm.html)\n",
    "\n",
    "ord | vector norm\n",
    ":- | :-\n",
    "2 (default) | $$\\|\\mathbf{x}\\|_2 = \\sqrt{\\sum_{i=1}^n x_i^2}$$\n",
    "1 | $$\\|\\mathbf{x}\\|_1 = \\sum_{i=1}^n \\left|x_i \\right|$$\n",
    "float('inf') | $$\\max_{i}(\\left|x_i\\right|)$$\n",
    "-float('inf') | $$\\min_{i}(\\left|x_i\\right|)$$\n",
    "0 | $$\\sum_{i=1}^n(x_i \\ne 0)$$\n",
    "other int or float | $$\\|\\mathbf{x}\\|_{ord} = \\left(\\sum_{i=1}^n \\left|x_i \\right|^{ord} \\right)^{\\frac{1}{ord}}$$"
   ]
  },
  {
   "cell_type": "markdown",
   "id": "ddeaed11",
   "metadata": {},
   "source": [
    "* $L_2$范数/欧几里得距离  "
   ]
  },
  {
   "cell_type": "code",
   "execution_count": 339,
   "id": "9be3642f",
   "metadata": {},
   "outputs": [
    {
     "name": "stdout",
     "output_type": "stream",
     "text": [
      "tensor([-4., -3., -2., -1.,  0.,  1.,  2.,  3.,  4.])\n"
     ]
    }
   ],
   "source": [
    "tensor_1 = torch.arange(9, dtype=torch.float) - 4\n",
    "print(tensor_1)"
   ]
  },
  {
   "cell_type": "code",
   "execution_count": 340,
   "id": "6e6b0c74",
   "metadata": {},
   "outputs": [
    {
     "data": {
      "text/plain": [
       "tensor(7.7460)"
      ]
     },
     "execution_count": 340,
     "metadata": {},
     "output_type": "execute_result"
    }
   ],
   "source": [
    "torch.linalg.vector_norm(tensor_1, ord=2)"
   ]
  },
  {
   "cell_type": "code",
   "execution_count": 341,
   "id": "19133713",
   "metadata": {},
   "outputs": [
    {
     "data": {
      "text/plain": [
       "tensor(7.7460)"
      ]
     },
     "execution_count": 341,
     "metadata": {},
     "output_type": "execute_result"
    }
   ],
   "source": [
    "(tensor_1**2).sum()**0.5"
   ]
  },
  {
   "cell_type": "markdown",
   "id": "d395872d",
   "metadata": {},
   "source": [
    "* 无穷范数"
   ]
  },
  {
   "cell_type": "code",
   "execution_count": 328,
   "id": "153b2562",
   "metadata": {},
   "outputs": [
    {
     "data": {
      "text/plain": [
       "tensor(4.)"
      ]
     },
     "execution_count": 328,
     "metadata": {},
     "output_type": "execute_result"
    }
   ],
   "source": [
    "torch.linalg.vector_norm(tensor_1, ord=float('inf'))"
   ]
  },
  {
   "cell_type": "code",
   "execution_count": 336,
   "id": "856c2bcd",
   "metadata": {},
   "outputs": [
    {
     "data": {
      "text/plain": [
       "tensor(4.)"
      ]
     },
     "execution_count": 336,
     "metadata": {},
     "output_type": "execute_result"
    }
   ],
   "source": [
    "tensor_1.abs().max()"
   ]
  },
  {
   "cell_type": "code",
   "execution_count": 329,
   "id": "db1dcfec",
   "metadata": {},
   "outputs": [
    {
     "data": {
      "text/plain": [
       "tensor(0.)"
      ]
     },
     "execution_count": 329,
     "metadata": {},
     "output_type": "execute_result"
    }
   ],
   "source": [
    "torch.linalg.vector_norm(tensor_1, ord=-float('inf'))"
   ]
  },
  {
   "cell_type": "code",
   "execution_count": 337,
   "id": "95368178",
   "metadata": {},
   "outputs": [
    {
     "data": {
      "text/plain": [
       "tensor(0.)"
      ]
     },
     "execution_count": 337,
     "metadata": {},
     "output_type": "execute_result"
    }
   ],
   "source": [
    "tensor_1.abs().min()"
   ]
  },
  {
   "cell_type": "markdown",
   "id": "918de9b2",
   "metadata": {},
   "source": [
    "* 0范数"
   ]
  },
  {
   "cell_type": "code",
   "execution_count": 330,
   "id": "ee1f0049",
   "metadata": {},
   "outputs": [
    {
     "data": {
      "text/plain": [
       "tensor(8.)"
      ]
     },
     "execution_count": 330,
     "metadata": {},
     "output_type": "execute_result"
    }
   ],
   "source": [
    "torch.linalg.vector_norm(tensor_1, ord=0)"
   ]
  },
  {
   "cell_type": "markdown",
   "id": "8de397ff",
   "metadata": {},
   "source": [
    "* $L_p$范数"
   ]
  },
  {
   "cell_type": "code",
   "execution_count": 331,
   "id": "3be258d1",
   "metadata": {},
   "outputs": [
    {
     "data": {
      "text/plain": [
       "tensor(5.4345)"
      ]
     },
     "execution_count": 331,
     "metadata": {},
     "output_type": "execute_result"
    }
   ],
   "source": [
    "torch.linalg.vector_norm(tensor_1, ord=3.5)"
   ]
  },
  {
   "cell_type": "code",
   "execution_count": 332,
   "id": "00180d1f",
   "metadata": {},
   "outputs": [
    {
     "data": {
      "text/plain": [
       "tensor(5.4345)"
      ]
     },
     "execution_count": 332,
     "metadata": {},
     "output_type": "execute_result"
    }
   ],
   "source": [
    "torch.linalg.vector_norm(tensor_1.reshape(3, 3), ord=3.5) # 如果dim=None，则在计算范数之前，x将被展平"
   ]
  },
  {
   "cell_type": "code",
   "execution_count": 333,
   "id": "73a54249",
   "metadata": {},
   "outputs": [
    {
     "data": {
      "text/plain": [
       "tensor(5.4345)"
      ]
     },
     "execution_count": 333,
     "metadata": {},
     "output_type": "execute_result"
    }
   ],
   "source": [
    "(torch.abs(tensor_1)**3.5).sum()**(1/3.5)"
   ]
  },
  {
   "cell_type": "code",
   "execution_count": 335,
   "id": "8693a628",
   "metadata": {},
   "outputs": [
    {
     "name": "stdout",
     "output_type": "stream",
     "text": [
      "验证: 5.434488008821392\n"
     ]
    }
   ],
   "source": [
    "count = 0\n",
    "ord = 3.5\n",
    "for num in tensor_1:\n",
    "    count += abs(num.item()**ord)\n",
    "print(\"验证:\", count**(1/ord))"
   ]
  },
  {
   "cell_type": "markdown",
   "id": "3a4af2f4",
   "metadata": {},
   "source": [
    "### torch.linalg.matrix_norm\n",
    "[torch.linalg.matrix_norm(A, ord='fro', dim=(- 2, - 1), keepdim=False, *, dtype=None, out=None)](https://pytorch.org/docs/stable/generated/torch.linalg.matrix_norm.html#torch.linalg.matrix_norm)\n",
    "\n",
    "ord | matrix norm\n",
    ":- | :-\n",
    "'fro' (default) | Frobenius norm\n",
    "'nuc' | nuclear norm\n",
    "float('inf') | max(sum(abs(x), dim=1))\n",
    "-float('inf') | min(sum(abs(x), dim=1))\n",
    "1 | max(sum(abs(x), dim=0))\n",
    "-1 | min(sum(abs(x), dim=0))\n",
    "2 | largest singular value\n",
    "-2 | smallest singular value"
   ]
  },
  {
   "cell_type": "markdown",
   "id": "1bab5de8",
   "metadata": {},
   "source": [
    "* 矩阵的Frobenius范数  \n",
    "$\\|\\mathbf{X}\\|_F = \\sqrt{\\sum_{i=1}^m \\sum_{j=1}^n x_{ij}^2}$"
   ]
  },
  {
   "cell_type": "code",
   "execution_count": 344,
   "id": "c34d7aaf",
   "metadata": {},
   "outputs": [
    {
     "name": "stdout",
     "output_type": "stream",
     "text": [
      "tensor([[0., 1., 2.],\n",
      "        [3., 4., 5.],\n",
      "        [6., 7., 8.]])\n"
     ]
    }
   ],
   "source": [
    "tensor_1 = torch.arange(9, dtype=torch.float).reshape(3, 3)\n",
    "print(tensor_1)"
   ]
  },
  {
   "cell_type": "code",
   "execution_count": 345,
   "id": "a8fc421b",
   "metadata": {},
   "outputs": [
    {
     "data": {
      "text/plain": [
       "tensor(14.2829)"
      ]
     },
     "execution_count": 345,
     "metadata": {},
     "output_type": "execute_result"
    }
   ],
   "source": [
    "torch.linalg.matrix_norm(tensor_1)"
   ]
  },
  {
   "cell_type": "code",
   "execution_count": 347,
   "id": "e9b9b267",
   "metadata": {},
   "outputs": [
    {
     "data": {
      "text/plain": [
       "tensor(14.2829)"
      ]
     },
     "execution_count": 347,
     "metadata": {},
     "output_type": "execute_result"
    }
   ],
   "source": [
    "(tensor_1**2).sum()**0.5"
   ]
  },
  {
   "cell_type": "markdown",
   "id": "206bcefc",
   "metadata": {},
   "source": [
    "* ord=float(\"inf\")"
   ]
  },
  {
   "cell_type": "code",
   "execution_count": 314,
   "id": "84445ed1",
   "metadata": {},
   "outputs": [
    {
     "data": {
      "text/plain": [
       "tensor(21.)"
      ]
     },
     "execution_count": 314,
     "metadata": {},
     "output_type": "execute_result"
    }
   ],
   "source": [
    "torch.linalg.matrix_norm(tensor_1, ord=float(\"inf\"))"
   ]
  },
  {
   "cell_type": "code",
   "execution_count": 348,
   "id": "113cb17d",
   "metadata": {},
   "outputs": [
    {
     "data": {
      "text/plain": [
       "tensor(21.)"
      ]
     },
     "execution_count": 348,
     "metadata": {},
     "output_type": "execute_result"
    }
   ],
   "source": [
    "tensor_1.abs().sum(dim=1).max()"
   ]
  },
  {
   "cell_type": "markdown",
   "id": "8ca367b5",
   "metadata": {},
   "source": [
    "* ord = -1"
   ]
  },
  {
   "cell_type": "code",
   "execution_count": 350,
   "id": "8d3e8f30",
   "metadata": {},
   "outputs": [
    {
     "data": {
      "text/plain": [
       "tensor(9.)"
      ]
     },
     "execution_count": 350,
     "metadata": {},
     "output_type": "execute_result"
    }
   ],
   "source": [
    "torch.linalg.matrix_norm(tensor_1, ord=-1)"
   ]
  },
  {
   "cell_type": "code",
   "execution_count": 352,
   "id": "2708b658",
   "metadata": {},
   "outputs": [
    {
     "data": {
      "text/plain": [
       "tensor(9.)"
      ]
     },
     "execution_count": 352,
     "metadata": {},
     "output_type": "execute_result"
    }
   ],
   "source": [
    "tensor_1.abs().sum(dim=0).min()"
   ]
  },
  {
   "cell_type": "markdown",
   "id": "fac29969",
   "metadata": {},
   "source": [
    "* Multiple matrices"
   ]
  },
  {
   "cell_type": "code",
   "execution_count": 355,
   "id": "fd4ae475",
   "metadata": {},
   "outputs": [
    {
     "name": "stdout",
     "output_type": "stream",
     "text": [
      "tensor([[[0., 1., 2.],\n",
      "         [3., 4., 5.],\n",
      "         [6., 7., 8.]],\n",
      "\n",
      "        [[0., 1., 2.],\n",
      "         [3., 4., 5.],\n",
      "         [6., 7., 8.]]])\n"
     ]
    }
   ],
   "source": [
    "tensor_2 = tensor_1.expand(2, -1, -1)\n",
    "print(tensor_2)"
   ]
  },
  {
   "cell_type": "code",
   "execution_count": 356,
   "id": "3f096dfe",
   "metadata": {},
   "outputs": [
    {
     "data": {
      "text/plain": [
       "tensor([14.2829, 14.2829])"
      ]
     },
     "execution_count": 356,
     "metadata": {},
     "output_type": "execute_result"
    }
   ],
   "source": [
    "torch.linalg.matrix_norm(tensor_2)"
   ]
  },
  {
   "cell_type": "code",
   "execution_count": 357,
   "id": "16701bde",
   "metadata": {},
   "outputs": [
    {
     "data": {
      "text/plain": [
       "tensor([ 3.1623, 10.0000, 17.2627])"
      ]
     },
     "execution_count": 357,
     "metadata": {},
     "output_type": "execute_result"
    }
   ],
   "source": [
    "torch.linalg.matrix_norm(tensor_2, dim=(0, 2)) # 对第0维和第2维组成的矩阵，计算其Frobenius norm"
   ]
  },
  {
   "cell_type": "code",
   "execution_count": 363,
   "id": "21e5e3f4",
   "metadata": {},
   "outputs": [
    {
     "name": "stdout",
     "output_type": "stream",
     "text": [
      "\n",
      "0-th matrix:\n",
      "tensor([[0., 1., 2.],\n",
      "        [0., 1., 2.]])\n",
      "its Frobenius norm = tensor(3.1623)\n",
      "\n",
      "1-th matrix:\n",
      "tensor([[3., 4., 5.],\n",
      "        [3., 4., 5.]])\n",
      "its Frobenius norm = tensor(10.)\n",
      "\n",
      "2-th matrix:\n",
      "tensor([[6., 7., 8.],\n",
      "        [6., 7., 8.]])\n",
      "its Frobenius norm = tensor(17.2627)\n"
     ]
    }
   ],
   "source": [
    "for jj in range(tensor_2.size(1)):\n",
    "    print(\"\\n\"+str(jj)+\"-th matrix:\")\n",
    "    print( tensor_2[:,jj,:] )\n",
    "    print(\"its Frobenius norm =\", (tensor_2[:,jj,:]**2).sum()**0.5 )"
   ]
  },
  {
   "cell_type": "markdown",
   "id": "5b02a639",
   "metadata": {},
   "source": [
    "todo:   \n",
    "https://pytorch.org/docs/stable/generated/torch.linalg.norm.html#torch.linalg.norm  \n",
    "https://pytorch.org/docs/stable/generated/torch.dist.html#torch.dist  \n",
    "https://pytorch.org/docs/stable/generated/torch.cdist.html#torch.cdist  \n",
    "https://pytorch.org/docs/stable/generated/torch.renorm.html#torch.renorm  "
   ]
  },
  {
   "cell_type": "markdown",
   "id": "dc368d61",
   "metadata": {},
   "source": [
    "## todo: 复数\n",
    "- https://pytorch.org/docs/stable/generated/torch.sgn.html\n",
    "- https://pytorch.org/docs/stable/generated/torch.view_as_complex.html\n",
    "- https://pytorch.org/docs/stable/generated/torch.is_complex.html\n",
    "- https://pytorch.org/docs/stable/generated/torch.complex.html\n",
    "- https://pytorch.org/docs/stable/generated/torch.polar.html\n",
    "- \n",
    "- https://pytorch.org/docs/stable/generated/torch.is_conj.html\n",
    "- https://pytorch.org/docs/stable/generated/torch.conj.html\n",
    "- https://pytorch.org/docs/stable/generated/torch.adjoint.html\n",
    "- https://pytorch.org/docs/stable/generated/torch.conj_physical.html\n",
    "- https://pytorch.org/docs/stable/generated/torch.resolve_conj.html\n",
    "- \n",
    "- https://pytorch.org/docs/stable/generated/torch.rot90.html\n",
    "-\n",
    "- https://pytorch.org/docs/stable/torch.html"
   ]
  },
  {
   "cell_type": "code",
   "execution_count": null,
   "id": "4e2bf9e6",
   "metadata": {},
   "outputs": [],
   "source": [
    "\"\"\"\n",
    "torch.complex(real, imag, *, out=None)  'out = real + imag*j'\n",
    "\"\"\"\n",
    "real = torch.tensor([1, 2], dtype=torch.float32)\n",
    "imag = torch.tensor([3, 4], dtype=torch.float32)\n",
    "print( torch.complex(real, imag) )\n",
    "\"\"\"\n",
    "torch.polar(abs, angle, *, out=None)  'out = abs*cos(angle)+abs*sin(angle)*j\n",
    "\"\"\"\n",
    "abs = torch.tensor([1, 2], dtype=torch.float64)\n",
    "angle = torch.tensor([3.1415926/2, 5*3.1415926/4], dtype=torch.float64)\n",
    "print( torch.polar(abs, angle) ) \n",
    "\"\"\"\n",
    "torch.conj(input, *, out=None)\n",
    "共轭复数，两个实部相等，虚部互为相反数\n",
    "\"\"\"\n",
    "torch.conj(torch.tensor([-1 + 1j, -2 + 2j, 3 - 3j]))"
   ]
  },
  {
   "cell_type": "markdown",
   "id": "72544ea3",
   "metadata": {},
   "source": [
    "## todo: 位运算"
   ]
  },
  {
   "cell_type": "code",
   "execution_count": null,
   "id": "d600a654",
   "metadata": {},
   "outputs": [],
   "source": [
    "\"\"\"\n",
    "torch.bitwise_and(input, other, *, out=None)\n",
    "按位与\n",
    "\"\"\"\n",
    "print( torch.bitwise_and(torch.tensor([-1, -2, 3]), torch.tensor([1, 0, 3])) )\n",
    "print( torch.bitwise_and(torch.tensor([True, True, False]), torch.tensor([False, True, False])) )\n",
    "\"\"\"\n",
    "torch.bitwise_or(input, other, *, out=None)\n",
    "按位或\n",
    "\"\"\"\n",
    "print( torch.bitwise_or(torch.tensor([-1, -2, 3]), torch.tensor([1, 0, 3])) )\n",
    "print( torch.bitwise_or(torch.tensor([True, True, False]), torch.tensor([False, True, False])) )\n",
    "\"\"\"\n",
    "torch.bitwise_xor(input, other, *, out=None)\n",
    "按位异或\n",
    "\"\"\"\n",
    "print( torch.bitwise_xor(torch.tensor([-1, -2, 3]), torch.tensor([1, 0, 3])) )\n",
    "print( torch.bitwise_xor(torch.tensor([True, True, False]), torch.tensor([False, True, False])) )\n",
    "\"\"\"\n",
    "torch.bitwise_not(input, *, out=None)\n",
    "按位取反，即 ~x = -（x+1）\n",
    "\"\"\"\n",
    "print( torch.bitwise_not(torch.tensor([-1, -2, 3])) )\n",
    "\n",
    "\n",
    "todo:\n",
    "https://pytorch.org/docs/stable/generated/torch.logical_and.html#torch.logical_and\n",
    "https://pytorch.org/docs/stable/generated/torch.logical_or.html#torch.logical_or\n",
    "https://pytorch.org/docs/stable/generated/torch.logical_not.html#torch.logical_not\n",
    "https://pytorch.org/docs/stable/generated/torch.logical_xor.html#torch.logical_xor"
   ]
  }
 ],
 "metadata": {
  "kernelspec": {
   "display_name": "Python 3 (ipykernel)",
   "language": "python",
   "name": "python3"
  },
  "language_info": {
   "codemirror_mode": {
    "name": "ipython",
    "version": 3
   },
   "file_extension": ".py",
   "mimetype": "text/x-python",
   "name": "python",
   "nbconvert_exporter": "python",
   "pygments_lexer": "ipython3",
   "version": "3.9.7"
  },
  "toc": {
   "base_numbering": 1,
   "nav_menu": {},
   "number_sections": true,
   "sideBar": true,
   "skip_h1_title": false,
   "title_cell": "Table of Contents",
   "title_sidebar": "Contents",
   "toc_cell": false,
   "toc_position": {
    "height": "calc(100% - 180px)",
    "left": "10px",
    "top": "150px",
    "width": "291.85px"
   },
   "toc_section_display": true,
   "toc_window_display": true
  }
 },
 "nbformat": 4,
 "nbformat_minor": 5
}
