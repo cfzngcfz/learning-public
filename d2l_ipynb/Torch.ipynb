{
 "cells": [
  {
   "cell_type": "markdown",
   "id": "bf04e45c",
   "metadata": {},
   "source": [
    "refer to:\n",
    "- [PyTorch API](https://pytorch.org/docs/stable/torch.html)\n",
    "- [《动手学深度学习》第二版](https://zh.d2l.ai/)\n",
    "- 《动手学深度学习》 http://tangshusen.me/Dive-into-DL-PyTorch/#/  "
   ]
  },
  {
   "cell_type": "code",
   "execution_count": 6,
   "id": "afea00e7",
   "metadata": {},
   "outputs": [],
   "source": [
    "import torch\n",
    "import numpy"
   ]
  },
  {
   "cell_type": "code",
   "execution_count": 104,
   "id": "1896ac77",
   "metadata": {},
   "outputs": [],
   "source": [
    "\"\"\"\n",
    "print(dir(torch))  # 查找模块中的所有函数和类\n",
    "help(torch.tensor) # 查找特定函数和类的用法\n",
    "torch.tensor?      # 在另一个浏览器窗口中显示帮助文档\n",
    "torch.tensor??\n",
    "\"\"\""
   ]
  },
  {
   "cell_type": "markdown",
   "id": "54b3af41",
   "metadata": {},
   "source": [
    "# list, numpy, tensor相互转化"
   ]
  },
  {
   "cell_type": "code",
   "execution_count": null,
   "id": "60c6e76b",
   "metadata": {},
   "outputs": [],
   "source": [
    "\"\"\"\n",
    "                             tensor\n",
    "                         ↗          ↘↖\n",
    "torch.as_tensor(list1) ↗              ↘↖torch.as_tensor(arr1)\n",
    "torch.Tensor(list1)  ↗                  ↘↖torch.from_numpy(arr1)\n",
    "torch.tensor(list1)↗       tensor1.numpy()↘↖torch.Tensor(arr1) \n",
    "                 ↗                          ↘↖torch.tensor(arr1)\n",
    "               ↗       array1.tolist()        ↘↖\n",
    "            list      <-----------------        numpy\n",
    "                      ----------------->\n",
    "                      numpy.array(list1)\n",
    "\"\"\""
   ]
  },
  {
   "cell_type": "markdown",
   "id": "d4cea915",
   "metadata": {},
   "source": [
    "## numpy <-> tensor\n",
    "> Tensors on the CPU and NumPy arrays can share their underlying memory location, and **changing one will change the other**"
   ]
  },
  {
   "cell_type": "code",
   "execution_count": 3,
   "id": "c1672a1b",
   "metadata": {},
   "outputs": [
    {
     "name": "stdout",
     "output_type": "stream",
     "text": [
      "Before modify: tensor([1, 1, 1])\n",
      "Before modify: tensor([1, 1, 1])\n",
      "Before modify: tensor([1, 1, 1])\n",
      "Before modify: tensor([1., 1., 1.])\n",
      "Before modify: [1 1 1]\n",
      "After modify: tensor([2, 2, 2])\n",
      "After modify: tensor([2, 2, 2])\n",
      "After modify: tensor([1, 1, 1])\n",
      "After modify: tensor([1., 1., 1.])\n",
      "After modify: [2 2 2]\n"
     ]
    }
   ],
   "source": [
    "arr_1 = numpy.array([1,1,1])\n",
    "\n",
    "arr2tensor_1 = torch.from_numpy(arr_1)    # 共享内存\n",
    "arr2tensor_2 = torch.as_tensor(arr_1)     # 共享内存\n",
    "arr2tensor_3 = torch.tensor(arr_1)        # 深拷贝\n",
    "arr2tensor_4 = torch.Tensor(arr_1)        # 深拷贝\n",
    "tensor2arr_1 = arr2tensor_1.numpy()      # 共享内存\n",
    "\n",
    "print('Before modify:', arr2tensor_1)\n",
    "print('Before modify:', arr2tensor_2)\n",
    "print('Before modify:', arr2tensor_3)\n",
    "print('Before modify:', arr2tensor_4)\n",
    "print('Before modify:', tensor2arr_1)\n",
    "\n",
    "arr_1 += 1\n",
    "\n",
    "print('After modify:', arr2tensor_1)\n",
    "print('After modify:', arr2tensor_2)\n",
    "print('After modify:', arr2tensor_3)\n",
    "print('After modify:', arr2tensor_4)\n",
    "print('After modify:', tensor2arr_1)"
   ]
  },
  {
   "cell_type": "markdown",
   "id": "ff3f16a4",
   "metadata": {},
   "source": [
    "## list -> tensor"
   ]
  },
  {
   "cell_type": "code",
   "execution_count": 4,
   "id": "c2110ec4",
   "metadata": {},
   "outputs": [
    {
     "name": "stdout",
     "output_type": "stream",
     "text": [
      "Before modify: tensor([1, 1, 1]) torch.int64\n",
      "Before modify: tensor([1, 1, 1]) torch.int64\n",
      "Before modify: tensor([1., 1., 1.]) torch.float32\n",
      "After modify: tensor([1, 1, 1]) torch.int64\n",
      "After modify: tensor([1, 1, 1]) torch.int64\n",
      "After modify: tensor([1., 1., 1.]) torch.float32\n"
     ]
    }
   ],
   "source": [
    "list_1 = [1,1,1]\n",
    "\n",
    "list2tensor_1 = torch.as_tensor(list_1)   # 深拷贝, 保留原数据类型\n",
    "list2tensor_2 = torch.tensor(list_1)      # 深拷贝, 保留原数据类型\n",
    "list2tensor_3 = torch.Tensor(list_1)      # 深拷贝, 保存为float\n",
    "\n",
    "print('Before modify:', list2tensor_1, list2tensor_1.dtype)\n",
    "print('Before modify:', list2tensor_2, list2tensor_2.dtype)\n",
    "print('Before modify:', list2tensor_3, list2tensor_3.dtype)\n",
    "\n",
    "list_1[1] += 1\n",
    "\n",
    "print('After modify:', list2tensor_1, list2tensor_1.dtype)\n",
    "print('After modify:', list2tensor_2, list2tensor_2.dtype)\n",
    "print('After modify:', list2tensor_3, list2tensor_3.dtype)"
   ]
  },
  {
   "cell_type": "markdown",
   "id": "9381bb2a",
   "metadata": {},
   "source": [
    "## torch.tensor(data, *, dtype=None, device=None, requires_grad=False, pin_memory=False)\n",
    "Data type                | dtype                         | Legacy Constructors\n",
    ":- | :- | :-\n",
    "32-bit floating point    | torch.float32 or torch.float  | torch.*.FloatTensor\n",
    "64-bit floating point    | torch.float64 or torch.double | torch.*.DoubleTensor\n",
    "64-bit complex           | torch.complex64 or torch.cfloat\n",
    "128-bit complex          | torch.complex128 or torch.cdouble\n",
    "16-bit floating point 1  | torch.float16 or torch.half   | torch.*.HalfTensor\n",
    "16-bit floating point 2  | torch.bfloat16                | torch.*.BFloat16Tensor\n",
    "8-bit integer (unsigned) | torch.uint8                   | torch.*.ByteTensor\n",
    "8-bit integer (signed)   | torch.int8                    | torch.*.CharTensor\n",
    "16-bit integer (signed)  | torch.int16 or torch.short    | torch.*.ShortTensor\n",
    "32-bit integer (signed)  | torch.int32 or torch.int      | torch.*.IntTensor\n",
    "64-bit integer (signed)  | torch.int64 or torch.long     | torch.*.LongTensor\n",
    "Boolean                  | torch.bool                    | torch.*.BoolTensor"
   ]
  },
  {
   "cell_type": "code",
   "execution_count": 16,
   "id": "27b100ef",
   "metadata": {},
   "outputs": [
    {
     "name": "stdout",
     "output_type": "stream",
     "text": [
      "tensor([[1., 2., 3.],\n",
      "        [4., 5., 6.],\n",
      "        [7., 8., 9.]])\n",
      "<class 'torch.Tensor'>\n",
      "is a tensor? True\n",
      "torch.float32\n",
      "cpu\n"
     ]
    }
   ],
   "source": [
    "tensor_1 = torch.tensor([[1,2,3],[4,5,6],[7,8,9]], dtype=torch.float)\n",
    "print(tensor_1)\n",
    "print( type(tensor_1) )\n",
    "print(\"is a tensor?\", torch.is_tensor(tensor_1) )\n",
    "print( tensor_1.dtype )\n",
    "print( tensor_1.device )"
   ]
  },
  {
   "cell_type": "code",
   "execution_count": 18,
   "id": "2321f7e0",
   "metadata": {},
   "outputs": [
    {
     "name": "stdout",
     "output_type": "stream",
     "text": [
      "tensor([1.+0.j]) \t\t\t is complex? True\n",
      "tensor([1.+0.j], dtype=torch.complex128) is complex? True\n",
      "tensor([1.]) \t\t\t\t is float? True\n",
      "tensor([1.], dtype=torch.float64) \t is float? True\n",
      "tensor([1.], dtype=torch.float16) \t is float? True\n",
      "tensor([1.], dtype=torch.bfloat16) \t is float? True\n"
     ]
    }
   ],
   "source": [
    "print(torch.tensor([1], dtype = torch.complex64),\n",
    "      \"\\t\\t\\t is complex?\", torch.is_complex(torch.tensor([1], dtype = torch.complex64)))\n",
    "print(torch.tensor([1], dtype = torch.complex128),\n",
    "      \"is complex?\", torch.is_complex(torch.tensor([1], dtype = torch.complex128)))\n",
    "print(torch.tensor([1], dtype = torch.float32),\n",
    "      \"\\t\\t\\t\\t is float?\", torch.is_floating_point(torch.tensor([1], dtype = torch.float32)))\n",
    "print(torch.tensor([1], dtype = torch.float64),\n",
    "      \"\\t is float?\", torch.is_floating_point(torch.tensor([1], dtype = torch.float64)))\n",
    "print(torch.tensor([1], dtype = torch.float16),\n",
    "      \"\\t is float?\", torch.is_floating_point(torch.tensor([1], dtype = torch.float16)))\n",
    "print(torch.tensor([1], dtype = torch.bfloat16),\n",
    "      \"\\t is float?\", torch.is_floating_point(torch.tensor([1], dtype = torch.bfloat16)))"
   ]
  },
  {
   "cell_type": "markdown",
   "id": "617a100b",
   "metadata": {},
   "source": [
    "# 生成操作"
   ]
  },
  {
   "cell_type": "code",
   "execution_count": 23,
   "id": "9abf667f",
   "metadata": {},
   "outputs": [],
   "source": [
    "tensor_1 = torch.tensor([[1,2,3],[4,5,6],[7,8,9]], dtype=torch.float)"
   ]
  },
  {
   "cell_type": "markdown",
   "id": "f1f59365",
   "metadata": {},
   "source": [
    "## basic"
   ]
  },
  {
   "cell_type": "markdown",
   "id": "9644cddb",
   "metadata": {},
   "source": [
    "### torch.zeros  \n",
    "[torch.zeros(*size, *, out=None, dtype=None, layout=torch.strided, device=None, requires_grad=False)](https://pytorch.org/docs/stable/generated/torch.zeros.html)"
   ]
  },
  {
   "cell_type": "code",
   "execution_count": 46,
   "id": "68cae5d4",
   "metadata": {},
   "outputs": [
    {
     "data": {
      "text/plain": [
       "tensor([[0., 0., 0.],\n",
       "        [0., 0., 0.]])"
      ]
     },
     "execution_count": 46,
     "metadata": {},
     "output_type": "execute_result"
    }
   ],
   "source": [
    "torch.zeros(2, 3)"
   ]
  },
  {
   "cell_type": "code",
   "execution_count": 50,
   "id": "85e3c348",
   "metadata": {},
   "outputs": [
    {
     "data": {
      "text/plain": [
       "True"
      ]
     },
     "execution_count": 50,
     "metadata": {},
     "output_type": "execute_result"
    }
   ],
   "source": [
    "torch.equal(torch.zeros(2, 3),\n",
    "            torch.zeros((2,3)))"
   ]
  },
  {
   "cell_type": "markdown",
   "id": "9568097f",
   "metadata": {},
   "source": [
    "### torch.zeros_like  \n",
    "[torch.zeros_like(input, *, dtype=None, layout=None, device=None, requires_grad=False, memory_format=torch.preserve_format)](https://pytorch.org/docs/stable/generated/torch.zeros_like.html)"
   ]
  },
  {
   "cell_type": "code",
   "execution_count": 29,
   "id": "b718b023",
   "metadata": {},
   "outputs": [
    {
     "name": "stdout",
     "output_type": "stream",
     "text": [
      "tensor([[0., 0., 0.],\n",
      "        [0., 0., 0.],\n",
      "        [0., 0., 0.]])\n"
     ]
    }
   ],
   "source": [
    "torch.zeros_like(tensor_1)"
   ]
  },
  {
   "cell_type": "markdown",
   "id": "c1ca54bd",
   "metadata": {},
   "source": [
    "### torch.ones\n",
    "[torch.ones(*size, *, out=None, dtype=None, layout=torch.strided, device=None, requires_grad=False)](https://pytorch.org/docs/stable/generated/torch.ones.html)"
   ]
  },
  {
   "cell_type": "code",
   "execution_count": 52,
   "id": "41e9aedd",
   "metadata": {},
   "outputs": [
    {
     "data": {
      "text/plain": [
       "tensor([[1., 1., 1.],\n",
       "        [1., 1., 1.]])"
      ]
     },
     "execution_count": 52,
     "metadata": {},
     "output_type": "execute_result"
    }
   ],
   "source": [
    "torch.ones(2, 3)"
   ]
  },
  {
   "cell_type": "code",
   "execution_count": 51,
   "id": "1b08d323",
   "metadata": {},
   "outputs": [
    {
     "data": {
      "text/plain": [
       "True"
      ]
     },
     "execution_count": 51,
     "metadata": {},
     "output_type": "execute_result"
    }
   ],
   "source": [
    "torch.equal(torch.ones(2, 3),\n",
    "            torch.ones((2,3)))"
   ]
  },
  {
   "cell_type": "markdown",
   "id": "8f415bf9",
   "metadata": {},
   "source": [
    "### torch.ones_like\n",
    "[torch.ones_like(input, *, dtype=None, layout=None, device=None, requires_grad=False, memory_format=torch.preserve_format)](https://pytorch.org/docs/stable/generated/torch.ones_like.html)"
   ]
  },
  {
   "cell_type": "code",
   "execution_count": 54,
   "id": "5d1f3785",
   "metadata": {},
   "outputs": [
    {
     "data": {
      "text/plain": [
       "tensor([[1., 1., 1.],\n",
       "        [1., 1., 1.],\n",
       "        [1., 1., 1.]])"
      ]
     },
     "execution_count": 54,
     "metadata": {},
     "output_type": "execute_result"
    }
   ],
   "source": [
    "torch.ones_like(tensor_1)"
   ]
  },
  {
   "cell_type": "markdown",
   "id": "1555b2e6",
   "metadata": {},
   "source": [
    "### torch.empty\n",
    "[torch.empty(*size, *, out=None, dtype=None, layout=torch.strided, device=None, requires_grad=False, pin_memory=False, memory_format=torch.contiguous_format)](https://pytorch.org/docs/stable/generated/torch.empty.html)     \n",
    "生成一个空的tensor(每个元素为随机的极其小的正值)"
   ]
  },
  {
   "cell_type": "code",
   "execution_count": 48,
   "id": "5569a472",
   "metadata": {},
   "outputs": [
    {
     "data": {
      "text/plain": [
       "tensor([[0.0000e+00, 6.7262e-44, 2.1532e+23],\n",
       "        [8.3895e-07, 2.1006e+20, 8.1804e+20]])"
      ]
     },
     "execution_count": 48,
     "metadata": {},
     "output_type": "execute_result"
    }
   ],
   "source": [
    "torch.empty(2, 3)"
   ]
  },
  {
   "cell_type": "markdown",
   "id": "2d351911",
   "metadata": {},
   "source": [
    "### torch.empty_like\n",
    "[torch.empty_like(input, *, dtype=None, layout=None, device=None, requires_grad=False, memory_format=torch.preserve_format)](https://pytorch.org/docs/stable/generated/torch.empty_like.html)"
   ]
  },
  {
   "cell_type": "code",
   "execution_count": 49,
   "id": "86bd5496",
   "metadata": {},
   "outputs": [
    {
     "data": {
      "text/plain": [
       "tensor([[-1.8746e-33,  3.0852e-41, -1.8087e-33],\n",
       "        [ 3.0852e-41,  1.5695e-43,  0.0000e+00],\n",
       "        [ 6.7262e-44,  0.0000e+00, -4.6463e-35]])"
      ]
     },
     "execution_count": 49,
     "metadata": {},
     "output_type": "execute_result"
    }
   ],
   "source": [
    "torch.empty_like(tensor_1)"
   ]
  },
  {
   "cell_type": "markdown",
   "id": "ed79b6a1",
   "metadata": {},
   "source": [
    "### torch.full\n",
    "[torch.full(size, fill_value, \\*, out=None, dtype=None, layout=torch.strided, device=None, requires_grad=False)](https://pytorch.org/docs/stable/generated/torch.full.html)  \n",
    "**用fill_value填充tensor的每个元素**"
   ]
  },
  {
   "cell_type": "code",
   "execution_count": 41,
   "id": "51fa73b8",
   "metadata": {},
   "outputs": [
    {
     "data": {
      "text/plain": [
       "tensor([[3.1416, 3.1416, 3.1416],\n",
       "        [3.1416, 3.1416, 3.1416]])"
      ]
     },
     "execution_count": 41,
     "metadata": {},
     "output_type": "execute_result"
    }
   ],
   "source": [
    "torch.full(size=(2, 3), fill_value=3.141592)"
   ]
  },
  {
   "cell_type": "markdown",
   "id": "60a46068",
   "metadata": {},
   "source": [
    "### torch.full_like\n",
    "[torch.full_like(input, fill_value, *, dtype=None, layout=torch.strided, device=None, requires_grad=False, memory_format=torch.preserve_format)](https://pytorch.org/docs/stable/generated/torch.full_like.html)  "
   ]
  },
  {
   "cell_type": "code",
   "execution_count": 40,
   "id": "d0d08967",
   "metadata": {},
   "outputs": [
    {
     "data": {
      "text/plain": [
       "tensor([[3.1416, 3.1416, 3.1416],\n",
       "        [3.1416, 3.1416, 3.1416],\n",
       "        [3.1416, 3.1416, 3.1416]])"
      ]
     },
     "execution_count": 40,
     "metadata": {},
     "output_type": "execute_result"
    }
   ],
   "source": [
    "torch.full_like(tensor_1, fill_value=3.141592)"
   ]
  },
  {
   "cell_type": "markdown",
   "id": "2e0f0af0",
   "metadata": {},
   "source": [
    "### torch.eye\n",
    "[torch.eye(n, m=None, \\*, out=None, dtype=None, layout=torch.strided, device=None, requires_grad=False)](https://pytorch.org/docs/stable/generated/torch.eye.html)    \n",
    "**对角线元素均为1的矩阵**"
   ]
  },
  {
   "cell_type": "code",
   "execution_count": 50,
   "id": "50006b07",
   "metadata": {},
   "outputs": [
    {
     "data": {
      "text/plain": [
       "tensor([[1., 0., 0.],\n",
       "        [0., 1., 0.],\n",
       "        [0., 0., 1.],\n",
       "        [0., 0., 0.]])"
      ]
     },
     "execution_count": 50,
     "metadata": {},
     "output_type": "execute_result"
    }
   ],
   "source": [
    "torch.eye(4, 3)"
   ]
  },
  {
   "cell_type": "code",
   "execution_count": 51,
   "id": "560f5355",
   "metadata": {},
   "outputs": [
    {
     "data": {
      "text/plain": [
       "tensor([[1., 0., 0.],\n",
       "        [0., 1., 0.],\n",
       "        [0., 0., 1.]])"
      ]
     },
     "execution_count": 51,
     "metadata": {},
     "output_type": "execute_result"
    }
   ],
   "source": [
    "torch.eye(3)"
   ]
  },
  {
   "cell_type": "markdown",
   "id": "47b71be5",
   "metadata": {},
   "source": [
    "## sequence\n",
    "todo: https://pytorch.org/docs/stable/generated/torch.logspace.html#torch.logspace"
   ]
  },
  {
   "cell_type": "markdown",
   "id": "e256d14a",
   "metadata": {},
   "source": [
    "### torch.arange\n",
    "[torch.arange(start=0, end, step=1, *, out=None, dtype=None, layout=torch.strided, device=None, requires_grad=False)](https://pytorch.org/docs/stable/generated/torch.arange.html)    "
   ]
  },
  {
   "cell_type": "code",
   "execution_count": 52,
   "id": "19094bf0",
   "metadata": {},
   "outputs": [
    {
     "data": {
      "text/plain": [
       "tensor([0, 1, 2, 3, 4])"
      ]
     },
     "execution_count": 52,
     "metadata": {},
     "output_type": "execute_result"
    }
   ],
   "source": [
    "torch.arange(5)"
   ]
  },
  {
   "cell_type": "code",
   "execution_count": 53,
   "id": "c5189fd9",
   "metadata": {},
   "outputs": [
    {
     "data": {
      "text/plain": [
       "tensor([1, 2, 3, 4, 5])"
      ]
     },
     "execution_count": 53,
     "metadata": {},
     "output_type": "execute_result"
    }
   ],
   "source": [
    "torch.arange(1, 6)"
   ]
  },
  {
   "cell_type": "code",
   "execution_count": 54,
   "id": "16a79b5c",
   "metadata": {},
   "outputs": [
    {
     "data": {
      "text/plain": [
       "tensor([1.0000, 1.5000, 2.0000])"
      ]
     },
     "execution_count": 54,
     "metadata": {},
     "output_type": "execute_result"
    }
   ],
   "source": [
    "torch.arange(1., 2.5, 0.5)"
   ]
  },
  {
   "cell_type": "code",
   "execution_count": 55,
   "id": "31b66d96",
   "metadata": {},
   "outputs": [
    {
     "data": {
      "text/plain": [
       "tensor([0, 2, 4, 6, 8])"
      ]
     },
     "execution_count": 55,
     "metadata": {},
     "output_type": "execute_result"
    }
   ],
   "source": [
    "torch.arange(0, 10, 2)"
   ]
  },
  {
   "cell_type": "markdown",
   "id": "dc1c28ba",
   "metadata": {},
   "source": [
    "### torch.linspace\n",
    "[torch.linspace(start, end, steps, *, out=None, dtype=None, layout=torch.strided, device=None, requires_grad=False)](https://pytorch.org/docs/stable/generated/torch.linspace.html)    "
   ]
  },
  {
   "cell_type": "code",
   "execution_count": 56,
   "id": "85849395",
   "metadata": {},
   "outputs": [
    {
     "data": {
      "text/plain": [
       "tensor([ 0.,  1.,  2.,  3.,  4.,  5.,  6.,  7.,  8.,  9., 10.])"
      ]
     },
     "execution_count": 56,
     "metadata": {},
     "output_type": "execute_result"
    }
   ],
   "source": [
    "torch.linspace(start=0, end=10, steps=11)"
   ]
  },
  {
   "cell_type": "code",
   "execution_count": 57,
   "id": "5a33d145",
   "metadata": {},
   "outputs": [
    {
     "data": {
      "text/plain": [
       "tensor([-10.,  -5.,   0.,   5.,  10.])"
      ]
     },
     "execution_count": 57,
     "metadata": {},
     "output_type": "execute_result"
    }
   ],
   "source": [
    "torch.linspace(-10, 10, steps=5)"
   ]
  },
  {
   "cell_type": "markdown",
   "id": "3b3c1db6",
   "metadata": {},
   "source": [
    "### torch.logspace\n",
    "[torch.logspace(start, end, steps, base=10.0, *, out=None, dtype=None, layout=torch.strided, device=None, requires_grad=False)](https://pytorch.org/docs/stable/generated/torch.logspace.html)    "
   ]
  },
  {
   "cell_type": "code",
   "execution_count": 58,
   "id": "4f16b3f7",
   "metadata": {},
   "outputs": [
    {
     "data": {
      "text/plain": [
       "tensor([1.0000e+00, 1.0000e+01, 1.0000e+02, 1.0000e+03, 1.0000e+04, 1.0000e+05,\n",
       "        1.0000e+06, 1.0000e+07, 1.0000e+08, 1.0000e+09, 1.0000e+10])"
      ]
     },
     "execution_count": 58,
     "metadata": {},
     "output_type": "execute_result"
    }
   ],
   "source": [
    "torch.logspace(start=0, end=10, steps=11)"
   ]
  },
  {
   "cell_type": "code",
   "execution_count": 59,
   "id": "85c2ee9f",
   "metadata": {},
   "outputs": [
    {
     "data": {
      "text/plain": [
       "tensor([1.0000e+00, 2.0000e+00, 4.0000e+00, 8.0000e+00, 1.6000e+01, 3.2000e+01,\n",
       "        6.4000e+01, 1.2800e+02, 2.5600e+02, 5.1200e+02, 1.0240e+03])"
      ]
     },
     "execution_count": 59,
     "metadata": {},
     "output_type": "execute_result"
    }
   ],
   "source": [
    "torch.logspace(start=0, end=10, steps=11, base=2)"
   ]
  },
  {
   "cell_type": "markdown",
   "id": "85c7ce55",
   "metadata": {},
   "source": [
    "### torch.randperm 随机排列\n",
    "[torch.randperm(n, \\*, generator=None, out=None, dtype=torch.int64, layout=torch.strided, device=None, requires_grad=False, pin_memory=False)](https://pytorch.org/docs/stable/generated/torch.randperm.html)      \n",
    "**[0, n)之间的一个随机排列**"
   ]
  },
  {
   "cell_type": "code",
   "execution_count": 62,
   "id": "4205ce16",
   "metadata": {},
   "outputs": [
    {
     "data": {
      "text/plain": [
       "tensor([0, 2, 3, 1])"
      ]
     },
     "execution_count": 62,
     "metadata": {},
     "output_type": "execute_result"
    }
   ],
   "source": [
    "torch.randperm(4)"
   ]
  },
  {
   "cell_type": "markdown",
   "id": "16e95c4f",
   "metadata": {},
   "source": [
    "## 均分分布"
   ]
  },
  {
   "cell_type": "markdown",
   "id": "3304906b",
   "metadata": {},
   "source": [
    "### torch.rand 随机整数\n",
    "torch.rand(\\*size, \\*, generator=None, out=None, dtype=None, layout=torch.strided, device=None, requires_grad=False, pin_memory=False)  \n",
    "**[0,1)之间的随机小数**"
   ]
  },
  {
   "cell_type": "code",
   "execution_count": 63,
   "id": "9801c346",
   "metadata": {},
   "outputs": [
    {
     "data": {
      "text/plain": [
       "tensor([[0.1798, 0.9774, 0.7949],\n",
       "        [0.0543, 0.1901, 0.9474]])"
      ]
     },
     "execution_count": 63,
     "metadata": {},
     "output_type": "execute_result"
    }
   ],
   "source": [
    "torch.rand(2, 3)"
   ]
  },
  {
   "cell_type": "markdown",
   "id": "c76f5623",
   "metadata": {},
   "source": [
    "### torch.rand_like\n",
    "torch.rand_like(input, \\*, dtype=None, layout=None, device=None, requires_grad=False, memory_format=torch.preserve_format)  \n",
    "**[0,1)之间的随机小数**"
   ]
  },
  {
   "cell_type": "code",
   "execution_count": 64,
   "id": "663f3d83",
   "metadata": {},
   "outputs": [
    {
     "data": {
      "text/plain": [
       "tensor([[0.7106, 0.6199, 0.9579],\n",
       "        [0.6220, 0.0433, 0.1052],\n",
       "        [0.4421, 0.5232, 0.3296]])"
      ]
     },
     "execution_count": 64,
     "metadata": {},
     "output_type": "execute_result"
    }
   ],
   "source": [
    "torch.rand_like(tensor_1)"
   ]
  },
  {
   "cell_type": "markdown",
   "id": "e9db7a5d",
   "metadata": {},
   "source": [
    "### torch.randint 随机整数\n",
    "torch.randint(low=0, high, size, \\*, generator=None, out=None, dtype=None, layout=torch.strided, device=None, requires_grad=False)  \n",
    "**[low, high)之间的随机整数**"
   ]
  },
  {
   "cell_type": "code",
   "execution_count": 65,
   "id": "9c8d5d3b",
   "metadata": {},
   "outputs": [
    {
     "data": {
      "text/plain": [
       "tensor([[6, 8],\n",
       "        [8, 5]])"
      ]
     },
     "execution_count": 65,
     "metadata": {},
     "output_type": "execute_result"
    }
   ],
   "source": [
    "torch.randint(low=5, high=10, size=(2, 2))"
   ]
  },
  {
   "cell_type": "code",
   "execution_count": 66,
   "id": "8c11f633",
   "metadata": {},
   "outputs": [
    {
     "data": {
      "text/plain": [
       "tensor([[9, 1],\n",
       "        [0, 7]])"
      ]
     },
     "execution_count": 66,
     "metadata": {},
     "output_type": "execute_result"
    }
   ],
   "source": [
    "torch.randint(high=10, size=(2,2))"
   ]
  },
  {
   "cell_type": "markdown",
   "id": "50f0fcea",
   "metadata": {},
   "source": [
    "### torch.randint_like\n",
    "torch.randint_like(input, low=0, high, \\*, dtype=None, layout=torch.strided, device=None, requires_grad=False, memory_format=torch.preserve_format)  \n",
    "**[low, high)之间的随机整数**"
   ]
  },
  {
   "cell_type": "code",
   "execution_count": 69,
   "id": "4b3882b6",
   "metadata": {},
   "outputs": [
    {
     "data": {
      "text/plain": [
       "tensor([[8., 6., 7.],\n",
       "        [9., 7., 8.],\n",
       "        [5., 5., 8.]])"
      ]
     },
     "execution_count": 69,
     "metadata": {},
     "output_type": "execute_result"
    }
   ],
   "source": [
    "torch.randint_like(tensor_1, low=5, high=10)"
   ]
  },
  {
   "cell_type": "code",
   "execution_count": 70,
   "id": "83b76c9e",
   "metadata": {},
   "outputs": [
    {
     "data": {
      "text/plain": [
       "tensor([[3., 9., 6.],\n",
       "        [7., 5., 9.],\n",
       "        [2., 6., 0.]])"
      ]
     },
     "execution_count": 70,
     "metadata": {},
     "output_type": "execute_result"
    }
   ],
   "source": [
    "torch.randint_like(tensor_1, high=10)"
   ]
  },
  {
   "cell_type": "markdown",
   "id": "d691a404",
   "metadata": {},
   "source": [
    "## 正态分布"
   ]
  },
  {
   "cell_type": "markdown",
   "id": "d673b44c",
   "metadata": {},
   "source": [
    "### torch.randn\n",
    "torch.randn(\\*size, \\*, out=None, dtype=None, layout=torch.strided, device=None, requires_grad=False, pin_memory=False)  \n",
    "**标准正态分布, 均值为0, 方差为1**"
   ]
  },
  {
   "cell_type": "code",
   "execution_count": 71,
   "id": "4e59fe83",
   "metadata": {},
   "outputs": [
    {
     "data": {
      "text/plain": [
       "tensor([[-0.3794,  0.6806,  1.0308],\n",
       "        [-0.1291, -0.7029,  0.2652]])"
      ]
     },
     "execution_count": 71,
     "metadata": {},
     "output_type": "execute_result"
    }
   ],
   "source": [
    "torch.randn(2, 3)"
   ]
  },
  {
   "cell_type": "markdown",
   "id": "12c2979c",
   "metadata": {},
   "source": [
    "### torch.randn_like\n",
    "torch.randn_like(input, \\*, dtype=None, layout=None, device=None, requires_grad=False, memory_format=torch.preserve_format)  \n",
    "**标准正态分布, 均值为0, 方差为1**"
   ]
  },
  {
   "cell_type": "code",
   "execution_count": 72,
   "id": "eaaf0598",
   "metadata": {},
   "outputs": [
    {
     "data": {
      "text/plain": [
       "tensor([[0.2268, 0.8732, 0.1223],\n",
       "        [0.0723, 0.3805, 0.8357],\n",
       "        [0.1125, 0.5685, 0.6508]])"
      ]
     },
     "execution_count": 72,
     "metadata": {},
     "output_type": "execute_result"
    }
   ],
   "source": [
    "torch.rand_like(tensor_1)"
   ]
  },
  {
   "cell_type": "markdown",
   "id": "66ec0402",
   "metadata": {},
   "source": [
    "### torch.normal\n",
    "#### mean is float, std is float  \n",
    "torch.normal(mean, std, size, \\*, out=None)  "
   ]
  },
  {
   "cell_type": "code",
   "execution_count": 77,
   "id": "e9d90fa6",
   "metadata": {},
   "outputs": [
    {
     "data": {
      "text/plain": [
       "tensor([[ 3.1106,  0.8640,  6.8128, -1.1986,  8.0743]])"
      ]
     },
     "execution_count": 77,
     "metadata": {},
     "output_type": "execute_result"
    }
   ],
   "source": [
    "torch.normal(mean=2, std=3, size=(1, 5))"
   ]
  },
  {
   "cell_type": "markdown",
   "id": "fc53f373",
   "metadata": {},
   "source": [
    "#### mean is float, std is tensor\n",
    "torch.normal(mean=0.0, std, *, out=None) "
   ]
  },
  {
   "cell_type": "code",
   "execution_count": 76,
   "id": "54146ccb",
   "metadata": {},
   "outputs": [
    {
     "data": {
      "text/plain": [
       "tensor([1.6693, 2.9867, 3.4782, 3.2756, 7.3793])"
      ]
     },
     "execution_count": 76,
     "metadata": {},
     "output_type": "execute_result"
    }
   ],
   "source": [
    "torch.normal(mean=0.5, std=torch.arange(1., 6.))"
   ]
  },
  {
   "cell_type": "markdown",
   "id": "e54ac9a0",
   "metadata": {},
   "source": [
    "#### mean is tensor, std is float  \n",
    "torch.normal(mean, std=1.0, *, out=None)  "
   ]
  },
  {
   "cell_type": "code",
   "execution_count": 79,
   "id": "5b549276",
   "metadata": {},
   "outputs": [
    {
     "data": {
      "text/plain": [
       "tensor([1.9557, 2.6027, 1.4790, 3.5888, 6.8464])"
      ]
     },
     "execution_count": 79,
     "metadata": {},
     "output_type": "execute_result"
    }
   ],
   "source": [
    "torch.normal(mean=torch.arange(1., 6.))"
   ]
  },
  {
   "cell_type": "markdown",
   "id": "19920875",
   "metadata": {},
   "source": [
    "#### mean is tensor, std is tensor, and 两者的元素数量一致\n",
    "torch.normal(mean, std, *, generator=None, out=None)  "
   ]
  },
  {
   "cell_type": "code",
   "execution_count": 83,
   "id": "b2836039",
   "metadata": {},
   "outputs": [
    {
     "data": {
      "text/plain": [
       "tensor([-0.3819,  2.2231,  4.2730,  4.5564,  5.4564])"
      ]
     },
     "execution_count": 83,
     "metadata": {},
     "output_type": "execute_result"
    }
   ],
   "source": [
    "torch.normal(mean=torch.arange(1., 6.), std=torch.arange(1, 0, -0.2))"
   ]
  },
  {
   "cell_type": "markdown",
   "id": "bec6fc09",
   "metadata": {},
   "source": [
    "## 多项式分布"
   ]
  },
  {
   "cell_type": "markdown",
   "id": "17ea2eaa",
   "metadata": {},
   "source": [
    "### torch.multinomial\n",
    "torch.multinomial(input, num_samples, replacement=False, \\*, generator=None, out=None)\n",
    "基于多项式分布，从input中随机抽取num_samples元素，并返回其索引\n",
    "- input的每行之和无需一定为1, 但必须是大于0的有限数\n",
    "- replacement=False 表示无重复抽取, 0 < num_samples <= len(input[0])\n",
    "- replacement=True 表示可重复抽取, num_samples > 0"
   ]
  },
  {
   "cell_type": "code",
   "execution_count": 84,
   "id": "0a1ad1a6",
   "metadata": {},
   "outputs": [
    {
     "data": {
      "text/plain": [
       "tensor([[2, 1],\n",
       "        [2, 1]])"
      ]
     },
     "execution_count": 84,
     "metadata": {},
     "output_type": "execute_result"
    }
   ],
   "source": [
    "torch.multinomial(torch.tensor([[0., 10., 3.],[4., 2., 8.]]), 2)"
   ]
  },
  {
   "cell_type": "code",
   "execution_count": 85,
   "id": "34cb33e4",
   "metadata": {},
   "outputs": [
    {
     "data": {
      "text/plain": [
       "tensor([[1, 2, 0],\n",
       "        [2, 0, 1]])"
      ]
     },
     "execution_count": 85,
     "metadata": {},
     "output_type": "execute_result"
    }
   ],
   "source": [
    "torch.multinomial(torch.tensor([[0., 10., 3.],[4., 2., 8.]]), 3)"
   ]
  },
  {
   "cell_type": "code",
   "execution_count": 87,
   "id": "fe9cea7c",
   "metadata": {},
   "outputs": [
    {
     "data": {
      "text/plain": [
       "tensor([[1, 1, 1, 1],\n",
       "        [0, 2, 0, 2]])"
      ]
     },
     "execution_count": 87,
     "metadata": {},
     "output_type": "execute_result"
    }
   ],
   "source": [
    "torch.multinomial(torch.tensor([[0., 10., 3.],[4., 2., 8.]]), 4, replacement=True)"
   ]
  },
  {
   "cell_type": "markdown",
   "id": "9be885d4",
   "metadata": {},
   "source": [
    "## 0-1分布"
   ]
  },
  {
   "cell_type": "markdown",
   "id": "69d4a443",
   "metadata": {},
   "source": [
    "### torch.bernoulli\n",
    "torch.bernoulli(input, *, generator=None, out=None)  \n",
    "input的每个元素都必须在[0,1]内"
   ]
  },
  {
   "cell_type": "code",
   "execution_count": 90,
   "id": "2134015c",
   "metadata": {},
   "outputs": [
    {
     "data": {
      "text/plain": [
       "tensor([[0., 1., 0.],\n",
       "        [1., 1., 1.]])"
      ]
     },
     "execution_count": 90,
     "metadata": {},
     "output_type": "execute_result"
    }
   ],
   "source": [
    "torch.bernoulli(torch.rand(2, 3))"
   ]
  },
  {
   "cell_type": "markdown",
   "id": "4d2c73b1",
   "metadata": {},
   "source": [
    "## 泊松分布"
   ]
  },
  {
   "cell_type": "markdown",
   "id": "08ddbc26",
   "metadata": {},
   "source": [
    "### torch.poisson\n",
    "torch.poisson(input, generator=None)"
   ]
  },
  {
   "cell_type": "code",
   "execution_count": 92,
   "id": "8e2ba32f",
   "metadata": {},
   "outputs": [
    {
     "data": {
      "text/plain": [
       "tensor([[1., 3., 1.],\n",
       "        [7., 3., 6.]])"
      ]
     },
     "execution_count": 92,
     "metadata": {},
     "output_type": "execute_result"
    }
   ],
   "source": [
    "torch.poisson(torch.rand(2, 3) * 5)"
   ]
  },
  {
   "cell_type": "markdown",
   "id": "337ae29f",
   "metadata": {},
   "source": [
    "# 索引, 变形, 切块操作"
   ]
  },
  {
   "cell_type": "markdown",
   "id": "f242d3c5",
   "metadata": {},
   "source": [
    "## 维度"
   ]
  },
  {
   "cell_type": "markdown",
   "id": "c246f897",
   "metadata": {},
   "source": [
    "### torch.numel 元素数量"
   ]
  },
  {
   "cell_type": "code",
   "execution_count": 11,
   "id": "dcb6fc31",
   "metadata": {},
   "outputs": [
    {
     "name": "stdout",
     "output_type": "stream",
     "text": [
      "tensor([[1., 2., 3., 4.],\n",
      "        [5., 6., 7., 8.]])\n"
     ]
    }
   ],
   "source": [
    "tensor_1 = torch.arange(1, 9, dtype=torch.float).reshape(2, 4)\n",
    "print(tensor_1)"
   ]
  },
  {
   "cell_type": "code",
   "execution_count": 7,
   "id": "526a3aa2",
   "metadata": {},
   "outputs": [
    {
     "name": "stdout",
     "output_type": "stream",
     "text": [
      "total number of elements = 8\n",
      "total number of elements = 8\n"
     ]
    }
   ],
   "source": [
    "print(\"total number of elements =\", tensor_1.numel() )\n",
    "print(\"total number of elements =\", torch.numel(tensor_1) )"
   ]
  },
  {
   "cell_type": "markdown",
   "id": "7de91cc4",
   "metadata": {},
   "source": [
    "### shape, size, dim"
   ]
  },
  {
   "cell_type": "code",
   "execution_count": 5,
   "id": "31356062",
   "metadata": {
    "scrolled": true
   },
   "outputs": [
    {
     "name": "stdout",
     "output_type": "stream",
     "text": [
      "size: torch.Size([2, 4])\n",
      "size: torch.Size([2, 4])\n",
      "total number of dimensions = 2\n",
      "size of 0-th dim = 2\n",
      "size of 0-th dim = 2\n",
      "size of 0-th dim = 2\n"
     ]
    }
   ],
   "source": [
    "print(\"size:\", tensor_1.shape)\n",
    "print(\"size:\", tensor_1.size())\n",
    "\n",
    "print(\"total number of dimensions =\", tensor_1.dim() )\n",
    "\n",
    "print(\"size of 0-th dim =\", tensor_1.shape[0] )\n",
    "print(\"size of 0-th dim =\", tensor_1.size(0) )\n",
    "print(\"size of 0-th dim =\", tensor_1.size()[0] )"
   ]
  },
  {
   "cell_type": "markdown",
   "id": "532c187a",
   "metadata": {},
   "source": [
    "## 查找/索引\n",
    "不会开辟新内存"
   ]
  },
  {
   "cell_type": "code",
   "execution_count": 8,
   "id": "ab175944",
   "metadata": {},
   "outputs": [
    {
     "name": "stdout",
     "output_type": "stream",
     "text": [
      "tensor([[1., 2., 3., 4.],\n",
      "        [5., 6., 7., 8.]])\n"
     ]
    }
   ],
   "source": [
    "tensor_1 = torch.arange(1, 9, dtype=torch.float).reshape(2, 4)\n",
    "print(tensor_1)"
   ]
  },
  {
   "cell_type": "code",
   "execution_count": 10,
   "id": "b4115708",
   "metadata": {},
   "outputs": [
    {
     "name": "stdout",
     "output_type": "stream",
     "text": [
      "first element: 1.0\n",
      "first element: 1.0\n",
      "first row: tensor([1., 2., 3., 4.])\n",
      "last column: tensor([4., 8.])\n",
      "last column: tensor([4., 8.])\n"
     ]
    }
   ],
   "source": [
    "print(\"first element:\", tensor_1[0][0].item() )\n",
    "print(\"first element:\", tensor_1[0, 0].item() )\n",
    "print(\"first row:\",     tensor_1[0] )\n",
    "print(\"last column:\",   tensor_1[:,-1] )\n",
    "print(\"last column:\",   tensor_1[...,-1] )"
   ]
  },
  {
   "cell_type": "markdown",
   "id": "3ed2fca8",
   "metadata": {},
   "source": [
    ">Notice: 索引返回的结果与原数据共享内存，也即修改一个，另一个会跟着修改"
   ]
  },
  {
   "cell_type": "code",
   "execution_count": 11,
   "id": "97bfc356",
   "metadata": {},
   "outputs": [
    {
     "data": {
      "text/plain": [
       "tensor([[1., 0., 3., 4.],\n",
       "        [5., 0., 7., 8.]])"
      ]
     },
     "execution_count": 11,
     "metadata": {},
     "output_type": "execute_result"
    }
   ],
   "source": [
    "tensor_1[:,1] = 0\n",
    "tensor_1"
   ]
  },
  {
   "cell_type": "markdown",
   "id": "cc33a8fd",
   "metadata": {},
   "source": [
    "### torch.take\n",
    "torch.take(input, index)"
   ]
  },
  {
   "cell_type": "code",
   "execution_count": 120,
   "id": "147b7e6d",
   "metadata": {},
   "outputs": [
    {
     "data": {
      "text/plain": [
       "tensor([1., 3., 0., 8.])"
      ]
     },
     "execution_count": 120,
     "metadata": {},
     "output_type": "execute_result"
    }
   ],
   "source": [
    "torch.take(tensor_1, torch.tensor([0,2,5,7]))"
   ]
  },
  {
   "cell_type": "markdown",
   "id": "ba5a1adf",
   "metadata": {},
   "source": [
    "### torch.take_along_dim\n",
    "torch.take_along_dim(input, indices, dim, \\*, out=None)  \n",
    "input and indices should have the same number of dimensions"
   ]
  },
  {
   "cell_type": "code",
   "execution_count": 159,
   "id": "12e67da9",
   "metadata": {},
   "outputs": [],
   "source": [
    "tensor_1 = torch.tensor([[4,2,3,1],[5,7,6,8]], dtype=torch.float)"
   ]
  },
  {
   "cell_type": "code",
   "execution_count": 160,
   "id": "53c38cda",
   "metadata": {},
   "outputs": [
    {
     "data": {
      "text/plain": [
       "tensor([[4., 2., 3., 1.],\n",
       "        [5., 7., 6., 8.]])"
      ]
     },
     "execution_count": 160,
     "metadata": {},
     "output_type": "execute_result"
    }
   ],
   "source": [
    "tensor_1"
   ]
  },
  {
   "cell_type": "code",
   "execution_count": 161,
   "id": "ead19630",
   "metadata": {},
   "outputs": [],
   "source": [
    "sorted_idx = torch.argsort(tensor_1, dim=1)"
   ]
  },
  {
   "cell_type": "code",
   "execution_count": 162,
   "id": "e16bf2ea",
   "metadata": {},
   "outputs": [
    {
     "data": {
      "text/plain": [
       "tensor([[3, 1, 2, 0],\n",
       "        [0, 2, 1, 3]])"
      ]
     },
     "execution_count": 162,
     "metadata": {},
     "output_type": "execute_result"
    }
   ],
   "source": [
    "sorted_idx"
   ]
  },
  {
   "cell_type": "code",
   "execution_count": 163,
   "id": "9fc4eb9d",
   "metadata": {},
   "outputs": [
    {
     "data": {
      "text/plain": [
       "tensor([[1., 2., 3., 4.],\n",
       "        [5., 6., 7., 8.]])"
      ]
     },
     "execution_count": 163,
     "metadata": {},
     "output_type": "execute_result"
    }
   ],
   "source": [
    "torch.take_along_dim(tensor_1, sorted_idx, dim=1)"
   ]
  },
  {
   "cell_type": "markdown",
   "id": "1022462d",
   "metadata": {},
   "source": [
    "### torch.masked_select\n",
    "torch.masked_select(input, mask, \\*, out=None)  \n",
    "Returns a new 1-D tensor which indexes the input tensor according to the boolean mask mask which is a BoolTensor.  \n",
    "返回mask为真的元素组成的一维张量"
   ]
  },
  {
   "cell_type": "code",
   "execution_count": 164,
   "id": "25b4c057",
   "metadata": {},
   "outputs": [],
   "source": [
    "tensor_1 = torch.tensor([[4,2,3,1],[5,7,6,8]], dtype=torch.float)"
   ]
  },
  {
   "cell_type": "code",
   "execution_count": 165,
   "id": "4aeb3759",
   "metadata": {},
   "outputs": [
    {
     "data": {
      "text/plain": [
       "tensor([[4., 2., 3., 1.],\n",
       "        [5., 7., 6., 8.]])"
      ]
     },
     "execution_count": 165,
     "metadata": {},
     "output_type": "execute_result"
    }
   ],
   "source": [
    "tensor_1"
   ]
  },
  {
   "cell_type": "code",
   "execution_count": 166,
   "id": "d7a69494",
   "metadata": {},
   "outputs": [],
   "source": [
    "mask = torch.tensor([[True,False,True,False],[False,True,False,True]])"
   ]
  },
  {
   "cell_type": "code",
   "execution_count": 167,
   "id": "33beba17",
   "metadata": {},
   "outputs": [
    {
     "data": {
      "text/plain": [
       "tensor([4., 3., 7., 8.])"
      ]
     },
     "execution_count": 167,
     "metadata": {},
     "output_type": "execute_result"
    }
   ],
   "source": [
    "torch.masked_select(tensor_1, mask)"
   ]
  },
  {
   "cell_type": "markdown",
   "id": "563c3703",
   "metadata": {},
   "source": [
    "### torch.nonzero\n",
    "torch.nonzero(input, \\*, out=None, as_tuple=False)  \n",
    "**返回非0位置索引**。 如果as_tuple=False, 索引存成多维数组的形式; 如果as_tuple=True, 每个维度的索引存至不同的tensor中。"
   ]
  },
  {
   "cell_type": "code",
   "execution_count": 169,
   "id": "675c119f",
   "metadata": {},
   "outputs": [
    {
     "data": {
      "text/plain": [
       "tensor([[0],\n",
       "        [1],\n",
       "        [2],\n",
       "        [4]])"
      ]
     },
     "execution_count": 169,
     "metadata": {},
     "output_type": "execute_result"
    }
   ],
   "source": [
    "torch.nonzero(torch.tensor([1, 1, 1, 0, 1]))"
   ]
  },
  {
   "cell_type": "code",
   "execution_count": 172,
   "id": "7fd12f7b",
   "metadata": {},
   "outputs": [
    {
     "data": {
      "text/plain": [
       "(tensor([0, 1, 2, 4]),)"
      ]
     },
     "execution_count": 172,
     "metadata": {},
     "output_type": "execute_result"
    }
   ],
   "source": [
    "torch.nonzero(torch.tensor([1, 1, 1, 0, 1]), as_tuple=True)"
   ]
  },
  {
   "cell_type": "code",
   "execution_count": 173,
   "id": "7162ddea",
   "metadata": {},
   "outputs": [
    {
     "data": {
      "text/plain": [
       "tensor([[0, 0],\n",
       "        [1, 1],\n",
       "        [3, 1]])"
      ]
     },
     "execution_count": 173,
     "metadata": {},
     "output_type": "execute_result"
    }
   ],
   "source": [
    "torch.nonzero(torch.tensor([[0.6, 0.0],[0.0, 0.4],[0.0, 0.0],[0.0, -0.4]]))"
   ]
  },
  {
   "cell_type": "code",
   "execution_count": 174,
   "id": "d9a4e1c2",
   "metadata": {},
   "outputs": [
    {
     "data": {
      "text/plain": [
       "(tensor([0, 1, 3]), tensor([0, 1, 1]))"
      ]
     },
     "execution_count": 174,
     "metadata": {},
     "output_type": "execute_result"
    }
   ],
   "source": [
    "torch.nonzero(torch.tensor([[0.6, 0.0],[0.0, 0.4],[0.0, 0.0],[0.0, -0.4]]), as_tuple=True)"
   ]
  },
  {
   "cell_type": "markdown",
   "id": "c701e7fa",
   "metadata": {},
   "source": [
    "### torch.where\n",
    "torch.where(condition, input, other, *, out=None)  \n",
    "$$ out_i = \\begin{cases} \\begin{array}{l,l}\n",
    "input_i, & condition_i = True \\\\\n",
    "other_i, & otherwise \\\\\n",
    "\\end{array} \\end{cases} $$\n",
    "\n",
    "Parameters:\n",
    "- condition (BoolTensor) – When True (nonzero), yield input, otherwise yield other\n",
    "- input (Tensor or Scalar) – value (if input is a scalar) or values selected at indices where condition is True\n",
    "- other (Tensor or Scalar) – value (if other is a scalar) or values selected at indices where condition is False"
   ]
  },
  {
   "cell_type": "code",
   "execution_count": 178,
   "id": "33ab5659",
   "metadata": {},
   "outputs": [],
   "source": [
    "tensor_1 = torch.tensor([[-0.462, 0.3139],[0.3898, -0.7197]], dtype=torch.float64)\n",
    "tensor_2 = torch.zeros_like(tensor_1)"
   ]
  },
  {
   "cell_type": "code",
   "execution_count": 180,
   "id": "ac685c23",
   "metadata": {},
   "outputs": [
    {
     "data": {
      "text/plain": [
       "tensor([[-0.4620,  0.3139],\n",
       "        [ 0.3898, -0.7197]], dtype=torch.float64)"
      ]
     },
     "execution_count": 180,
     "metadata": {},
     "output_type": "execute_result"
    }
   ],
   "source": [
    "tensor_1"
   ]
  },
  {
   "cell_type": "code",
   "execution_count": 179,
   "id": "e50dc10d",
   "metadata": {},
   "outputs": [
    {
     "data": {
      "text/plain": [
       "tensor([[0., 1.],\n",
       "        [1., 0.]])"
      ]
     },
     "execution_count": 179,
     "metadata": {},
     "output_type": "execute_result"
    }
   ],
   "source": [
    "torch.where(tensor_1 > 0, 1.0, 0.0)"
   ]
  },
  {
   "cell_type": "code",
   "execution_count": 182,
   "id": "d44fc88a",
   "metadata": {},
   "outputs": [
    {
     "data": {
      "text/plain": [
       "tensor([[1.0000, 0.3139],\n",
       "        [0.3898, 1.0000]], dtype=torch.float64)"
      ]
     },
     "execution_count": 182,
     "metadata": {},
     "output_type": "execute_result"
    }
   ],
   "source": [
    "torch.where(tensor_1 > 0, tensor_1, 1.0)"
   ]
  },
  {
   "cell_type": "code",
   "execution_count": 183,
   "id": "bde52d98",
   "metadata": {},
   "outputs": [
    {
     "data": {
      "text/plain": [
       "tensor([[0.0000, 0.3139],\n",
       "        [0.3898, 0.0000]], dtype=torch.float64)"
      ]
     },
     "execution_count": 183,
     "metadata": {},
     "output_type": "execute_result"
    }
   ],
   "source": [
    "torch.where(tensor_1 > 0, tensor_1, tensor_2)"
   ]
  },
  {
   "cell_type": "markdown",
   "id": "314f2813",
   "metadata": {},
   "source": [
    "## 变形"
   ]
  },
  {
   "cell_type": "markdown",
   "id": "f5ef3420",
   "metadata": {},
   "source": [
    "### reshape, view\n",
    "torch.reshape(input, shape)   \n",
    "$\\iff$ tensor_1.reshape(shape)  \n",
    "$\\iff$ tensor_1.view(shape)  "
   ]
  },
  {
   "cell_type": "code",
   "execution_count": 56,
   "id": "1e1b99be",
   "metadata": {},
   "outputs": [
    {
     "name": "stdout",
     "output_type": "stream",
     "text": [
      "tensor([ 1,  2,  3,  4,  5,  6,  7,  8,  9, 10, 11, 12, 13, 14, 15, 16, 17, 18,\n",
      "        19, 20, 21, 22, 23, 24])\n"
     ]
    }
   ],
   "source": [
    "tensor_1 = torch.arange(1, 25)\n",
    "print(tensor_1)"
   ]
  },
  {
   "cell_type": "code",
   "execution_count": null,
   "id": "4a818529",
   "metadata": {},
   "outputs": [],
   "source": [
    "\"\"\"\n",
    "torch.reshape(tensor_1, (2, 3, 4))\n",
    "tensor_1.reshape(2, 3, 4)\n",
    "tensor_1.view(2, 3, 4)\n",
    "\"\"\""
   ]
  },
  {
   "cell_type": "code",
   "execution_count": 463,
   "id": "ad2d2d6d",
   "metadata": {},
   "outputs": [
    {
     "data": {
      "text/plain": [
       "tensor([[[ 1,  2,  3,  4],\n",
       "         [ 5,  6,  7,  8],\n",
       "         [ 9, 10, 11, 12]],\n",
       "\n",
       "        [[13, 14, 15, 16],\n",
       "         [17, 18, 19, 20],\n",
       "         [21, 22, 23, 24]]])"
      ]
     },
     "execution_count": 463,
     "metadata": {},
     "output_type": "execute_result"
    }
   ],
   "source": [
    "torch.reshape(tensor_1, (2, 3, 4))"
   ]
  },
  {
   "cell_type": "code",
   "execution_count": 57,
   "id": "f48e6fb8",
   "metadata": {},
   "outputs": [
    {
     "data": {
      "text/plain": [
       "True"
      ]
     },
     "execution_count": 57,
     "metadata": {},
     "output_type": "execute_result"
    }
   ],
   "source": [
    "torch.equal(torch.reshape(tensor_1, (2, 3, 4)),\n",
    "            tensor_1.reshape(2, 3, 4))"
   ]
  },
  {
   "cell_type": "code",
   "execution_count": 58,
   "id": "2097bf64",
   "metadata": {},
   "outputs": [
    {
     "data": {
      "text/plain": [
       "True"
      ]
     },
     "execution_count": 58,
     "metadata": {},
     "output_type": "execute_result"
    }
   ],
   "source": [
    "torch.equal(torch.reshape(tensor_1, (2, 3, 4)),\n",
    "            tensor_1.view(2, 3, 4))"
   ]
  },
  {
   "cell_type": "code",
   "execution_count": 466,
   "id": "e4e89383",
   "metadata": {},
   "outputs": [
    {
     "data": {
      "text/plain": [
       "tensor([[ 1,  2,  3],\n",
       "        [ 4,  5,  6],\n",
       "        [ 7,  8,  9],\n",
       "        [10, 11, 12],\n",
       "        [13, 14, 15],\n",
       "        [16, 17, 18],\n",
       "        [19, 20, 21],\n",
       "        [22, 23, 24]])"
      ]
     },
     "execution_count": 466,
     "metadata": {},
     "output_type": "execute_result"
    }
   ],
   "source": [
    "tensor_1.reshape((8, -1)) # -1 表示24/8"
   ]
  },
  {
   "cell_type": "code",
   "execution_count": 467,
   "id": "d25e2607",
   "metadata": {},
   "outputs": [
    {
     "data": {
      "text/plain": [
       "tensor([[ 1,  2,  3,  4],\n",
       "        [ 5,  6,  7,  8],\n",
       "        [ 9, 10, 11, 12],\n",
       "        [13, 14, 15, 16],\n",
       "        [17, 18, 19, 20],\n",
       "        [21, 22, 23, 24]])"
      ]
     },
     "execution_count": 467,
     "metadata": {},
     "output_type": "execute_result"
    }
   ],
   "source": [
    "tensor_1.reshape((-1, 4)) # -1 表示24/4"
   ]
  },
  {
   "cell_type": "code",
   "execution_count": 468,
   "id": "deb82b4f",
   "metadata": {},
   "outputs": [
    {
     "data": {
      "text/plain": [
       "tensor([[[ 1,  2,  3,  4],\n",
       "         [ 5,  6,  7,  8],\n",
       "         [ 9, 10, 11, 12]],\n",
       "\n",
       "        [[13, 14, 15, 16],\n",
       "         [17, 18, 19, 20],\n",
       "         [21, 22, 23, 24]]])"
      ]
     },
     "execution_count": 468,
     "metadata": {},
     "output_type": "execute_result"
    }
   ],
   "source": [
    "tensor_1.reshape((2, -1, 4)) # -1 表示24/2/4"
   ]
  },
  {
   "cell_type": "code",
   "execution_count": null,
   "id": "6a636a9d",
   "metadata": {},
   "outputs": [],
   "source": [
    "\"\"\"\n",
    "tensor_1.reshape(tensor_1.numel())\n",
    "tensor_1.reshape((tensor_1.numel()))\n",
    "tensor_1.reshape(-1)\n",
    "tensor_1.reshape((-1))\n",
    "\"\"\""
   ]
  },
  {
   "cell_type": "code",
   "execution_count": 66,
   "id": "a2a707f0",
   "metadata": {},
   "outputs": [
    {
     "data": {
      "text/plain": [
       "tensor([ 1,  2,  3,  4,  5,  6,  7,  8,  9, 10, 11, 12, 13, 14, 15, 16, 17, 18,\n",
       "        19, 20, 21, 22, 23, 24])"
      ]
     },
     "execution_count": 66,
     "metadata": {},
     "output_type": "execute_result"
    }
   ],
   "source": [
    "tensor_1.reshape(tensor_1.numel())"
   ]
  },
  {
   "cell_type": "code",
   "execution_count": 67,
   "id": "9d7f6c4f",
   "metadata": {},
   "outputs": [
    {
     "data": {
      "text/plain": [
       "True"
      ]
     },
     "execution_count": 67,
     "metadata": {},
     "output_type": "execute_result"
    }
   ],
   "source": [
    "torch.equal(tensor_1.reshape(tensor_1.numel()),\n",
    "            tensor_1.reshape((tensor_1.numel())))"
   ]
  },
  {
   "cell_type": "code",
   "execution_count": 68,
   "id": "18e55c7c",
   "metadata": {},
   "outputs": [
    {
     "data": {
      "text/plain": [
       "True"
      ]
     },
     "execution_count": 68,
     "metadata": {},
     "output_type": "execute_result"
    }
   ],
   "source": [
    "torch.equal(tensor_1.reshape(tensor_1.numel()),\n",
    "            tensor_1.reshape(-1))"
   ]
  },
  {
   "cell_type": "code",
   "execution_count": 69,
   "id": "6b75c51c",
   "metadata": {},
   "outputs": [
    {
     "data": {
      "text/plain": [
       "True"
      ]
     },
     "execution_count": 69,
     "metadata": {},
     "output_type": "execute_result"
    }
   ],
   "source": [
    "torch.equal(tensor_1.reshape(tensor_1.numel()),\n",
    "            tensor_1.reshape((-1)))"
   ]
  },
  {
   "cell_type": "markdown",
   "id": "7e2aeb67",
   "metadata": {},
   "source": [
    ">**变形虽然生成新的tensor，但是与源Tensor共享数据<br>即改变一个变形中的数值，所有tensor的数值一起发生变化**"
   ]
  },
  {
   "cell_type": "code",
   "execution_count": 72,
   "id": "5de90ebc",
   "metadata": {},
   "outputs": [
    {
     "name": "stdout",
     "output_type": "stream",
     "text": [
      "tensor([ 1,  2,  3,  4,  5,  6,  7,  8,  9, 10, 11, 12, 13, 14, 15, 16, 17, 18,\n",
      "        19, 20, 21, 22, 23, 24]) \n",
      "id = 140268886521792\n"
     ]
    }
   ],
   "source": [
    "tensor_1 = torch.arange(1, 25)\n",
    "print(tensor_1, \"\\nid =\", id(tensor_1))"
   ]
  },
  {
   "cell_type": "code",
   "execution_count": 73,
   "id": "48b2c310",
   "metadata": {},
   "outputs": [
    {
     "name": "stdout",
     "output_type": "stream",
     "text": [
      "tensor([[[ 1,  2,  3,  4],\n",
      "         [ 5,  6,  7,  8],\n",
      "         [ 9, 10, 11, 12]],\n",
      "\n",
      "        [[13, 14, 15, 16],\n",
      "         [17, 18, 19, 20],\n",
      "         [21, 22, 23, 24]]]) \n",
      "id = 140268886572624\n"
     ]
    }
   ],
   "source": [
    "tensor_2 = torch.reshape(tensor_1, (2, 3, 4))\n",
    "print(tensor_2, \"\\nid =\", id(tensor_2))"
   ]
  },
  {
   "cell_type": "code",
   "execution_count": 74,
   "id": "584e69ea",
   "metadata": {},
   "outputs": [
    {
     "name": "stdout",
     "output_type": "stream",
     "text": [
      "tensor([[ 1,  2,  3,  4,  5,  6],\n",
      "        [ 7,  8,  9, 10, 11, 12],\n",
      "        [13, 14, 15, 16, 17, 18],\n",
      "        [19, 20, 21, 22, 23, 24]]) \n",
      "id = 140268891771184\n"
     ]
    }
   ],
   "source": [
    "tensor_3 = tensor_1.view(4, 6) \n",
    "print(tensor_3, \"\\nid =\", id(tensor_3))"
   ]
  },
  {
   "cell_type": "code",
   "execution_count": 75,
   "id": "70ad0956",
   "metadata": {},
   "outputs": [
    {
     "name": "stdout",
     "output_type": "stream",
     "text": [
      "tensor([-11, -10,  -9,  -8,  -7,  -6,  -5,  -4,  -3,  -2,  -1,   0,   1,   2,\n",
      "          3,   4,   5,   6,   7,   8,   9,  10,  11,  12])\n",
      "tensor([[[-11, -10,  -9,  -8],\n",
      "         [ -7,  -6,  -5,  -4],\n",
      "         [ -3,  -2,  -1,   0]],\n",
      "\n",
      "        [[  1,   2,   3,   4],\n",
      "         [  5,   6,   7,   8],\n",
      "         [  9,  10,  11,  12]]])\n",
      "tensor([[-11, -10,  -9,  -8,  -7,  -6],\n",
      "        [ -5,  -4,  -3,  -2,  -1,   0],\n",
      "        [  1,   2,   3,   4,   5,   6],\n",
      "        [  7,   8,   9,  10,  11,  12]])\n"
     ]
    }
   ],
   "source": [
    "tensor_2 -= 12\n",
    "print(tensor_1)\n",
    "print(tensor_2)\n",
    "print(tensor_3)"
   ]
  },
  {
   "cell_type": "markdown",
   "id": "6fe68682",
   "metadata": {},
   "source": [
    ">**如果不想修改源tensor，需要将源tensor深拷贝后再进行变形<br>即深拷贝后再修改变形的数值，则不会影响源tensor数值**"
   ]
  },
  {
   "cell_type": "code",
   "execution_count": 76,
   "id": "6e922765",
   "metadata": {},
   "outputs": [
    {
     "name": "stdout",
     "output_type": "stream",
     "text": [
      "tensor([-11, -10,  -9,  -8,  -7,  -6,  -5,  -4,  -3,  -2,  -1,   0,   1,   2,\n",
      "          3,   4,   5,   6,   7,   8,   9,  10,  11,  12]) \n",
      "id = 140268886521792\n"
     ]
    }
   ],
   "source": [
    "print(tensor_1, \"\\nid =\", id(tensor_1))"
   ]
  },
  {
   "cell_type": "code",
   "execution_count": 77,
   "id": "b69e5e68",
   "metadata": {},
   "outputs": [
    {
     "name": "stdout",
     "output_type": "stream",
     "text": [
      "tensor([[-11, -10,  -9,  -8,  -7,  -6,  -5,  -4],\n",
      "        [ -3,  -2,  -1,   0,   1,   2,   3,   4],\n",
      "        [  5,   6,   7,   8,   9,  10,  11,  12]]) \n",
      "id = 140268897974688\n"
     ]
    }
   ],
   "source": [
    "tensor_4 = tensor_1.clone().view(3, 8)\n",
    "print(tensor_4, \"\\nid =\", id(tensor_4))"
   ]
  },
  {
   "cell_type": "code",
   "execution_count": 78,
   "id": "9834f3ba",
   "metadata": {},
   "outputs": [
    {
     "name": "stdout",
     "output_type": "stream",
     "text": [
      "tensor([-11, -10,  -9,  -8,  -7,  -6,  -5,  -4,  -3,  -2,  -1,   0,   1,   2,\n",
      "          3,   4,   5,   6,   7,   8,   9,  10,  11,  12])\n",
      "tensor([[ 1,  2,  3,  4,  5,  6,  7,  8],\n",
      "        [ 9, 10, 11, 12, 13, 14, 15, 16],\n",
      "        [17, 18, 19, 20, 21, 22, 23, 24]])\n"
     ]
    }
   ],
   "source": [
    "tensor_4 += 12\n",
    "print(tensor_1)\n",
    "print(tensor_4)"
   ]
  },
  {
   "cell_type": "markdown",
   "id": "3286c993",
   "metadata": {},
   "source": [
    "### torch.clone 深拷贝\n",
    "torch.clone(input, *, memory_format=torch.preserve_format)  "
   ]
  },
  {
   "cell_type": "code",
   "execution_count": 79,
   "id": "8bfa58d6",
   "metadata": {},
   "outputs": [
    {
     "name": "stdout",
     "output_type": "stream",
     "text": [
      "tensor([-11, -10,  -9,  -8,  -7,  -6,  -5,  -4,  -3,  -2,  -1,   0,   1,   2,\n",
      "          3,   4,   5,   6,   7,   8,   9,  10,  11,  12]) \n",
      "id = 140268886521792\n",
      "tensor([-11, -10,  -9,  -8,  -7,  -6,  -5,  -4,  -3,  -2,  -1,   0,   1,   2,\n",
      "          3,   4,   5,   6,   7,   8,   9,  10,  11,  12]) \n",
      "id = 140268885109632\n"
     ]
    }
   ],
   "source": [
    "print(tensor_1, \"\\nid =\", id(tensor_1))\n",
    "tensor_2 = torch.clone(tensor_1)\n",
    "print(tensor_2, \"\\nid =\", id(tensor_2))"
   ]
  },
  {
   "cell_type": "markdown",
   "id": "913de5c4",
   "metadata": {},
   "source": [
    "## 降维/升维"
   ]
  },
  {
   "cell_type": "markdown",
   "id": "1151677f",
   "metadata": {},
   "source": [
    "### torch.squeeze\n",
    "torch.squeeze(input, dim=None)  \n",
    "**删除所有size = 1的维度，或者如果指定维度dim的 size = 1, 则将该维度移除, 否则保持不变**"
   ]
  },
  {
   "cell_type": "code",
   "execution_count": 232,
   "id": "75b7ffad",
   "metadata": {},
   "outputs": [],
   "source": [
    "tensor_1 = torch.zeros(2, 1, 3, 1, 2)"
   ]
  },
  {
   "cell_type": "code",
   "execution_count": 233,
   "id": "52c6bf76",
   "metadata": {},
   "outputs": [
    {
     "data": {
      "text/plain": [
       "torch.Size([2, 1, 3, 1, 2])"
      ]
     },
     "execution_count": 233,
     "metadata": {},
     "output_type": "execute_result"
    }
   ],
   "source": [
    "tensor_1.size()"
   ]
  },
  {
   "cell_type": "code",
   "execution_count": 234,
   "id": "86403ff5",
   "metadata": {},
   "outputs": [
    {
     "data": {
      "text/plain": [
       "torch.Size([2, 3, 2])"
      ]
     },
     "execution_count": 234,
     "metadata": {},
     "output_type": "execute_result"
    }
   ],
   "source": [
    "torch.squeeze(tensor_1).size()"
   ]
  },
  {
   "cell_type": "code",
   "execution_count": 235,
   "id": "08dcd8f8",
   "metadata": {},
   "outputs": [
    {
     "data": {
      "text/plain": [
       "torch.Size([2, 1, 3, 1, 2])"
      ]
     },
     "execution_count": 235,
     "metadata": {},
     "output_type": "execute_result"
    }
   ],
   "source": [
    "torch.squeeze(tensor_1, dim=0).size()"
   ]
  },
  {
   "cell_type": "code",
   "execution_count": 236,
   "id": "810df410",
   "metadata": {},
   "outputs": [
    {
     "data": {
      "text/plain": [
       "torch.Size([2, 3, 1, 2])"
      ]
     },
     "execution_count": 236,
     "metadata": {},
     "output_type": "execute_result"
    }
   ],
   "source": [
    "torch.squeeze(tensor_1, dim=1).size()"
   ]
  },
  {
   "cell_type": "markdown",
   "id": "bd16c697",
   "metadata": {},
   "source": [
    "### torch.unsqueeze\n",
    "torch.unsqueeze(input, dim)   \n",
    "**在指定位置插入大小为1的维度**  \n",
    "A dim value within the range $[-input.dim() - 1, input.dim() + 1)$ can be used. Negative dim will correspond to unsqueeze() applied at dim = dim + input.dim() + 1."
   ]
  },
  {
   "cell_type": "code",
   "execution_count": 242,
   "id": "e894f6e0",
   "metadata": {},
   "outputs": [
    {
     "name": "stdout",
     "output_type": "stream",
     "text": [
      "dim = -6 : torch.Size([1, 2, 1, 3, 1, 2])\n",
      "dim = -5 : torch.Size([2, 1, 1, 3, 1, 2])\n",
      "dim = -4 : torch.Size([2, 1, 1, 3, 1, 2])\n",
      "dim = -3 : torch.Size([2, 1, 3, 1, 1, 2])\n",
      "dim = -2 : torch.Size([2, 1, 3, 1, 1, 2])\n",
      "dim = -1 : torch.Size([2, 1, 3, 1, 2, 1])\n",
      "dim = 0 : torch.Size([1, 2, 1, 3, 1, 2])\n",
      "dim = 1 : torch.Size([2, 1, 1, 3, 1, 2])\n",
      "dim = 2 : torch.Size([2, 1, 1, 3, 1, 2])\n",
      "dim = 3 : torch.Size([2, 1, 3, 1, 1, 2])\n",
      "dim = 4 : torch.Size([2, 1, 3, 1, 1, 2])\n",
      "dim = 5 : torch.Size([2, 1, 3, 1, 2, 1])\n"
     ]
    }
   ],
   "source": [
    "for index in range(-tensor_1.dim()-1, tensor_1.dim()+1):\n",
    "    print(\"dim =\",index, \":\", torch.unsqueeze(tensor_1, dim=index).size() )"
   ]
  },
  {
   "cell_type": "markdown",
   "id": "98d10a8c",
   "metadata": {},
   "source": [
    "## 变形/转置 \n",
    "### transpose, swapaxes, swapdims\n",
    "1. torch.transpose(input, dim0, dim1)\n",
    "2. torch.swapaxes(input, dim0, dim1)\n",
    "3. torch.swapdims(input, dim0, dim1)  \n",
    "**dim0 与 dim1 维度交换**"
   ]
  },
  {
   "cell_type": "code",
   "execution_count": 271,
   "id": "5cfd2eea",
   "metadata": {},
   "outputs": [],
   "source": [
    "tensor_1 = torch.arange(1, 121).reshape(2, 3, 4, 5)"
   ]
  },
  {
   "cell_type": "code",
   "execution_count": null,
   "id": "20980fa1",
   "metadata": {},
   "outputs": [],
   "source": [
    "\"\"\"\n",
    "torch.transpose(tensor_1, dim0=0, dim1=2)\n",
    "torch.transpose(tensor_1, dim0=2, dim1=0)\n",
    "torch.swapaxes(tensor_1, axis0=0, axis1=2)\n",
    "torch.swapdims(tensor_1, dim0=0, dim1=2)\n",
    "\"\"\""
   ]
  },
  {
   "cell_type": "code",
   "execution_count": 272,
   "id": "dd5aa745",
   "metadata": {},
   "outputs": [
    {
     "data": {
      "text/plain": [
       "torch.Size([4, 3, 2, 5])"
      ]
     },
     "execution_count": 272,
     "metadata": {},
     "output_type": "execute_result"
    }
   ],
   "source": [
    "torch.transpose(tensor_1, dim0=0, dim1=2).size()"
   ]
  },
  {
   "cell_type": "code",
   "execution_count": 273,
   "id": "a8b9570e",
   "metadata": {},
   "outputs": [
    {
     "data": {
      "text/plain": [
       "True"
      ]
     },
     "execution_count": 273,
     "metadata": {},
     "output_type": "execute_result"
    }
   ],
   "source": [
    "torch.equal(torch.transpose(tensor_1, dim0=0, dim1=2),\n",
    "            torch.transpose(tensor_1, dim0=2, dim1=0))"
   ]
  },
  {
   "cell_type": "code",
   "execution_count": 274,
   "id": "cd82bde8",
   "metadata": {},
   "outputs": [
    {
     "data": {
      "text/plain": [
       "True"
      ]
     },
     "execution_count": 274,
     "metadata": {},
     "output_type": "execute_result"
    }
   ],
   "source": [
    "torch.equal(torch.transpose(tensor_1, dim0=0, dim1=2),\n",
    "            torch.swapaxes(tensor_1, axis0=0, axis1=2))"
   ]
  },
  {
   "cell_type": "code",
   "execution_count": 275,
   "id": "1acb2875",
   "metadata": {},
   "outputs": [
    {
     "data": {
      "text/plain": [
       "True"
      ]
     },
     "execution_count": 275,
     "metadata": {},
     "output_type": "execute_result"
    }
   ],
   "source": [
    "torch.equal(torch.transpose(tensor_1, dim0=0, dim1=2),\n",
    "            torch.swapdims(tensor_1, dim0=0, dim1=2))"
   ]
  },
  {
   "cell_type": "markdown",
   "id": "339459bc",
   "metadata": {},
   "source": [
    "### movedim, moveaxis\n",
    "1. torch.movedim(input, source, destination)\n",
    "2. torch.moveaxis(input, source, destination)  \n",
    "**move source-th dim to destination-th dim**"
   ]
  },
  {
   "cell_type": "code",
   "execution_count": null,
   "id": "7af60ba0",
   "metadata": {},
   "outputs": [],
   "source": [
    "\"\"\"\n",
    "torch.movedim(tensor_1, 0, 2)\n",
    "torch.moveaxis(tensor_1, 0, 2)\n",
    "\"\"\""
   ]
  },
  {
   "cell_type": "code",
   "execution_count": 277,
   "id": "54bad4bd",
   "metadata": {},
   "outputs": [
    {
     "data": {
      "text/plain": [
       "torch.Size([3, 4, 2, 5])"
      ]
     },
     "execution_count": 277,
     "metadata": {},
     "output_type": "execute_result"
    }
   ],
   "source": [
    "torch.movedim(tensor_1, 0, 2).size()"
   ]
  },
  {
   "cell_type": "code",
   "execution_count": 279,
   "id": "46f36443",
   "metadata": {},
   "outputs": [
    {
     "data": {
      "text/plain": [
       "True"
      ]
     },
     "execution_count": 279,
     "metadata": {},
     "output_type": "execute_result"
    }
   ],
   "source": [
    "torch.equal(torch.movedim(tensor_1, 0, 2),\n",
    "            torch.moveaxis(tensor_1, 0, 2))"
   ]
  },
  {
   "cell_type": "code",
   "execution_count": 278,
   "id": "fd6e4dc5",
   "metadata": {},
   "outputs": [
    {
     "data": {
      "text/plain": [
       "False"
      ]
     },
     "execution_count": 278,
     "metadata": {},
     "output_type": "execute_result"
    }
   ],
   "source": [
    "torch.equal(torch.transpose(tensor_1, dim0=0, dim1=2),\n",
    "            torch.movedim(tensor_1, 0, 2))"
   ]
  },
  {
   "cell_type": "code",
   "execution_count": 45,
   "id": "a6c85c2d",
   "metadata": {
    "scrolled": true
   },
   "outputs": [
    {
     "data": {
      "text/plain": [
       "torch.Size([3, 2, 5, 4])"
      ]
     },
     "execution_count": 45,
     "metadata": {},
     "output_type": "execute_result"
    }
   ],
   "source": [
    "torch.movedim(tensor_1, (1, 2), (0, 3)).size()"
   ]
  },
  {
   "cell_type": "markdown",
   "id": "ae002c37",
   "metadata": {},
   "source": [
    "### torch.t\n",
    "torch.t(input)  \n",
    "1. 0-D and 1-D tensors are returned as is. \n",
    "2. When input is a 2-D tensor this is equivalent to transpose(input, 0, 1)."
   ]
  },
  {
   "cell_type": "markdown",
   "id": "e5c40d5b",
   "metadata": {},
   "source": [
    "* 一维"
   ]
  },
  {
   "cell_type": "code",
   "execution_count": 97,
   "id": "62fcd054",
   "metadata": {},
   "outputs": [
    {
     "data": {
      "text/plain": [
       "tensor([1, 2, 3])"
      ]
     },
     "execution_count": 97,
     "metadata": {},
     "output_type": "execute_result"
    }
   ],
   "source": [
    "torch.t(torch.tensor([1,2,3]))"
   ]
  },
  {
   "cell_type": "markdown",
   "id": "938ea1bf",
   "metadata": {},
   "source": [
    "* 二维"
   ]
  },
  {
   "cell_type": "code",
   "execution_count": null,
   "id": "973585c7",
   "metadata": {},
   "outputs": [],
   "source": [
    "\"\"\"\n",
    "torch.t(torch.tensor([[1,2,3],[4,5,6]]))\n",
    "torch.tensor([[1,2,3],[4,5,6]]).T\n",
    "torch.transpose(torch.tensor([[1,2,3],[4,5,6]]), 0, 1)\n",
    "\"\"\""
   ]
  },
  {
   "cell_type": "code",
   "execution_count": 98,
   "id": "63d0c91e",
   "metadata": {},
   "outputs": [
    {
     "data": {
      "text/plain": [
       "tensor([[1, 4],\n",
       "        [2, 5],\n",
       "        [3, 6]])"
      ]
     },
     "execution_count": 98,
     "metadata": {},
     "output_type": "execute_result"
    }
   ],
   "source": [
    "torch.t(torch.tensor([[1,2,3],[4,5,6]]))"
   ]
  },
  {
   "cell_type": "code",
   "execution_count": 103,
   "id": "5d59b22c",
   "metadata": {},
   "outputs": [
    {
     "data": {
      "text/plain": [
       "True"
      ]
     },
     "execution_count": 103,
     "metadata": {},
     "output_type": "execute_result"
    }
   ],
   "source": [
    "torch.equal(torch.t(torch.tensor([[1,2,3],[4,5,6]])),\n",
    "            torch.tensor([[1,2,3],[4,5,6]]).T)"
   ]
  },
  {
   "cell_type": "code",
   "execution_count": 100,
   "id": "62be122e",
   "metadata": {},
   "outputs": [
    {
     "data": {
      "text/plain": [
       "True"
      ]
     },
     "execution_count": 100,
     "metadata": {},
     "output_type": "execute_result"
    }
   ],
   "source": [
    "torch.equal(torch.t(torch.tensor([[1,2,3],[4,5,6]])),\n",
    "            torch.transpose(torch.tensor([[1,2,3],[4,5,6]]), 0, 1))"
   ]
  },
  {
   "cell_type": "markdown",
   "id": "cfe6cf22",
   "metadata": {},
   "source": [
    "## 拼接"
   ]
  },
  {
   "cell_type": "code",
   "execution_count": 80,
   "id": "01be7abc",
   "metadata": {},
   "outputs": [],
   "source": [
    "tensor_1 = torch.arange(1, 4)\n",
    "tensor_2 = torch.arange(4, 7)\n",
    "tensor_3 = torch.arange(1, 7).reshape(2, 3)\n",
    "tensor_4 = torch.arange(7, 13).reshape(2, 3)"
   ]
  },
  {
   "cell_type": "markdown",
   "id": "d30415bf",
   "metadata": {},
   "source": [
    "### 水平拼接 cat, hstack, column_stack\n",
    "1. torch.cat(tensors, dim=0, \\*, out=None)  \n",
    "2. torch.hstack(tensors, \\*, out=None) 二维或多维张量沿着dim=1拼接，一维张量沿着dim=0拼接  \n",
    "3. torch.column_stack(tensors, \\*, out=None) 二维或多维张量沿着dim=1拼接，一维张量转置成列向量，再沿着dim=1拼接  "
   ]
  },
  {
   "cell_type": "markdown",
   "id": "231a2474",
   "metadata": {},
   "source": [
    "* 一维"
   ]
  },
  {
   "cell_type": "code",
   "execution_count": 81,
   "id": "90830e1c",
   "metadata": {},
   "outputs": [
    {
     "name": "stdout",
     "output_type": "stream",
     "text": [
      "tensor([1, 2, 3])\n",
      "tensor([4, 5, 6])\n"
     ]
    }
   ],
   "source": [
    "print(tensor_1)\n",
    "print(tensor_2)"
   ]
  },
  {
   "cell_type": "code",
   "execution_count": null,
   "id": "b4884bae",
   "metadata": {},
   "outputs": [],
   "source": [
    "\"\"\"\n",
    "torch.cat((tensor_1, tensor_2), dim=0)\n",
    "torch.hstack((tensor_1, tensor_2))\n",
    "\"\"\""
   ]
  },
  {
   "cell_type": "code",
   "execution_count": 398,
   "id": "95549809",
   "metadata": {},
   "outputs": [
    {
     "data": {
      "text/plain": [
       "tensor([1, 2, 3, 4, 5, 6])"
      ]
     },
     "execution_count": 398,
     "metadata": {},
     "output_type": "execute_result"
    }
   ],
   "source": [
    "torch.cat((tensor_1, tensor_2), dim=0)"
   ]
  },
  {
   "cell_type": "code",
   "execution_count": 83,
   "id": "19265926",
   "metadata": {},
   "outputs": [
    {
     "data": {
      "text/plain": [
       "True"
      ]
     },
     "execution_count": 83,
     "metadata": {},
     "output_type": "execute_result"
    }
   ],
   "source": [
    "torch.equal(torch.cat((tensor_1, tensor_2), dim=0),\n",
    "            torch.hstack((tensor_1, tensor_2)))"
   ]
  },
  {
   "cell_type": "code",
   "execution_count": null,
   "id": "bf47f813",
   "metadata": {},
   "outputs": [],
   "source": [
    "\"\"\"\n",
    "torch.column_stack((tensor_1, tensor_2))\n",
    "torch.cat((tensor_1.reshape(tensor_1.numel(),1), tensor_2.reshape(tensor_2.numel(),1)), dim=1)\n",
    "torch.stack((tensor_1, tensor_2), dim=1)\n",
    "\"\"\""
   ]
  },
  {
   "cell_type": "code",
   "execution_count": 400,
   "id": "d35da9c0",
   "metadata": {},
   "outputs": [
    {
     "data": {
      "text/plain": [
       "tensor([[1, 4],\n",
       "        [2, 5],\n",
       "        [3, 6]])"
      ]
     },
     "execution_count": 400,
     "metadata": {},
     "output_type": "execute_result"
    }
   ],
   "source": [
    "torch.column_stack((tensor_1, tensor_2))"
   ]
  },
  {
   "cell_type": "code",
   "execution_count": 86,
   "id": "7453c6dc",
   "metadata": {},
   "outputs": [
    {
     "data": {
      "text/plain": [
       "True"
      ]
     },
     "execution_count": 86,
     "metadata": {},
     "output_type": "execute_result"
    }
   ],
   "source": [
    "torch.equal(torch.column_stack((tensor_1, tensor_2)),\n",
    "            torch.cat((tensor_1.reshape(tensor_1.numel(),1), tensor_2.reshape(tensor_2.numel(),1)), dim=1))"
   ]
  },
  {
   "cell_type": "code",
   "execution_count": 85,
   "id": "ab370b4f",
   "metadata": {},
   "outputs": [
    {
     "data": {
      "text/plain": [
       "True"
      ]
     },
     "execution_count": 85,
     "metadata": {},
     "output_type": "execute_result"
    }
   ],
   "source": [
    "torch.equal(torch.column_stack((tensor_1, tensor_2)),\n",
    "            torch.stack((tensor_1, tensor_2), dim=1))"
   ]
  },
  {
   "cell_type": "markdown",
   "id": "b40cea31",
   "metadata": {},
   "source": [
    "* 二维"
   ]
  },
  {
   "cell_type": "code",
   "execution_count": 403,
   "id": "8f45f696",
   "metadata": {},
   "outputs": [
    {
     "name": "stdout",
     "output_type": "stream",
     "text": [
      "tensor([[1, 2, 3],\n",
      "        [4, 5, 6]])\n",
      "tensor([[ 7,  8,  9],\n",
      "        [10, 11, 12]])\n"
     ]
    }
   ],
   "source": [
    "print(tensor_3)\n",
    "print(tensor_4)"
   ]
  },
  {
   "cell_type": "code",
   "execution_count": null,
   "id": "42ef21a1",
   "metadata": {},
   "outputs": [],
   "source": [
    "\"\"\"\n",
    "torch.cat((tensor_3, tensor_4), dim=1)\n",
    "torch.hstack((tensor_3, tensor_4))\n",
    "torch.column_stack((tensor_3, tensor_4))\n",
    "\"\"\""
   ]
  },
  {
   "cell_type": "code",
   "execution_count": 404,
   "id": "0cc8f586",
   "metadata": {},
   "outputs": [
    {
     "data": {
      "text/plain": [
       "tensor([[ 1,  2,  3,  7,  8,  9],\n",
       "        [ 4,  5,  6, 10, 11, 12]])"
      ]
     },
     "execution_count": 404,
     "metadata": {},
     "output_type": "execute_result"
    }
   ],
   "source": [
    "torch.cat((tensor_3, tensor_4), dim=1)"
   ]
  },
  {
   "cell_type": "code",
   "execution_count": 87,
   "id": "729ed042",
   "metadata": {},
   "outputs": [
    {
     "data": {
      "text/plain": [
       "True"
      ]
     },
     "execution_count": 87,
     "metadata": {},
     "output_type": "execute_result"
    }
   ],
   "source": [
    "torch.equal(torch.cat((tensor_3, tensor_4), dim=1),\n",
    "            torch.hstack((tensor_3, tensor_4)))"
   ]
  },
  {
   "cell_type": "code",
   "execution_count": 88,
   "id": "d0e20975",
   "metadata": {},
   "outputs": [
    {
     "data": {
      "text/plain": [
       "True"
      ]
     },
     "execution_count": 88,
     "metadata": {},
     "output_type": "execute_result"
    }
   ],
   "source": [
    "torch.equal(torch.cat((tensor_3, tensor_4), dim=1),\n",
    "            torch.column_stack((tensor_3, tensor_4)))"
   ]
  },
  {
   "cell_type": "markdown",
   "id": "bb6a1100",
   "metadata": {},
   "source": [
    "### 垂直拼接 cat, vstack, row_stack\n",
    "1. torch.cat(tensors, dim=0, \\*, out=None)  \n",
    "2. torch.vstack(tensors, \\*, out=None) $\\iff$ torch.row_stack(tensors, *, out=None)"
   ]
  },
  {
   "cell_type": "markdown",
   "id": "695c9da0",
   "metadata": {},
   "source": [
    "* 一维"
   ]
  },
  {
   "cell_type": "code",
   "execution_count": 92,
   "id": "51d0f20b",
   "metadata": {},
   "outputs": [
    {
     "name": "stdout",
     "output_type": "stream",
     "text": [
      "tensor([1, 2, 3])\n",
      "tensor([4, 5, 6])\n"
     ]
    }
   ],
   "source": [
    "print(tensor_1)\n",
    "print(tensor_2)"
   ]
  },
  {
   "cell_type": "code",
   "execution_count": null,
   "id": "3e2e49d7",
   "metadata": {},
   "outputs": [],
   "source": [
    "\"\"\"\n",
    "torch.vstack((tensor_1, tensor_2))\n",
    "torch.row_stack((tensor_1, tensor_2))\n",
    "torch.stack((tensor_1, tensor_2), dim=0)\n",
    "\"\"\""
   ]
  },
  {
   "cell_type": "code",
   "execution_count": 93,
   "id": "7d7ebb25",
   "metadata": {},
   "outputs": [
    {
     "data": {
      "text/plain": [
       "tensor([[1, 2, 3],\n",
       "        [4, 5, 6]])"
      ]
     },
     "execution_count": 93,
     "metadata": {},
     "output_type": "execute_result"
    }
   ],
   "source": [
    "torch.vstack((tensor_1, tensor_2))"
   ]
  },
  {
   "cell_type": "code",
   "execution_count": 94,
   "id": "4aeb18b8",
   "metadata": {},
   "outputs": [
    {
     "data": {
      "text/plain": [
       "True"
      ]
     },
     "execution_count": 94,
     "metadata": {},
     "output_type": "execute_result"
    }
   ],
   "source": [
    "torch.equal(torch.vstack((tensor_1, tensor_2)),\n",
    "            torch.row_stack((tensor_1, tensor_2)))"
   ]
  },
  {
   "cell_type": "code",
   "execution_count": 95,
   "id": "c2cc9508",
   "metadata": {},
   "outputs": [
    {
     "data": {
      "text/plain": [
       "True"
      ]
     },
     "execution_count": 95,
     "metadata": {},
     "output_type": "execute_result"
    }
   ],
   "source": [
    "torch.equal(torch.vstack((tensor_1, tensor_2)),\n",
    "            torch.stack((tensor_1, tensor_2), dim=0))"
   ]
  },
  {
   "cell_type": "markdown",
   "id": "6beed4cd",
   "metadata": {},
   "source": [
    "* 二维"
   ]
  },
  {
   "cell_type": "code",
   "execution_count": 411,
   "id": "b1f93bab",
   "metadata": {},
   "outputs": [
    {
     "name": "stdout",
     "output_type": "stream",
     "text": [
      "tensor([[1, 2, 3],\n",
      "        [4, 5, 6]])\n",
      "tensor([[ 7,  8,  9],\n",
      "        [10, 11, 12]])\n"
     ]
    }
   ],
   "source": [
    "print(tensor_3)\n",
    "print(tensor_4)"
   ]
  },
  {
   "cell_type": "code",
   "execution_count": null,
   "id": "42323546",
   "metadata": {},
   "outputs": [],
   "source": [
    "\"\"\"\n",
    "torch.cat((tensor_3, tensor_4), dim=0)\n",
    "torch.vstack((tensor_3, tensor_4))\n",
    "torch.row_stack((tensor_3, tensor_4))\n",
    "\"\"\""
   ]
  },
  {
   "cell_type": "code",
   "execution_count": 96,
   "id": "e10eb8b1",
   "metadata": {},
   "outputs": [
    {
     "data": {
      "text/plain": [
       "tensor([[ 1,  2,  3],\n",
       "        [ 4,  5,  6],\n",
       "        [ 7,  8,  9],\n",
       "        [10, 11, 12]])"
      ]
     },
     "execution_count": 96,
     "metadata": {},
     "output_type": "execute_result"
    }
   ],
   "source": [
    "torch.cat((tensor_3, tensor_4), dim=0)"
   ]
  },
  {
   "cell_type": "code",
   "execution_count": 97,
   "id": "8c12117f",
   "metadata": {},
   "outputs": [
    {
     "data": {
      "text/plain": [
       "True"
      ]
     },
     "execution_count": 97,
     "metadata": {},
     "output_type": "execute_result"
    }
   ],
   "source": [
    "torch.equal(torch.cat((tensor_3, tensor_4), dim=0),\n",
    "            torch.vstack((tensor_3, tensor_4)))"
   ]
  },
  {
   "cell_type": "code",
   "execution_count": 98,
   "id": "228c6143",
   "metadata": {},
   "outputs": [
    {
     "data": {
      "text/plain": [
       "True"
      ]
     },
     "execution_count": 98,
     "metadata": {},
     "output_type": "execute_result"
    }
   ],
   "source": [
    "torch.equal(torch.cat((tensor_3, tensor_4), dim=0),\n",
    "            torch.row_stack((tensor_3, tensor_4)))"
   ]
  },
  {
   "cell_type": "markdown",
   "id": "3751ed5e",
   "metadata": {},
   "source": [
    "### 扩维拼接 stack, dstack\n",
    "1. torch.cat(tensors, dim=0, \\*, out=None) 沿着指定维度拼接，不增加维度\n",
    "2. torch.stack(tensors, dim=0, \\*, out=None) 先增加指定维度，再沿着新的维度拼接\n",
    "3. torch.dstack(tensors, \\*, out=None) 沿第三维(dim=2)拼接"
   ]
  },
  {
   "cell_type": "markdown",
   "id": "028eda2e",
   "metadata": {},
   "source": [
    "* 一维"
   ]
  },
  {
   "cell_type": "code",
   "execution_count": 99,
   "id": "ac618fae",
   "metadata": {},
   "outputs": [
    {
     "name": "stdout",
     "output_type": "stream",
     "text": [
      "tensor([1, 2, 3])\n",
      "tensor([4, 5, 6])\n"
     ]
    }
   ],
   "source": [
    "print(tensor_1)\n",
    "print(tensor_2)"
   ]
  },
  {
   "cell_type": "code",
   "execution_count": 100,
   "id": "13cd7769",
   "metadata": {},
   "outputs": [
    {
     "data": {
      "text/plain": [
       "tensor([[1, 2, 3],\n",
       "        [4, 5, 6]])"
      ]
     },
     "execution_count": 100,
     "metadata": {},
     "output_type": "execute_result"
    }
   ],
   "source": [
    "torch.stack((tensor_1, tensor_2), dim=0)"
   ]
  },
  {
   "cell_type": "code",
   "execution_count": 101,
   "id": "a158d6e6",
   "metadata": {},
   "outputs": [
    {
     "data": {
      "text/plain": [
       "tensor([[1, 4],\n",
       "        [2, 5],\n",
       "        [3, 6]])"
      ]
     },
     "execution_count": 101,
     "metadata": {},
     "output_type": "execute_result"
    }
   ],
   "source": [
    "torch.stack((tensor_1, tensor_2), dim=1)"
   ]
  },
  {
   "cell_type": "code",
   "execution_count": 102,
   "id": "3b84a79c",
   "metadata": {},
   "outputs": [
    {
     "data": {
      "text/plain": [
       "tensor([[[1, 4],\n",
       "         [2, 5],\n",
       "         [3, 6]]])"
      ]
     },
     "execution_count": 102,
     "metadata": {},
     "output_type": "execute_result"
    }
   ],
   "source": [
    "torch.dstack((tensor_1, tensor_2))"
   ]
  },
  {
   "cell_type": "code",
   "execution_count": 103,
   "id": "7f8161d8",
   "metadata": {},
   "outputs": [
    {
     "data": {
      "text/plain": [
       "False"
      ]
     },
     "execution_count": 103,
     "metadata": {},
     "output_type": "execute_result"
    }
   ],
   "source": [
    "torch.equal(torch.stack((tensor_1, tensor_2), dim=1),\n",
    "            torch.dstack((tensor_1, tensor_2)))"
   ]
  },
  {
   "cell_type": "markdown",
   "id": "345914f0",
   "metadata": {},
   "source": [
    "* 二维"
   ]
  },
  {
   "cell_type": "code",
   "execution_count": 419,
   "id": "73e6cf74",
   "metadata": {},
   "outputs": [
    {
     "name": "stdout",
     "output_type": "stream",
     "text": [
      "tensor([[1, 2, 3],\n",
      "        [4, 5, 6]])\n",
      "tensor([[ 7,  8,  9],\n",
      "        [10, 11, 12]])\n"
     ]
    }
   ],
   "source": [
    "print(tensor_3)\n",
    "print(tensor_4)"
   ]
  },
  {
   "cell_type": "code",
   "execution_count": 420,
   "id": "9345e81e",
   "metadata": {},
   "outputs": [
    {
     "data": {
      "text/plain": [
       "tensor([[[ 1,  2,  3],\n",
       "         [ 4,  5,  6]],\n",
       "\n",
       "        [[ 7,  8,  9],\n",
       "         [10, 11, 12]]])"
      ]
     },
     "execution_count": 420,
     "metadata": {},
     "output_type": "execute_result"
    }
   ],
   "source": [
    "torch.stack((tensor_3, tensor_4), dim=0)"
   ]
  },
  {
   "cell_type": "code",
   "execution_count": 421,
   "id": "c67588b7",
   "metadata": {},
   "outputs": [
    {
     "data": {
      "text/plain": [
       "tensor([[[ 1,  2,  3],\n",
       "         [ 7,  8,  9]],\n",
       "\n",
       "        [[ 4,  5,  6],\n",
       "         [10, 11, 12]]])"
      ]
     },
     "execution_count": 421,
     "metadata": {},
     "output_type": "execute_result"
    }
   ],
   "source": [
    "torch.stack((tensor_3, tensor_4), dim=1)"
   ]
  },
  {
   "cell_type": "code",
   "execution_count": 104,
   "id": "1093d71d",
   "metadata": {},
   "outputs": [
    {
     "data": {
      "text/plain": [
       "tensor([[[ 1,  7],\n",
       "         [ 2,  8],\n",
       "         [ 3,  9]],\n",
       "\n",
       "        [[ 4, 10],\n",
       "         [ 5, 11],\n",
       "         [ 6, 12]]])"
      ]
     },
     "execution_count": 104,
     "metadata": {},
     "output_type": "execute_result"
    }
   ],
   "source": [
    "torch.stack((tensor_3, tensor_4), dim=2)"
   ]
  },
  {
   "cell_type": "code",
   "execution_count": 105,
   "id": "ed43039e",
   "metadata": {},
   "outputs": [
    {
     "data": {
      "text/plain": [
       "tensor([[[ 1,  7],\n",
       "         [ 2,  8],\n",
       "         [ 3,  9]],\n",
       "\n",
       "        [[ 4, 10],\n",
       "         [ 5, 11],\n",
       "         [ 6, 12]]])"
      ]
     },
     "execution_count": 105,
     "metadata": {},
     "output_type": "execute_result"
    }
   ],
   "source": [
    "torch.dstack((tensor_3, tensor_4))"
   ]
  },
  {
   "cell_type": "code",
   "execution_count": 106,
   "id": "6d6a2fac",
   "metadata": {},
   "outputs": [
    {
     "data": {
      "text/plain": [
       "True"
      ]
     },
     "execution_count": 106,
     "metadata": {},
     "output_type": "execute_result"
    }
   ],
   "source": [
    "torch.equal(torch.stack((tensor_3, tensor_4), dim=2),\n",
    "            torch.dstack((tensor_3, tensor_4)))"
   ]
  },
  {
   "cell_type": "markdown",
   "id": "daa3085c",
   "metadata": {},
   "source": [
    "### torch.tile(input, dims) 维度复制\n",
    "通过复制输入元素来构造张量。dims指定每个维度中的重复次数。"
   ]
  },
  {
   "cell_type": "markdown",
   "id": "660f3f53",
   "metadata": {},
   "source": [
    "* 一维"
   ]
  },
  {
   "cell_type": "code",
   "execution_count": 424,
   "id": "355c6e64",
   "metadata": {},
   "outputs": [
    {
     "name": "stdout",
     "output_type": "stream",
     "text": [
      "tensor([1, 2, 3])\n"
     ]
    }
   ],
   "source": [
    "print(tensor_1)"
   ]
  },
  {
   "cell_type": "code",
   "execution_count": 425,
   "id": "fcda4a28",
   "metadata": {},
   "outputs": [
    {
     "data": {
      "text/plain": [
       "tensor([1, 2, 3, 1, 2, 3])"
      ]
     },
     "execution_count": 425,
     "metadata": {},
     "output_type": "execute_result"
    }
   ],
   "source": [
    "torch.tile(tensor_1, (2,))"
   ]
  },
  {
   "cell_type": "code",
   "execution_count": 426,
   "id": "af3f1ae5",
   "metadata": {},
   "outputs": [
    {
     "data": {
      "text/plain": [
       "tensor([[1, 2, 3],\n",
       "        [1, 2, 3]])"
      ]
     },
     "execution_count": 426,
     "metadata": {},
     "output_type": "execute_result"
    }
   ],
   "source": [
    "torch.tile(tensor_1, (2, 1))"
   ]
  },
  {
   "cell_type": "code",
   "execution_count": 427,
   "id": "71937c95",
   "metadata": {},
   "outputs": [
    {
     "data": {
      "text/plain": [
       "tensor([[1, 2, 3, 1, 2, 3]])"
      ]
     },
     "execution_count": 427,
     "metadata": {},
     "output_type": "execute_result"
    }
   ],
   "source": [
    "torch.tile(tensor_1, (1, 2))"
   ]
  },
  {
   "cell_type": "code",
   "execution_count": 107,
   "id": "7cdf68c8",
   "metadata": {},
   "outputs": [
    {
     "data": {
      "text/plain": [
       "False"
      ]
     },
     "execution_count": 107,
     "metadata": {},
     "output_type": "execute_result"
    }
   ],
   "source": [
    "torch.equal(torch.tile(tensor_1, (2,)),\n",
    "            torch.tile(tensor_1, (1, 2)))"
   ]
  },
  {
   "cell_type": "code",
   "execution_count": 428,
   "id": "b8f8022e",
   "metadata": {},
   "outputs": [
    {
     "data": {
      "text/plain": [
       "tensor([[1, 2, 3, 1, 2, 3],\n",
       "        [1, 2, 3, 1, 2, 3]])"
      ]
     },
     "execution_count": 428,
     "metadata": {},
     "output_type": "execute_result"
    }
   ],
   "source": [
    "torch.tile(tensor_1, (2, 2))"
   ]
  },
  {
   "cell_type": "markdown",
   "id": "7dfcccfd",
   "metadata": {},
   "source": [
    "* 二维"
   ]
  },
  {
   "cell_type": "code",
   "execution_count": 108,
   "id": "ac8625c3",
   "metadata": {},
   "outputs": [
    {
     "data": {
      "text/plain": [
       "tensor([[1, 2, 3],\n",
       "        [4, 5, 6]])"
      ]
     },
     "execution_count": 108,
     "metadata": {},
     "output_type": "execute_result"
    }
   ],
   "source": [
    "torch.tile(tensor_3, (1, 1))"
   ]
  },
  {
   "cell_type": "code",
   "execution_count": null,
   "id": "f43e9798",
   "metadata": {},
   "outputs": [],
   "source": [
    "\"\"\"\n",
    "torch.tile(tensor_3, (2, 1))\n",
    "torch.vstack((tensor_3, tensor_3))\n",
    "tensor_3.tile((2, 1))\n",
    "\"\"\""
   ]
  },
  {
   "cell_type": "code",
   "execution_count": 109,
   "id": "244297a2",
   "metadata": {},
   "outputs": [
    {
     "data": {
      "text/plain": [
       "tensor([[1, 2, 3],\n",
       "        [4, 5, 6],\n",
       "        [1, 2, 3],\n",
       "        [4, 5, 6]])"
      ]
     },
     "execution_count": 109,
     "metadata": {},
     "output_type": "execute_result"
    }
   ],
   "source": [
    "torch.tile(tensor_3, (2, 1))"
   ]
  },
  {
   "cell_type": "code",
   "execution_count": 110,
   "id": "780ea36f",
   "metadata": {},
   "outputs": [
    {
     "data": {
      "text/plain": [
       "True"
      ]
     },
     "execution_count": 110,
     "metadata": {},
     "output_type": "execute_result"
    }
   ],
   "source": [
    "torch.equal(torch.tile(tensor_3, (2, 1)),\n",
    "            torch.vstack((tensor_3, tensor_3)))"
   ]
  },
  {
   "cell_type": "code",
   "execution_count": 111,
   "id": "ea4a648f",
   "metadata": {},
   "outputs": [
    {
     "data": {
      "text/plain": [
       "True"
      ]
     },
     "execution_count": 111,
     "metadata": {},
     "output_type": "execute_result"
    }
   ],
   "source": [
    "torch.equal(torch.tile(tensor_3, (2, 1)),\n",
    "            tensor_3.tile((2, 1)))"
   ]
  },
  {
   "cell_type": "code",
   "execution_count": null,
   "id": "656e3d04",
   "metadata": {},
   "outputs": [],
   "source": [
    "\"\"\"\n",
    "torch.tile(tensor_3, (1, 2))\n",
    "torch.tile(tensor_3, (2,))\n",
    "torch.hstack((tensor_3, tensor_3))\n",
    "\"\"\""
   ]
  },
  {
   "cell_type": "code",
   "execution_count": 112,
   "id": "be2f204e",
   "metadata": {},
   "outputs": [
    {
     "data": {
      "text/plain": [
       "tensor([[1, 2, 3, 1, 2, 3],\n",
       "        [4, 5, 6, 4, 5, 6]])"
      ]
     },
     "execution_count": 112,
     "metadata": {},
     "output_type": "execute_result"
    }
   ],
   "source": [
    "torch.tile(tensor_3, (1, 2))"
   ]
  },
  {
   "cell_type": "code",
   "execution_count": 113,
   "id": "399df4ef",
   "metadata": {},
   "outputs": [
    {
     "data": {
      "text/plain": [
       "True"
      ]
     },
     "execution_count": 113,
     "metadata": {},
     "output_type": "execute_result"
    }
   ],
   "source": [
    "torch.equal(torch.tile(tensor_3, (1, 2)),\n",
    "            torch.tile(tensor_3, (2,)))"
   ]
  },
  {
   "cell_type": "code",
   "execution_count": 114,
   "id": "d89f675b",
   "metadata": {},
   "outputs": [
    {
     "data": {
      "text/plain": [
       "True"
      ]
     },
     "execution_count": 114,
     "metadata": {},
     "output_type": "execute_result"
    }
   ],
   "source": [
    "torch.equal(torch.tile(tensor_3, (1, 2)),\n",
    "            torch.hstack((tensor_3, tensor_3)))"
   ]
  },
  {
   "cell_type": "code",
   "execution_count": 436,
   "id": "9f248730",
   "metadata": {},
   "outputs": [
    {
     "data": {
      "text/plain": [
       "tensor([[1, 2, 3, 1, 2, 3],\n",
       "        [4, 5, 6, 4, 5, 6],\n",
       "        [1, 2, 3, 1, 2, 3],\n",
       "        [4, 5, 6, 4, 5, 6]])"
      ]
     },
     "execution_count": 436,
     "metadata": {},
     "output_type": "execute_result"
    }
   ],
   "source": [
    "torch.tile(tensor_3, (2, 2))"
   ]
  },
  {
   "cell_type": "markdown",
   "id": "3b330b46",
   "metadata": {},
   "source": [
    "## 切块(chunk)"
   ]
  },
  {
   "cell_type": "markdown",
   "id": "41845f41",
   "metadata": {},
   "source": [
    "### torch.index_select\n",
    "torch.index_select(input, dim, index, \\*, out=None)  \n",
    "**从tensor的dim维中，取指定index的所有元素**"
   ]
  },
  {
   "cell_type": "markdown",
   "id": "d634bda0",
   "metadata": {},
   "source": [
    "* 二维"
   ]
  },
  {
   "cell_type": "code",
   "execution_count": 116,
   "id": "4b45f0a2",
   "metadata": {},
   "outputs": [],
   "source": [
    "tensor_1 = torch.arange(1, 10).reshape(3, 3)"
   ]
  },
  {
   "cell_type": "code",
   "execution_count": 117,
   "id": "c53152f3",
   "metadata": {},
   "outputs": [
    {
     "data": {
      "text/plain": [
       "tensor([[1, 2, 3],\n",
       "        [4, 5, 6],\n",
       "        [7, 8, 9]])"
      ]
     },
     "execution_count": 117,
     "metadata": {},
     "output_type": "execute_result"
    }
   ],
   "source": [
    "tensor_1"
   ]
  },
  {
   "cell_type": "code",
   "execution_count": null,
   "id": "7b0ae2e7",
   "metadata": {},
   "outputs": [],
   "source": [
    "\"\"\"\n",
    "torch.index_select(tensor_1, dim=0, index=torch.tensor(1))\n",
    "torch.index_select(tensor_1, dim=0, index=torch.tensor([1])\n",
    "\"\"\""
   ]
  },
  {
   "cell_type": "code",
   "execution_count": 123,
   "id": "648ac049",
   "metadata": {},
   "outputs": [
    {
     "data": {
      "text/plain": [
       "tensor([[4, 5, 6]])"
      ]
     },
     "execution_count": 123,
     "metadata": {},
     "output_type": "execute_result"
    }
   ],
   "source": [
    "torch.index_select(tensor_1, dim=0, index=torch.tensor(1))"
   ]
  },
  {
   "cell_type": "code",
   "execution_count": 124,
   "id": "23b977f7",
   "metadata": {},
   "outputs": [
    {
     "data": {
      "text/plain": [
       "True"
      ]
     },
     "execution_count": 124,
     "metadata": {},
     "output_type": "execute_result"
    }
   ],
   "source": [
    "torch.equal(torch.index_select(tensor_1, dim=0, index=torch.tensor(1)),\n",
    "            torch.index_select(tensor_1, dim=0, index=torch.tensor([1])))"
   ]
  },
  {
   "cell_type": "code",
   "execution_count": 120,
   "id": "f762ac4e",
   "metadata": {},
   "outputs": [
    {
     "data": {
      "text/plain": [
       "tensor([[7, 8, 9],\n",
       "        [4, 5, 6],\n",
       "        [7, 8, 9]])"
      ]
     },
     "execution_count": 120,
     "metadata": {},
     "output_type": "execute_result"
    }
   ],
   "source": [
    "torch.index_select(tensor_1, dim=0, index=torch.tensor([2, 1, 2]))"
   ]
  },
  {
   "cell_type": "code",
   "execution_count": 121,
   "id": "93d7d545",
   "metadata": {},
   "outputs": [
    {
     "data": {
      "text/plain": [
       "tensor([[2],\n",
       "        [5],\n",
       "        [8]])"
      ]
     },
     "execution_count": 121,
     "metadata": {},
     "output_type": "execute_result"
    }
   ],
   "source": [
    "torch.index_select(tensor_1, dim=1, index=torch.tensor(1))"
   ]
  },
  {
   "cell_type": "code",
   "execution_count": 122,
   "id": "c4e1839b",
   "metadata": {},
   "outputs": [
    {
     "data": {
      "text/plain": [
       "tensor([[3, 2, 3],\n",
       "        [6, 5, 6],\n",
       "        [9, 8, 9]])"
      ]
     },
     "execution_count": 122,
     "metadata": {},
     "output_type": "execute_result"
    }
   ],
   "source": [
    "torch.index_select(tensor_1, dim=1, index=torch.tensor([2, 1, 2]))"
   ]
  },
  {
   "cell_type": "markdown",
   "id": "a54dda29",
   "metadata": {},
   "source": [
    "* 三维"
   ]
  },
  {
   "cell_type": "code",
   "execution_count": 491,
   "id": "3d810826",
   "metadata": {},
   "outputs": [],
   "source": [
    "tensor_2 = torch.arange(1, 25).reshape(2, 3, 4)"
   ]
  },
  {
   "cell_type": "code",
   "execution_count": 492,
   "id": "130dfe9a",
   "metadata": {},
   "outputs": [
    {
     "data": {
      "text/plain": [
       "tensor([[[ 1,  2,  3,  4],\n",
       "         [ 5,  6,  7,  8],\n",
       "         [ 9, 10, 11, 12]],\n",
       "\n",
       "        [[13, 14, 15, 16],\n",
       "         [17, 18, 19, 20],\n",
       "         [21, 22, 23, 24]]])"
      ]
     },
     "execution_count": 492,
     "metadata": {},
     "output_type": "execute_result"
    }
   ],
   "source": [
    "tensor_2"
   ]
  },
  {
   "cell_type": "code",
   "execution_count": 493,
   "id": "0c156457",
   "metadata": {},
   "outputs": [
    {
     "data": {
      "text/plain": [
       "tensor([[[13, 14, 15, 16],\n",
       "         [17, 18, 19, 20],\n",
       "         [21, 22, 23, 24]]])"
      ]
     },
     "execution_count": 493,
     "metadata": {},
     "output_type": "execute_result"
    }
   ],
   "source": [
    "torch.index_select(tensor_2, dim=0, index=torch.tensor(1))"
   ]
  },
  {
   "cell_type": "code",
   "execution_count": 494,
   "id": "c1ecc9c8",
   "metadata": {},
   "outputs": [
    {
     "data": {
      "text/plain": [
       "tensor([[[ 5,  6,  7,  8]],\n",
       "\n",
       "        [[17, 18, 19, 20]]])"
      ]
     },
     "execution_count": 494,
     "metadata": {},
     "output_type": "execute_result"
    }
   ],
   "source": [
    "torch.index_select(tensor_2, dim=1, index=torch.tensor(1))"
   ]
  },
  {
   "cell_type": "code",
   "execution_count": 495,
   "id": "8b7a223f",
   "metadata": {},
   "outputs": [
    {
     "data": {
      "text/plain": [
       "tensor([[[ 2],\n",
       "         [ 6],\n",
       "         [10]],\n",
       "\n",
       "        [[14],\n",
       "         [18],\n",
       "         [22]]])"
      ]
     },
     "execution_count": 495,
     "metadata": {},
     "output_type": "execute_result"
    }
   ],
   "source": [
    "torch.index_select(tensor_2, dim=2, index=torch.tensor(1))"
   ]
  },
  {
   "cell_type": "markdown",
   "id": "8cc2fc8c",
   "metadata": {},
   "source": [
    "### torch.narrow\n",
    "1. torch.narrow(input, dim, start, length)  \n",
    "2. torch.narrow_copy(input, dim, start, length, \\*, out=None)  \n",
    "**从tensor的dim维中，取[start, start + length)的所有元素**"
   ]
  },
  {
   "cell_type": "markdown",
   "id": "21639314",
   "metadata": {},
   "source": [
    "* 二维"
   ]
  },
  {
   "cell_type": "code",
   "execution_count": 496,
   "id": "68e0feb2",
   "metadata": {},
   "outputs": [
    {
     "data": {
      "text/plain": [
       "tensor([[4, 5, 6],\n",
       "        [7, 8, 9]])"
      ]
     },
     "execution_count": 496,
     "metadata": {},
     "output_type": "execute_result"
    }
   ],
   "source": [
    "torch.narrow(tensor_1, dim=0, start=1, length=2)"
   ]
  },
  {
   "cell_type": "code",
   "execution_count": 497,
   "id": "4c825125",
   "metadata": {},
   "outputs": [
    {
     "data": {
      "text/plain": [
       "tensor([[2, 3],\n",
       "        [5, 6],\n",
       "        [8, 9]])"
      ]
     },
     "execution_count": 497,
     "metadata": {},
     "output_type": "execute_result"
    }
   ],
   "source": [
    "torch.narrow(tensor_1, dim=1, start=1, length=2)"
   ]
  },
  {
   "cell_type": "markdown",
   "id": "f595caf8",
   "metadata": {},
   "source": [
    "* 三维"
   ]
  },
  {
   "cell_type": "code",
   "execution_count": 499,
   "id": "7df58a5a",
   "metadata": {},
   "outputs": [
    {
     "data": {
      "text/plain": [
       "tensor([[[ 5,  6,  7,  8],\n",
       "         [ 9, 10, 11, 12]],\n",
       "\n",
       "        [[17, 18, 19, 20],\n",
       "         [21, 22, 23, 24]]])"
      ]
     },
     "execution_count": 499,
     "metadata": {},
     "output_type": "execute_result"
    }
   ],
   "source": [
    "torch.narrow(tensor_2, dim=1, start=1, length=2)"
   ]
  },
  {
   "cell_type": "code",
   "execution_count": 500,
   "id": "760ecb1c",
   "metadata": {},
   "outputs": [
    {
     "data": {
      "text/plain": [
       "tensor([[[ 2,  3],\n",
       "         [ 6,  7],\n",
       "         [10, 11]],\n",
       "\n",
       "        [[14, 15],\n",
       "         [18, 19],\n",
       "         [22, 23]]])"
      ]
     },
     "execution_count": 500,
     "metadata": {},
     "output_type": "execute_result"
    }
   ],
   "source": [
    "torch.narrow(tensor_2, dim=2, start=1, length=2)"
   ]
  },
  {
   "cell_type": "markdown",
   "id": "9c8d4ea0",
   "metadata": {},
   "source": [
    "### torch.unbind\n",
    "torch.unbind(input, dim=0)  \n",
    "**按指定维度dim切块**"
   ]
  },
  {
   "cell_type": "code",
   "execution_count": 250,
   "id": "ec386c62",
   "metadata": {},
   "outputs": [],
   "source": [
    "tensor_1 = torch.tensor([[1,2,3],[4,5,6]])"
   ]
  },
  {
   "cell_type": "code",
   "execution_count": 251,
   "id": "bafd1b47",
   "metadata": {},
   "outputs": [
    {
     "data": {
      "text/plain": [
       "(tensor([1, 2, 3]), tensor([4, 5, 6]))"
      ]
     },
     "execution_count": 251,
     "metadata": {},
     "output_type": "execute_result"
    }
   ],
   "source": [
    "torch.unbind(tensor_1, dim=0)"
   ]
  },
  {
   "cell_type": "code",
   "execution_count": 252,
   "id": "86a5c7a5",
   "metadata": {
    "scrolled": true
   },
   "outputs": [
    {
     "data": {
      "text/plain": [
       "(tensor([1, 4]), tensor([2, 5]), tensor([3, 6]))"
      ]
     },
     "execution_count": 252,
     "metadata": {},
     "output_type": "execute_result"
    }
   ],
   "source": [
    "torch.unbind(tensor_1, dim=1)"
   ]
  },
  {
   "cell_type": "markdown",
   "id": "5e084aff",
   "metadata": {},
   "source": [
    "### torch.split\n",
    "torch.split(tensor, split_size_or_sections, dim=0)  \n",
    "**按size切块**  \n",
    "let split_size_or_sections = $x$,  \n",
    "* if $x$ is int, 将tensor的dim维切分成若干块(chunk), 每块包含$x$个, 不足的放在最后一块;  \n",
    "* if $x = [x_1, x_2, \\dots, x_n]$, 将tensor的dim维切分成n个块(chunk), 第$i$个块包含$x_i$个"
   ]
  },
  {
   "cell_type": "code",
   "execution_count": 501,
   "id": "3dc4a948",
   "metadata": {},
   "outputs": [
    {
     "data": {
      "text/plain": [
       "tensor([[0, 1],\n",
       "        [2, 3],\n",
       "        [4, 5],\n",
       "        [6, 7],\n",
       "        [8, 9]])"
      ]
     },
     "execution_count": 501,
     "metadata": {},
     "output_type": "execute_result"
    }
   ],
   "source": [
    "tensor_1 = torch.arange(10).reshape(-1, 2)\n",
    "tensor_1"
   ]
  },
  {
   "cell_type": "code",
   "execution_count": 502,
   "id": "67328a8b",
   "metadata": {},
   "outputs": [
    {
     "data": {
      "text/plain": [
       "(tensor([[0, 1],\n",
       "         [2, 3]]),\n",
       " tensor([[4, 5],\n",
       "         [6, 7]]),\n",
       " tensor([[8, 9]]))"
      ]
     },
     "execution_count": 502,
     "metadata": {},
     "output_type": "execute_result"
    }
   ],
   "source": [
    "torch.split(tensor_1, 2, dim=0)"
   ]
  },
  {
   "cell_type": "code",
   "execution_count": 504,
   "id": "2d295628",
   "metadata": {},
   "outputs": [
    {
     "data": {
      "text/plain": [
       "(tensor([[0, 1]]),\n",
       " tensor([[2, 3],\n",
       "         [4, 5]]),\n",
       " tensor([[6, 7],\n",
       "         [8, 9]]))"
      ]
     },
     "execution_count": 504,
     "metadata": {},
     "output_type": "execute_result"
    }
   ],
   "source": [
    "torch.split(tensor_1, [1,2,2], dim=0)"
   ]
  },
  {
   "cell_type": "markdown",
   "id": "55e5bd31",
   "metadata": {},
   "source": [
    "### torch.tensor_split(input, indices_or_sections, dim=0)\n",
    "**按索引切块**"
   ]
  },
  {
   "cell_type": "code",
   "execution_count": 130,
   "id": "5372f689",
   "metadata": {},
   "outputs": [
    {
     "data": {
      "text/plain": [
       "tensor([[ 0,  1],\n",
       "        [ 2,  3],\n",
       "        [ 4,  5],\n",
       "        [ 6,  7],\n",
       "        [ 8,  9],\n",
       "        [10, 11],\n",
       "        [12, 13],\n",
       "        [14, 15]])"
      ]
     },
     "execution_count": 130,
     "metadata": {},
     "output_type": "execute_result"
    }
   ],
   "source": [
    "tensor_1 = torch.arange(16).reshape(-1, 2)\n",
    "tensor_1"
   ]
  },
  {
   "cell_type": "markdown",
   "id": "4ccf6410",
   "metadata": {},
   "source": [
    "let split_size_or_sections = $x$,<br>\n",
    "* if $x$ is int or torch.tensor(int), 将tensor的dim维切分成$x$块"
   ]
  },
  {
   "cell_type": "code",
   "execution_count": 133,
   "id": "2f94be00",
   "metadata": {},
   "outputs": [
    {
     "data": {
      "text/plain": [
       "(tensor([[0, 1],\n",
       "         [2, 3],\n",
       "         [4, 5]]),\n",
       " tensor([[ 6,  7],\n",
       "         [ 8,  9],\n",
       "         [10, 11]]),\n",
       " tensor([[12, 13],\n",
       "         [14, 15]]))"
      ]
     },
     "execution_count": 133,
     "metadata": {},
     "output_type": "execute_result"
    }
   ],
   "source": [
    "torch.tensor_split(tensor_1, 3, dim=0)"
   ]
  },
  {
   "cell_type": "code",
   "execution_count": 134,
   "id": "3b735f7b",
   "metadata": {},
   "outputs": [
    {
     "data": {
      "text/plain": [
       "(tensor([[0, 1],\n",
       "         [2, 3],\n",
       "         [4, 5]]),\n",
       " tensor([[ 6,  7],\n",
       "         [ 8,  9],\n",
       "         [10, 11]]),\n",
       " tensor([[12, 13],\n",
       "         [14, 15]]))"
      ]
     },
     "execution_count": 134,
     "metadata": {},
     "output_type": "execute_result"
    }
   ],
   "source": [
    "torch.tensor_split(tensor_1, torch.tensor(3), dim=0)"
   ]
  },
  {
   "cell_type": "markdown",
   "id": "dd0c3904",
   "metadata": {},
   "source": [
    "* if $x$ is list(int), tuple(int) or torch.tensor(list(int)), 将tensor的dim维按照int的索引切分成若干块"
   ]
  },
  {
   "cell_type": "code",
   "execution_count": 534,
   "id": "be6266a6",
   "metadata": {},
   "outputs": [
    {
     "data": {
      "text/plain": [
       "(tensor([[0, 1],\n",
       "         [2, 3],\n",
       "         [4, 5]]),\n",
       " tensor([[ 6,  7],\n",
       "         [ 8,  9],\n",
       "         [10, 11],\n",
       "         [12, 13],\n",
       "         [14, 15]]))"
      ]
     },
     "execution_count": 534,
     "metadata": {},
     "output_type": "execute_result"
    }
   ],
   "source": [
    "torch.tensor_split(tensor_1, [3], dim=0)"
   ]
  },
  {
   "cell_type": "code",
   "execution_count": 535,
   "id": "a859d151",
   "metadata": {},
   "outputs": [
    {
     "data": {
      "text/plain": [
       "(tensor([[0, 1],\n",
       "         [2, 3],\n",
       "         [4, 5]]),\n",
       " tensor([[ 6,  7],\n",
       "         [ 8,  9],\n",
       "         [10, 11]]),\n",
       " tensor([[12, 13],\n",
       "         [14, 15]]))"
      ]
     },
     "execution_count": 535,
     "metadata": {},
     "output_type": "execute_result"
    }
   ],
   "source": [
    "torch.tensor_split(tensor_1, (3), dim=0)"
   ]
  },
  {
   "cell_type": "code",
   "execution_count": 536,
   "id": "269e0f27",
   "metadata": {},
   "outputs": [
    {
     "data": {
      "text/plain": [
       "(tensor([[0, 1],\n",
       "         [2, 3],\n",
       "         [4, 5]]),\n",
       " tensor([[ 6,  7],\n",
       "         [ 8,  9],\n",
       "         [10, 11],\n",
       "         [12, 13],\n",
       "         [14, 15]]))"
      ]
     },
     "execution_count": 536,
     "metadata": {},
     "output_type": "execute_result"
    }
   ],
   "source": [
    "torch.tensor_split(tensor_1, torch.tensor([3]), dim=0)"
   ]
  },
  {
   "cell_type": "code",
   "execution_count": 537,
   "id": "58ccaf85",
   "metadata": {},
   "outputs": [
    {
     "data": {
      "text/plain": [
       "(tensor([], size=(0, 2), dtype=torch.int64),\n",
       " tensor([[0, 1],\n",
       "         [2, 3],\n",
       "         [4, 5]]),\n",
       " tensor([[ 6,  7],\n",
       "         [ 8,  9],\n",
       "         [10, 11],\n",
       "         [12, 13],\n",
       "         [14, 15]]))"
      ]
     },
     "execution_count": 537,
     "metadata": {},
     "output_type": "execute_result"
    }
   ],
   "source": [
    "torch.tensor_split(tensor_1, [0, 3], dim=0)"
   ]
  },
  {
   "cell_type": "code",
   "execution_count": 538,
   "id": "d2364846",
   "metadata": {},
   "outputs": [
    {
     "data": {
      "text/plain": [
       "(tensor([], size=(0, 2), dtype=torch.int64),\n",
       " tensor([[0, 1],\n",
       "         [2, 3],\n",
       "         [4, 5]]),\n",
       " tensor([[ 6,  7],\n",
       "         [ 8,  9],\n",
       "         [10, 11],\n",
       "         [12, 13],\n",
       "         [14, 15]]))"
      ]
     },
     "execution_count": 538,
     "metadata": {},
     "output_type": "execute_result"
    }
   ],
   "source": [
    "torch.tensor_split(tensor_1, (0, 3), dim=0)"
   ]
  },
  {
   "cell_type": "code",
   "execution_count": 539,
   "id": "85e27ff4",
   "metadata": {},
   "outputs": [
    {
     "data": {
      "text/plain": [
       "(tensor([], size=(0, 2), dtype=torch.int64),\n",
       " tensor([[0, 1],\n",
       "         [2, 3],\n",
       "         [4, 5]]),\n",
       " tensor([[ 6,  7],\n",
       "         [ 8,  9],\n",
       "         [10, 11],\n",
       "         [12, 13],\n",
       "         [14, 15]]))"
      ]
     },
     "execution_count": 539,
     "metadata": {},
     "output_type": "execute_result"
    }
   ],
   "source": [
    "torch.tensor_split(tensor_1, torch.tensor([0, 3]), dim=0)"
   ]
  },
  {
   "cell_type": "markdown",
   "id": "879b3fdd",
   "metadata": {},
   "source": [
    "### torch.chunk\n",
    "torch.chunk(input, chunks, dim=0)  \n",
    "let chunks = $x$, $x$ is int, **将tensor的dim维切成$x$块**\n",
    "1. 如果沿着给定维度dim的张量大小可以被块整除，那么所有返回的块都将是相同的大小。\n",
    "2. 如果沿着给定维度dim的张量大小不能被块整除，那么除了最后一个块之外，所有返回的块都将是相同的大小。\n",
    "3. 如果不能进行这样的划分，则此函数可能返回少于指定数量的块。"
   ]
  },
  {
   "cell_type": "code",
   "execution_count": 541,
   "id": "3f592d45",
   "metadata": {},
   "outputs": [
    {
     "data": {
      "text/plain": [
       "tensor([[ 0,  1],\n",
       "        [ 2,  3],\n",
       "        [ 4,  5],\n",
       "        [ 6,  7],\n",
       "        [ 8,  9],\n",
       "        [10, 11],\n",
       "        [12, 13],\n",
       "        [14, 15]])"
      ]
     },
     "execution_count": 541,
     "metadata": {},
     "output_type": "execute_result"
    }
   ],
   "source": [
    "tensor_1 = torch.arange(16).reshape(-1, 2)\n",
    "tensor_1"
   ]
  },
  {
   "cell_type": "code",
   "execution_count": 547,
   "id": "59b0573b",
   "metadata": {},
   "outputs": [
    {
     "name": "stdout",
     "output_type": "stream",
     "text": [
      "\n",
      "chunks = 1\n",
      "tensor([[ 0,  1],\n",
      "        [ 2,  3],\n",
      "        [ 4,  5],\n",
      "        [ 6,  7],\n",
      "        [ 8,  9],\n",
      "        [10, 11],\n",
      "        [12, 13],\n",
      "        [14, 15]])\n",
      "\n",
      "chunks = 2\n",
      "tensor([[0, 1],\n",
      "        [2, 3],\n",
      "        [4, 5],\n",
      "        [6, 7]])\n",
      "tensor([[ 8,  9],\n",
      "        [10, 11],\n",
      "        [12, 13],\n",
      "        [14, 15]])\n",
      "\n",
      "chunks = 3\n",
      "tensor([[0, 1],\n",
      "        [2, 3],\n",
      "        [4, 5]])\n",
      "tensor([[ 6,  7],\n",
      "        [ 8,  9],\n",
      "        [10, 11]])\n",
      "tensor([[12, 13],\n",
      "        [14, 15]])\n",
      "\n",
      "chunks = 4\n",
      "tensor([[0, 1],\n",
      "        [2, 3]])\n",
      "tensor([[4, 5],\n",
      "        [6, 7]])\n",
      "tensor([[ 8,  9],\n",
      "        [10, 11]])\n",
      "tensor([[12, 13],\n",
      "        [14, 15]])\n",
      "\n",
      "chunks = 5\n",
      "tensor([[0, 1],\n",
      "        [2, 3]])\n",
      "tensor([[4, 5],\n",
      "        [6, 7]])\n",
      "tensor([[ 8,  9],\n",
      "        [10, 11]])\n",
      "tensor([[12, 13],\n",
      "        [14, 15]])\n",
      "\n",
      "chunks = 6\n",
      "tensor([[0, 1],\n",
      "        [2, 3]])\n",
      "tensor([[4, 5],\n",
      "        [6, 7]])\n",
      "tensor([[ 8,  9],\n",
      "        [10, 11]])\n",
      "tensor([[12, 13],\n",
      "        [14, 15]])\n",
      "\n",
      "chunks = 7\n",
      "tensor([[0, 1],\n",
      "        [2, 3]])\n",
      "tensor([[4, 5],\n",
      "        [6, 7]])\n",
      "tensor([[ 8,  9],\n",
      "        [10, 11]])\n",
      "tensor([[12, 13],\n",
      "        [14, 15]])\n",
      "\n",
      "chunks = 8\n",
      "tensor([[0, 1]])\n",
      "tensor([[2, 3]])\n",
      "tensor([[4, 5]])\n",
      "tensor([[6, 7]])\n",
      "tensor([[8, 9]])\n",
      "tensor([[10, 11]])\n",
      "tensor([[12, 13]])\n",
      "tensor([[14, 15]])\n"
     ]
    }
   ],
   "source": [
    "for chunks in range(1,tensor_1.size(0)+1):\n",
    "    print(\"\\nchunks =\", chunks)\n",
    "    for elem in torch.chunk(tensor_1, chunks, dim=0):\n",
    "        print(elem)"
   ]
  }
 ],
 "metadata": {
  "kernelspec": {
   "display_name": "Python 3 (ipykernel)",
   "language": "python",
   "name": "python3"
  },
  "language_info": {
   "codemirror_mode": {
    "name": "ipython",
    "version": 3
   },
   "file_extension": ".py",
   "mimetype": "text/x-python",
   "name": "python",
   "nbconvert_exporter": "python",
   "pygments_lexer": "ipython3",
   "version": "3.9.7"
  },
  "toc": {
   "base_numbering": 1,
   "nav_menu": {},
   "number_sections": true,
   "sideBar": true,
   "skip_h1_title": false,
   "title_cell": "Table of Contents",
   "title_sidebar": "Contents",
   "toc_cell": false,
   "toc_position": {
    "height": "calc(100% - 180px)",
    "left": "10px",
    "top": "150px",
    "width": "286.45px"
   },
   "toc_section_display": true,
   "toc_window_display": true
  }
 },
 "nbformat": 4,
 "nbformat_minor": 5
}
