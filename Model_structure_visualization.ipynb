{
 "cells": [
  {
   "cell_type": "markdown",
   "id": "e57e6f88",
   "metadata": {},
   "source": [
    "# temp\n",
    "# temp\n",
    "# temp\n",
    "# temp"
   ]
  },
  {
   "cell_type": "markdown",
   "id": "96407e32",
   "metadata": {},
   "source": [
    "refer to:\n",
    "- [超实用的7种 pytorch 网络可视化方法](https://blog.csdn.net/Wenyuanbo/article/details/118937790)\n",
    "- https://bhosmer.github.io/mm/ref.html todo\n",
    "- [如何可视化 PyTorch 模型](https://dl.ypw.io/visualize-pytorch-model/)\n",
    "\n",
    "工具 | 是否可用| 更新频率 | 优点 | 缺点\n",
    ":- | :- | :-  | :-  | :- \n",
    "Netron | 可用 | 高 | 在线可视化，不用安装 | 需要保存为 onnx 格式，看不到输入输出的尺寸\n",
    "tensorboard | 可用 | 高 | 可交互式展开，可视化效果好 | 需要安装 tensorboard，并且启动后台服务\n",
    "torchview | 可用 | 1 年 | 可以看到每一层的输入输出尺寸 | 需要安装 torchview 和 graphviz\n",
    "torchviz | 可用 | 3 年 | 无 | 看到的是反向传播的路径，不是模型结构\n",
    "print 大法 | 永久可用 | 无 | 永久可用，不会失效 | 只有文字，无法展示跨层连接\n",
    "tensorwatch | 失效 | 4 年 | 无 | 无\n",
    "hiddenlayer | 失效 | 4 年 | 无 | 无"
   ]
  },
  {
   "cell_type": "markdown",
   "id": "99c442bf",
   "metadata": {},
   "source": [
    "# [torchview](https://github.com/mert-kurttutan/torchview)\n",
    "- pip install graphviz\n",
    "- apt-get install graphviz"
   ]
  },
  {
   "cell_type": "markdown",
   "id": "70820d27",
   "metadata": {},
   "source": [
    "# [TensorWatch](https://github.com/microsoft/tensorwatch)\n",
    "- pip install tensorwatch\n",
    "- [pytorch 网络可视化(三): Jupyter Notebook + tensorwatch](https://blog.csdn.net/Wenyuanbo/article/details/118579431)\n"
   ]
  },
  {
   "cell_type": "markdown",
   "id": "6ec243f5",
   "metadata": {},
   "source": [
    "# [tensorboardX](https://github.com/lanpa/tensorboardX)\n",
    "- pip install tensorboardX\n",
    "- [pytorch 网络可视化(四)：tensorboardX](https://blog.csdn.net/Wenyuanbo/article/details/118605418)\n"
   ]
  },
  {
   "cell_type": "markdown",
   "id": "f7a7cabb",
   "metadata": {},
   "source": [
    "# [Netron](https://github.com/lutzroeder/Netron)\n",
    "- pip install netron\n",
    "- [pytorch 网络可视化(五): netron](https://blog.csdn.net/Wenyuanbo/article/details/118736258)\n",
    "- [pytorch可视化工具netron](https://www.cnblogs.com/jiangnanyanyuchen/p/13344217.html)\n",
    "- [PyTorch 神经网络模型可视化(Netron)](https://developer.aliyun.com/article/1300462)"
   ]
  },
  {
   "cell_type": "markdown",
   "id": "34b98869",
   "metadata": {},
   "source": [
    "# [PyTorchViz](https://github.com/szagoruyko/pytorchviz)\n",
    "- apt-get install graphviz\n",
    "- pip install torchviz"
   ]
  },
  {
   "cell_type": "markdown",
   "id": "29db2f79",
   "metadata": {},
   "source": [
    "## [HiddenLayer](https://github.com/waleedka/hiddenlayer)\n",
    "- conda install graphviz python-graphviz\n",
    "- pip install hiddenlayer\n",
    "- [pytorch 网络可视化(六): hiddenlayer](https://blog.csdn.net/Wenyuanbo/article/details/118765044)"
   ]
  },
  {
   "cell_type": "markdown",
   "id": "f33b9b32",
   "metadata": {},
   "source": [
    "# print\n",
    "## [torchsummaryX](https://github.com/nmhkahn/torchsummaryX)\n",
    "- pip install torchsummaryX\n",
    "\n",
    "### [pytorch-summary](https://github.com/sksq96/pytorch-summary)\n",
    "- pip install torchsummary\n",
    "- [pytorch 网络可视化(一): torchsummary](https://blog.csdn.net/Wenyuanbo/article/details/118514709)\n",
    "\n",
    "## [torchinfo](https://github.com/TylerYep/torchinfo)\n",
    "- conda install -c conda-forge torchinfo"
   ]
  },
  {
   "cell_type": "code",
   "execution_count": null,
   "id": "d34d14c6",
   "metadata": {},
   "outputs": [],
   "source": []
  }
 ],
 "metadata": {
  "kernelspec": {
   "display_name": "Python 3 (ipykernel)",
   "language": "python",
   "name": "python3"
  },
  "language_info": {
   "codemirror_mode": {
    "name": "ipython",
    "version": 3
   },
   "file_extension": ".py",
   "mimetype": "text/x-python",
   "name": "python",
   "nbconvert_exporter": "python",
   "pygments_lexer": "ipython3",
   "version": "3.9.7"
  },
  "toc": {
   "base_numbering": 1,
   "nav_menu": {},
   "number_sections": true,
   "sideBar": true,
   "skip_h1_title": false,
   "title_cell": "Table of Contents",
   "title_sidebar": "Contents",
   "toc_cell": false,
   "toc_position": {
    "height": "calc(100% - 180px)",
    "left": "10px",
    "top": "150px",
    "width": "214.795px"
   },
   "toc_section_display": true,
   "toc_window_display": true
  }
 },
 "nbformat": 4,
 "nbformat_minor": 5
}
